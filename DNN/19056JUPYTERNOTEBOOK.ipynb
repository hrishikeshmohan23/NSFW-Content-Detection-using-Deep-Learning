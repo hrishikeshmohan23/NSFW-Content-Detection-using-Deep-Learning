{
 "cells": [
  {
   "cell_type": "markdown",
   "metadata": {
    "id": "mvXtf5m1y5TX"
   },
   "source": [
    "Name: T R Hari Subramaniam\n",
    "\n",
    "Roll: AM.EN.U4CSE19056"
   ]
  },
  {
   "cell_type": "code",
   "execution_count": 1,
   "metadata": {
    "id": "z7aO01i2VnPY"
   },
   "outputs": [],
   "source": [
    "import numpy as np\n",
    "import pandas as pd\n",
    "import matplotlib.pyplot as plt\n",
    "!pip install jovian opendatasets --upgrade --quiet\n",
    "import opendatasets as od"
   ]
  },
  {
   "cell_type": "code",
   "execution_count": 2,
   "metadata": {
    "id": "g8W0E_XeWCqM"
   },
   "outputs": [],
   "source": [
    "dataset_url = 'https://www.kaggle.com/omeret/not-safe-for-work'"
   ]
  },
  {
   "cell_type": "code",
   "execution_count": 3,
   "metadata": {
    "colab": {
     "base_uri": "https://localhost:8080/"
    },
    "id": "RXmtbyCdWJGu",
    "outputId": "483c73d2-da44-4894-ed82-22eb3c6e047f"
   },
   "outputs": [
    {
     "name": "stdout",
     "output_type": "stream",
     "text": [
      "Skipping, found downloaded files in \"./not-safe-for-work\" (use force=True to force download)\n"
     ]
    }
   ],
   "source": [
    "!pip install jovian opendatasets --upgrade --quiet\n",
    "import opendatasets as od\n",
    "od.download(dataset_url)"
   ]
  },
  {
   "cell_type": "code",
   "execution_count": 4,
   "metadata": {
    "id": "Qf35qnUKWSM_"
   },
   "outputs": [],
   "source": [
    "import os\n",
    "import torch\n",
    "import torchvision\n",
    "import tarfile\n",
    "from torchvision.datasets.utils import download_url\n",
    "from torch.utils.data import random_split\n",
    "import torchvision.transforms as transforms"
   ]
  },
  {
   "cell_type": "code",
   "execution_count": 5,
   "metadata": {
    "colab": {
     "base_uri": "https://localhost:8080/"
    },
    "id": "UEy-QdlGa52V",
    "outputId": "bb8452d8-5c09-4221-a7a9-759bef30fadf"
   },
   "outputs": [
    {
     "name": "stdout",
     "output_type": "stream",
     "text": [
      "['test', 'train']\n",
      "['nsfw', 'sfw']\n"
     ]
    }
   ],
   "source": [
    "data_dir = './not-safe-for-work'\n",
    "\n",
    "print(os.listdir(data_dir))\n",
    "classes = os.listdir(data_dir + \"/train\")\n",
    "print(classes)"
   ]
  },
  {
   "cell_type": "code",
   "execution_count": 6,
   "metadata": {
    "id": "Jz3oWFEqbC9f"
   },
   "outputs": [],
   "source": [
    "mean = torch.tensor([0.5, 0.5, 0.5], dtype=torch.float32)\n",
    "std = torch.tensor([0.229, 0.224, 0.225], dtype=torch.float32)\n",
    "\n",
    "transform = transforms.Compose([\n",
    "    transforms.RandomHorizontalFlip(p=0.3),\n",
    "    transforms.RandomRotation(degrees=40),\n",
    "\n",
    "    transforms.Resize(256),\n",
    "    transforms.CenterCrop(256),\n",
    "\n",
    "    transforms.ToTensor(),\n",
    "    transforms.Normalize(mean=mean, std=std)\n",
    "])"
   ]
  },
  {
   "cell_type": "code",
   "execution_count": 7,
   "metadata": {
    "id": "zqsvBWZkbGNH"
   },
   "outputs": [],
   "source": [
    "from torchvision.datasets import ImageFolder\n",
    "from torchvision.transforms import ToTensor"
   ]
  },
  {
   "cell_type": "code",
   "execution_count": 8,
   "metadata": {
    "id": "kpBxBPtgbIgv"
   },
   "outputs": [],
   "source": [
    "trainset = ImageFolder(data_dir+'/train', transform=transform)\n",
    "testset = ImageFolder(data_dir+'/test', transform=transform)"
   ]
  },
  {
   "cell_type": "code",
   "execution_count": 9,
   "metadata": {
    "colab": {
     "base_uri": "https://localhost:8080/"
    },
    "id": "tFTKVHewbU3H",
    "outputId": "fc4ded58-1584-4e75-f98d-afcac95edb60"
   },
   "outputs": [
    {
     "data": {
      "text/plain": [
       "Dataset ImageFolder\n",
       "    Number of datapoints: 98531\n",
       "    Root location: ./not-safe-for-work/train\n",
       "    StandardTransform\n",
       "Transform: Compose(\n",
       "               RandomHorizontalFlip(p=0.3)\n",
       "               RandomRotation(degrees=[-40.0, 40.0], interpolation=nearest, expand=False, fill=0)\n",
       "               Resize(size=256, interpolation=bilinear, max_size=None, antialias=None)\n",
       "               CenterCrop(size=(256, 256))\n",
       "               ToTensor()\n",
       "               Normalize(mean=tensor([0.5000, 0.5000, 0.5000]), std=tensor([0.2290, 0.2240, 0.2250]))\n",
       "           )"
      ]
     },
     "execution_count": 9,
     "metadata": {},
     "output_type": "execute_result"
    }
   ],
   "source": [
    "trainset"
   ]
  },
  {
   "cell_type": "code",
   "execution_count": 10,
   "metadata": {
    "id": "XK4uRXMLbeCv"
   },
   "outputs": [],
   "source": [
    "trainset_subset = torch.utils.data.Subset(trainset, np.random.choice(len(trainset), 5000, replace=False))\n",
    "testset_subset = torch.utils.data.Subset(testset, np.random.choice(len(testset), 1000, replace=False))"
   ]
  },
  {
   "cell_type": "code",
   "execution_count": 11,
   "metadata": {
    "colab": {
     "base_uri": "https://localhost:8080/"
    },
    "id": "ep88V5sYboY-",
    "outputId": "d09f5537-8a2d-4cd5-d3fa-758825e27509"
   },
   "outputs": [
    {
     "name": "stdout",
     "output_type": "stream",
     "text": [
      "torch.Size([3, 256, 256]) 0\n"
     ]
    },
    {
     "data": {
      "text/plain": [
       "tensor([[[-2.1834, -2.1834, -2.1834,  ...,  1.7382,  1.7553,  1.7724],\n",
       "         [-2.1834, -2.1834, -2.1834,  ...,  1.7553,  1.7724,  1.7724],\n",
       "         [-2.1834, -2.1834, -2.1834,  ...,  1.7724,  1.7724,  1.7724],\n",
       "         ...,\n",
       "         [ 1.6183,  1.6012,  1.6183,  ..., -2.1834, -2.1834, -2.1834],\n",
       "         [ 1.6354,  1.6012,  1.6183,  ..., -2.1834, -2.1834, -2.1834],\n",
       "         [ 1.6354,  1.6012,  1.5840,  ..., -2.1834, -2.1834, -2.1834]],\n",
       "\n",
       "        [[-2.2321, -2.2321, -2.2321,  ...,  1.4443,  1.4443,  1.4268],\n",
       "         [-2.2321, -2.2321, -2.2321,  ...,  1.4268,  1.4268,  1.4268],\n",
       "         [-2.2321, -2.2321, -2.2321,  ...,  1.4268,  1.4268,  1.4268],\n",
       "         ...,\n",
       "         [ 0.4814,  0.4814,  0.4989,  ..., -2.2321, -2.2321, -2.2321],\n",
       "         [ 0.4814,  0.4639,  0.4989,  ..., -2.2321, -2.2321, -2.2321],\n",
       "         [ 0.4989,  0.4814,  0.4639,  ..., -2.2321, -2.2321, -2.2321]],\n",
       "\n",
       "        [[-2.2222, -2.2222, -2.2222,  ...,  1.1939,  1.1939,  1.1939],\n",
       "         [-2.2222, -2.2222, -2.2222,  ...,  1.1939,  1.1939,  1.1939],\n",
       "         [-2.2222, -2.2222, -2.2222,  ...,  1.1939,  1.1939,  1.1939],\n",
       "         ...,\n",
       "         [-0.1307, -0.1307, -0.1133,  ..., -2.2222, -2.2222, -2.2222],\n",
       "         [-0.1307, -0.1481, -0.1133,  ..., -2.2222, -2.2222, -2.2222],\n",
       "         [-0.1307, -0.1481, -0.1481,  ..., -2.2222, -2.2222, -2.2222]]])"
      ]
     },
     "execution_count": 11,
     "metadata": {},
     "output_type": "execute_result"
    }
   ],
   "source": [
    "img, label = trainset_subset[0]\n",
    "print(img.shape, label)\n",
    "img"
   ]
  },
  {
   "cell_type": "code",
   "execution_count": 12,
   "metadata": {
    "id": "w2pY1FMJbwE2"
   },
   "outputs": [],
   "source": [
    "train_dataloader = torch.utils.data.DataLoader(\n",
    "    dataset=trainset_subset,\n",
    "    batch_size=16,\n",
    "    shuffle=False,\n",
    "    num_workers=2\n",
    ")"
   ]
  },
  {
   "cell_type": "code",
   "execution_count": 13,
   "metadata": {
    "id": "KbA3hKNpdg0Q"
   },
   "outputs": [],
   "source": [
    "test_dataloader = torch.utils.data.DataLoader(\n",
    "    dataset=testset_subset,\n",
    "    batch_size=16,\n",
    "    shuffle=False,\n",
    "    num_workers=2\n",
    ")"
   ]
  },
  {
   "cell_type": "markdown",
   "metadata": {
    "id": "hjzoZ62Bg_-x"
   },
   "source": [
    "Hidden Layers, Activation Functions and Non-Linearity"
   ]
  },
  {
   "cell_type": "code",
   "execution_count": 14,
   "metadata": {
    "id": "sXMq2Hg7XCZq"
   },
   "outputs": [],
   "source": [
    "input_size = 65536*3\n",
    "hidden_size = 500 \n",
    "num_classes = 2\n",
    "num_epochs = 10\n",
    "batch_size = 100\n",
    "learning_rate = 0.001 "
   ]
  },
  {
   "cell_type": "code",
   "execution_count": 15,
   "metadata": {
    "id": "JOPgZ6WJ8VF8"
   },
   "outputs": [],
   "source": [
    "device = torch.device('cuda' if torch.cuda.is_available() else 'cpu')"
   ]
  },
  {
   "cell_type": "code",
   "execution_count": 16,
   "metadata": {
    "id": "wcOnEPSJhCHU"
   },
   "outputs": [],
   "source": [
    "import torch.nn as nn"
   ]
  },
  {
   "cell_type": "code",
   "execution_count": 17,
   "metadata": {
    "id": "HcLJrQkagkGz"
   },
   "outputs": [],
   "source": [
    "class NeuralNet1(nn.Module):\n",
    "    def __init__(self, input_size, hidden_size, num_classes):\n",
    "        super(NeuralNet1, self).__init__()\n",
    "        self.input_size = input_size\n",
    "        self.l1 = nn.Linear(input_size, hidden_size) \n",
    "        self.LogSigmoid = nn.LogSigmoid()\n",
    "        self.l2 = nn.Linear(hidden_size, num_classes)  \n",
    "    \n",
    "    def forward(self, x):\n",
    "        out = self.l1(x)\n",
    "        out = self.LogSigmoid(out)\n",
    "        out = self.l2(out)\n",
    "        # no activation and no softmax at the end\n",
    "        return out\n",
    "\n",
    "model1 = NeuralNet1(input_size, hidden_size, num_classes).to(device)"
   ]
  },
  {
   "cell_type": "code",
   "execution_count": 18,
   "metadata": {
    "id": "_RlNUdy4jCov"
   },
   "outputs": [],
   "source": [
    "# Loss and optimizer\n",
    "criterion = nn.CrossEntropyLoss()\n",
    "optimizer = torch.optim.SGD(model1.parameters(), lr=learning_rate) "
   ]
  },
  {
   "cell_type": "code",
   "execution_count": 19,
   "metadata": {
    "colab": {
     "base_uri": "https://localhost:8080/"
    },
    "id": "SbAyiDSLxw1B",
    "outputId": "b8041662-416e-4f2d-bcc1-68b823bf982d"
   },
   "outputs": [
    {
     "name": "stdout",
     "output_type": "stream",
     "text": [
      "Epoch [1/10], Step [100/313], Loss: 0.5077\n",
      "Epoch [1/10], Step [200/313], Loss: 0.5381\n",
      "Epoch [1/10], Step [300/313], Loss: 0.6607\n",
      "Epoch [2/10], Step [100/313], Loss: 0.6330\n",
      "Epoch [2/10], Step [200/313], Loss: 0.3699\n",
      "Epoch [2/10], Step [300/313], Loss: 0.5469\n",
      "Epoch [3/10], Step [100/313], Loss: 0.6339\n",
      "Epoch [3/10], Step [200/313], Loss: 0.3793\n",
      "Epoch [3/10], Step [300/313], Loss: 0.6534\n",
      "Epoch [4/10], Step [100/313], Loss: 0.4161\n",
      "Epoch [4/10], Step [200/313], Loss: 0.3955\n",
      "Epoch [4/10], Step [300/313], Loss: 0.7184\n",
      "Epoch [5/10], Step [100/313], Loss: 0.5810\n",
      "Epoch [5/10], Step [200/313], Loss: 0.3445\n",
      "Epoch [5/10], Step [300/313], Loss: 0.5548\n",
      "Epoch [6/10], Step [100/313], Loss: 0.4220\n",
      "Epoch [6/10], Step [200/313], Loss: 0.4168\n",
      "Epoch [6/10], Step [300/313], Loss: 0.6084\n",
      "Epoch [7/10], Step [100/313], Loss: 0.3429\n",
      "Epoch [7/10], Step [300/313], Loss: 0.6643\n",
      "Epoch [8/10], Step [100/313], Loss: 0.4976\n",
      "Epoch [8/10], Step [200/313], Loss: 0.4859\n",
      "Epoch [8/10], Step [300/313], Loss: 0.5295\n",
      "Epoch [9/10], Step [200/313], Loss: 0.3871\n",
      "Epoch [9/10], Step [300/313], Loss: 0.5691\n",
      "Epoch [10/10], Step [100/313], Loss: 0.3845\n",
      "Epoch [10/10], Step [200/313], Loss: 0.3985\n",
      "Epoch [10/10], Step [300/313], Loss: 0.7413\n"
     ]
    }
   ],
   "source": [
    "loss_val = []\n",
    "n_total_steps = len(train_dataloader)\n",
    "for epoch in range(num_epochs):\n",
    "    for i, (images, labels) in enumerate(train_dataloader):  \n",
    "        # origin shape: [100, 1, 28, 28]\n",
    "        # resized: [100, 784]\n",
    "        images = images.reshape(-1, 256*256*3).to(device)\n",
    "        labels = labels.to(device)\n",
    "\n",
    "        # Forward pass\n",
    "        outputs = model1(images)\n",
    "        loss = criterion(outputs, labels)\n",
    "\n",
    "        # Backward and optimize\n",
    "        optimizer.zero_grad()\n",
    "        loss.backward()\n",
    "        optimizer.step()\n",
    "\n",
    "\n",
    "        if (i+1) % 100 == 0:\n",
    "          print (f'Epoch [{epoch+1}/{num_epochs}], Step [{i+1}/{n_total_steps}], Loss: {loss.item():.4f}')\n",
    "          loss_val.append(loss.item())"
   ]
  },
  {
   "cell_type": "code",
   "execution_count": 22,
   "metadata": {
    "colab": {
     "base_uri": "https://localhost:8080/"
    },
    "id": "EpVEnHDHyMCp",
    "outputId": "1c174d0e-e43a-43b9-a64d-636d44dab96e"
   },
   "outputs": [
    {
     "name": "stdout",
     "output_type": "stream",
     "text": [
      "Accuracy of the network on the 5000 test images: 72.4 %\n"
     ]
    }
   ],
   "source": [
    "# Test the model\n",
    "# In test phase, we don't need to compute gradients (for memory efficiency)\n",
    "with torch.no_grad():\n",
    "    n_correct = 0\n",
    "    n_samples = 0\n",
    "    for images, labels in test_dataloader:\n",
    "        images = images.reshape(-1, 256*256*3).to(device)\n",
    "        labels = labels.to(device)\n",
    "        outputs = model1(images)\n",
    "        # max returns (value ,index)\n",
    "        _, predicted = torch.max(outputs.data, 1)\n",
    "        n_samples += labels.size(0)\n",
    "        n_correct += (predicted == labels).sum().item()\n",
    "\n",
    "    acc = 100.0 * n_correct / n_samples\n",
    "    print(f'Accuracy of the network on the 5000 test images: {acc} %')"
   ]
  },
  {
   "cell_type": "code",
   "execution_count": 23,
   "metadata": {
    "id": "yseL_OTTy6aC"
   },
   "outputs": [],
   "source": [
    "input_size = 65536*3\n",
    "hidden_size = 100\n",
    "num_classes = 2\n",
    "#num_epochs = 10\n",
    "batch_size = 100\n",
    "learning_rate = 0.001 "
   ]
  },
  {
   "cell_type": "code",
   "execution_count": 24,
   "metadata": {
    "id": "-wmhqbcNsegf"
   },
   "outputs": [],
   "source": [
    "class NeuralNet2(nn.Module):\n",
    "    def __init__(self, input_size, hidden_size, num_classes):\n",
    "        super(NeuralNet2, self).__init__()\n",
    "        self.input_size = input_size\n",
    "        self.l1 = nn.Linear(input_size, hidden_size) \n",
    "        self.LogSigmoid = nn.LogSigmoid()\n",
    "        self.l2 = nn.Linear(hidden_size, hidden_size) \n",
    "        self.LogSigmoid1 = nn.LogSigmoid()\n",
    "        self.l3 = nn.Linear(hidden_size, hidden_size)  \n",
    "        self.LogSigmoid2 = nn.LogSigmoid()\n",
    "        self.l4 = nn.Linear(hidden_size, num_classes)  \n",
    "    \n",
    "    def forward(self, x):\n",
    "        out = self.l1(x)\n",
    "        out = self.LogSigmoid(out)\n",
    "        out = self.l2(out)\n",
    "        out = self.LogSigmoid(out)\n",
    "        out = self.l3(out)\n",
    "        out = self.LogSigmoid(out)\n",
    "        out = self.l4(out)\n",
    "        # no activation and no softmax at the end\n",
    "        return out\n",
    "\n",
    "model1 = NeuralNet2(input_size, hidden_size, num_classes).to(device)"
   ]
  },
  {
   "cell_type": "code",
   "execution_count": 25,
   "metadata": {
    "id": "lPmIGCT4xzrQ"
   },
   "outputs": [],
   "source": [
    "# Loss and optimizer\n",
    "criterion = nn.CrossEntropyLoss()\n",
    "optimizer = torch.optim.SGD(model1.parameters(), lr=learning_rate) "
   ]
  },
  {
   "cell_type": "code",
   "execution_count": 26,
   "metadata": {
    "colab": {
     "base_uri": "https://localhost:8080/"
    },
    "id": "1U66CBR64EBz",
    "outputId": "929fce33-da10-4984-a413-2e33964e8dec"
   },
   "outputs": [
    {
     "data": {
      "text/plain": [
       "313"
      ]
     },
     "execution_count": 26,
     "metadata": {},
     "output_type": "execute_result"
    }
   ],
   "source": [
    "n_total_steps"
   ]
  },
  {
   "cell_type": "code",
   "execution_count": 31,
   "metadata": {
    "colab": {
     "base_uri": "https://localhost:8080/"
    },
    "id": "sN4ef3YhyKt0",
    "outputId": "e03795d3-87c1-4d10-dc70-4240a54ed81c"
   },
   "outputs": [
    {
     "name": "stdout",
     "output_type": "stream",
     "text": [
      "Epoch [1/15], Step [100/313], Loss: 0.4768\n",
      "Epoch [1/15], Step [200/313], Loss: 0.3925\n",
      "Epoch [1/15], Step [300/313], Loss: 0.5122\n",
      "Epoch [2/15], Step [100/313], Loss: 0.4662\n",
      "Epoch [2/15], Step [200/313], Loss: 0.4139\n",
      "Epoch [2/15], Step [300/313], Loss: 0.5803\n",
      "Epoch [3/15], Step [100/313], Loss: 0.4285\n",
      "Epoch [3/15], Step [200/313], Loss: 0.3849\n",
      "Epoch [3/15], Step [300/313], Loss: 0.4788\n",
      "Epoch [4/15], Step [100/313], Loss: 0.4463\n",
      "Epoch [4/15], Step [200/313], Loss: 0.3503\n",
      "Epoch [4/15], Step [300/313], Loss: 0.4562\n",
      "Epoch [5/15], Step [100/313], Loss: 0.5068\n",
      "Epoch [5/15], Step [200/313], Loss: 0.3896\n",
      "Epoch [5/15], Step [300/313], Loss: 0.6724\n",
      "Epoch [6/15], Step [100/313], Loss: 0.4833\n",
      "Epoch [6/15], Step [200/313], Loss: 0.4026\n",
      "Epoch [6/15], Step [300/313], Loss: 0.6018\n",
      "Epoch [7/15], Step [100/313], Loss: 0.5192\n",
      "Epoch [7/15], Step [200/313], Loss: 0.3737\n",
      "Epoch [7/15], Step [300/313], Loss: 0.5846\n",
      "Epoch [8/15], Step [100/313], Loss: 0.5070\n",
      "Epoch [8/15], Step [200/313], Loss: 0.4646\n",
      "Epoch [8/15], Step [300/313], Loss: 0.5691\n",
      "Epoch [9/15], Step [100/313], Loss: 0.4609\n",
      "Epoch [9/15], Step [200/313], Loss: 0.4427\n",
      "Epoch [9/15], Step [300/313], Loss: 0.5230\n",
      "Epoch [10/15], Step [100/313], Loss: 0.3766\n",
      "Epoch [10/15], Step [200/313], Loss: 0.3762\n",
      "Epoch [10/15], Step [300/313], Loss: 0.5349\n",
      "Epoch [11/15], Step [100/313], Loss: 0.5145\n",
      "Epoch [11/15], Step [200/313], Loss: 0.4230\n",
      "Epoch [11/15], Step [300/313], Loss: 0.4544\n",
      "Epoch [12/15], Step [100/313], Loss: 0.4425\n",
      "Epoch [12/15], Step [200/313], Loss: 0.4336\n",
      "Epoch [12/15], Step [300/313], Loss: 0.5048\n",
      "Epoch [13/15], Step [100/313], Loss: 0.5232\n",
      "Epoch [13/15], Step [200/313], Loss: 0.3267\n",
      "Epoch [13/15], Step [300/313], Loss: 0.4624\n",
      "Epoch [14/15], Step [100/313], Loss: 0.4948\n",
      "Epoch [14/15], Step [200/313], Loss: 0.3568\n",
      "Epoch [14/15], Step [300/313], Loss: 0.5214\n",
      "Epoch [15/15], Step [100/313], Loss: 0.4824\n",
      "Epoch [15/15], Step [200/313], Loss: 0.3529\n",
      "Epoch [15/15], Step [300/313], Loss: 0.4230\n"
     ]
    }
   ],
   "source": [
    "num_epochs = 15\n",
    "loss_val1 = []\n",
    "los_val1 = []\n",
    "n_total_steps = len(train_dataloader)\n",
    "for epoch in range(num_epochs):\n",
    "    for i, (images, labels) in enumerate(train_dataloader):  \n",
    "        # origin shape: [100, 1, 28, 28]\n",
    "        # resized: [100, 784]\n",
    "        images = images.reshape(-1, 256*256*3).to(device)\n",
    "        labels = labels.to(device)\n",
    "\n",
    "        # Forward pass\n",
    "        outputs = model1(images)\n",
    "        loss = criterion(outputs, labels)\n",
    "\n",
    "        # Backward and optimize\n",
    "        optimizer.zero_grad()\n",
    "        loss.backward()\n",
    "        optimizer.step()\n",
    "\n",
    "        los_val1.append(loss.item())\n",
    "\n",
    "        if (i+1) % 100 == 0:\n",
    "          print (f'Epoch [{epoch+1}/{num_epochs}], Step [{i+1}/{n_total_steps}], Loss: {loss.item():.4f}')\n",
    "          loss_val1.append(loss.item())"
   ]
  },
  {
   "cell_type": "code",
   "execution_count": 32,
   "metadata": {
    "colab": {
     "base_uri": "https://localhost:8080/"
    },
    "id": "tCipm2QMyTEh",
    "outputId": "f5b30fcc-ee25-4f50-902e-85d9b679e58b"
   },
   "outputs": [
    {
     "name": "stdout",
     "output_type": "stream",
     "text": [
      "Accuracy of the network on the 5000 test images: 74.5 %\n"
     ]
    }
   ],
   "source": [
    "# Test the model\n",
    "# In test phase, we don't need to compute gradients (for memory efficiency)\n",
    "with torch.no_grad():\n",
    "    n_correct = 0\n",
    "    n_samples = 0\n",
    "    for images, labels in test_dataloader:\n",
    "        images = images.reshape(-1, 256*256*3).to(device)\n",
    "        labels = labels.to(device)\n",
    "        outputs = model1(images)\n",
    "        # max returns (value ,index)\n",
    "        _, predicted = torch.max(outputs.data, 1)\n",
    "        n_samples += labels.size(0)\n",
    "        n_correct += (predicted == labels).sum().item()\n",
    "\n",
    "    acc = 100.0 * n_correct / n_samples\n",
    "    print(f'Accuracy of the network on the 5000 test images: {acc} %')"
   ]
  },
  {
   "cell_type": "code",
   "execution_count": 36,
   "metadata": {
    "colab": {
     "base_uri": "https://localhost:8080/",
     "height": 265
    },
    "id": "wsV4NIBCDzDk",
    "outputId": "b1c83041-5b0f-4764-9874-a3fa8e4333f0"
   },
   "outputs": [
    {
     "data": {
      "image/png": "[encoded data removed]",
      "text/plain": [
       "<Figure size 432x288 with 1 Axes>"
      ]
     },
     "metadata": {
      "needs_background": "light"
     },
     "output_type": "display_data"
    }
   ],
   "source": [
    "with torch.no_grad():\n",
    "    plt.plot(loss_val1)\n",
    "    plt.ylabel(\"Loss\")\n",
    "    plt.plot()"
   ]
  },
  {
   "cell_type": "code",
   "execution_count": 39,
   "metadata": {
    "colab": {
     "base_uri": "https://localhost:8080/",
     "height": 265
    },
    "id": "mTaa1oLRFPwP",
    "outputId": "906d412e-12a0-474b-e16f-59c68361f380"
   },
   "outputs": [
    {
     "data": {
      "image/png": "[encoded data removed]",
      "text/plain": [
       "<Figure size 432x288 with 1 Axes>"
      ]
     },
     "metadata": {
      "needs_background": "light"
     },
     "output_type": "display_data"
    }
   ],
   "source": [
    "with torch.no_grad():\n",
    "    plt.plot(loss_val)\n",
    "    plt.ylabel(\"Loss\")\n",
    "    plt.plot()"
   ]
  },
  {
   "cell_type": "code",
   "execution_count": 38,
   "metadata": {
    "colab": {
     "base_uri": "https://localhost:8080/"
    },
    "id": "kFT3KM1XmPom",
    "outputId": "aa2407e2-6cef-4dbf-af7b-3b8a3131584e"
   },
   "outputs": [
    {
     "name": "stdout",
     "output_type": "stream",
     "text": [
      "Epoch [1/5], Step [100/313], Loss: 0.5588\n",
      "Epoch [1/5], Step [200/313], Loss: 0.4059\n",
      "Epoch [1/5], Step [300/313], Loss: 0.4867\n",
      "Epoch [2/5], Step [100/313], Loss: 0.4580\n",
      "Epoch [2/5], Step [200/313], Loss: 0.3571\n",
      "Epoch [2/5], Step [300/313], Loss: 0.5735\n",
      "Epoch [3/5], Step [100/313], Loss: 0.4314\n",
      "Epoch [3/5], Step [200/313], Loss: 0.3655\n",
      "Epoch [3/5], Step [300/313], Loss: 0.5047\n",
      "Epoch [4/5], Step [100/313], Loss: 0.4445\n",
      "Epoch [4/5], Step [200/313], Loss: 0.4266\n",
      "Epoch [4/5], Step [300/313], Loss: 0.4159\n",
      "Epoch [5/5], Step [100/313], Loss: 0.5920\n",
      "Epoch [5/5], Step [200/313], Loss: 0.3811\n",
      "Epoch [5/5], Step [300/313], Loss: 0.4333\n"
     ]
    }
   ],
   "source": [
    "num_epochs = 5\n",
    "loss_val2 = []\n",
    "n_total_steps = len(train_dataloader)\n",
    "for epoch in range(num_epochs):\n",
    "    for i, (images, labels) in enumerate(train_dataloader):  \n",
    "        # origin shape: [100, 1, 28, 28]\n",
    "        # resized: [100, 784]\n",
    "        images = images.reshape(-1, 256*256*3).to(device)\n",
    "        labels = labels.to(device)\n",
    "\n",
    "        # Forward pass\n",
    "        outputs = model1(images)\n",
    "        loss = criterion(outputs, labels)\n",
    "\n",
    "        # Backward and optimize\n",
    "        optimizer.zero_grad()\n",
    "        loss.backward()\n",
    "        optimizer.step()\n",
    "\n",
    "        \n",
    "\n",
    "        if (i+1) % 100 == 0:\n",
    "          print (f'Epoch [{epoch+1}/{num_epochs}], Step [{i+1}/{n_total_steps}], Loss: {loss.item():.4f}')\n",
    "          loss_val2.append(loss.item())"
   ]
  },
  {
   "cell_type": "code",
   "execution_count": 40,
   "metadata": {
    "colab": {
     "base_uri": "https://localhost:8080/",
     "height": 268
    },
    "id": "1XMFbL7a2JKj",
    "outputId": "0efb62cc-bfe4-42c3-8f71-b08ca713eea3"
   },
   "outputs": [
    {
     "data": {
      "image/png": "[encoded data removed]",
      "text/plain": [
       "<Figure size 432x288 with 1 Axes>"
      ]
     },
     "metadata": {
      "needs_background": "light"
     },
     "output_type": "display_data"
    }
   ],
   "source": [
    "with torch.no_grad():\n",
    "    plt.plot(los_val1)\n",
    "    plt.ylabel(\"Loss\")\n",
    "    plt.plot()"
   ]
  },
  {
   "cell_type": "code",
   "execution_count": 41,
   "metadata": {
    "colab": {
     "base_uri": "https://localhost:8080/"
    },
    "id": "o8Ipbg9Q6qra",
    "outputId": "577a8de6-9cc0-46eb-e7ca-2414e550f701"
   },
   "outputs": [
    {
     "name": "stdout",
     "output_type": "stream",
     "text": [
      "Accuracy of the network on the 5000 test images: 75.6 %\n"
     ]
    }
   ],
   "source": [
    "# Test the model\n",
    "# In test phase, we don't need to compute gradients (for memory efficiency)\n",
    "with torch.no_grad():\n",
    "    n_correct = 0\n",
    "    n_samples = 0\n",
    "    for images, labels in test_dataloader:\n",
    "        images = images.reshape(-1, 256*256*3).to(device)\n",
    "        labels = labels.to(device)\n",
    "        outputs = model1(images)\n",
    "        # max returns (value ,index)\n",
    "        _, predicted = torch.max(outputs.data, 1)\n",
    "        n_samples += labels.size(0)\n",
    "        n_correct += (predicted == labels).sum().item()\n",
    "\n",
    "    acc = 100.0 * n_correct / n_samples\n",
    "    print(f'Accuracy of the network on the 5000 test images: {acc} %')"
   ]
  },
  {
   "cell_type": "code",
   "execution_count": null,
   "metadata": {
    "id": "FNPP9--J9p7e"
   },
   "outputs": [],
   "source": []
  }
 ],
 "metadata": {
  "colab": {
   "collapsed_sections": [],
   "name": "NSFW-DNN",
   "provenance": []
  },
  "kernelspec": {
   "display_name": "Python 3",
   "language": "python",
   "name": "python3"
  },
  "language_info": {
   "codemirror_mode": {
    "name": "ipython",
    "version": 3
   },
   "file_extension": ".py",
   "mimetype": "text/x-python",
   "name": "python",
   "nbconvert_exporter": "python",
   "pygments_lexer": "ipython3",
   "version": "3.8.10"
  }
 },
 "nbformat": 4,
 "nbformat_minor": 1
}
