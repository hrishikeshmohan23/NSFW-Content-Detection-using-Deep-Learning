{
 "cells": [
  {
   "cell_type": "markdown",
   "metadata": {
    "id": "QL5Qt8LNHkBk"
   },
   "source": [
    "# Model - B Feed Forward Network with ReLU activation function with Adam Optimizer with 1 hidden layer"
   ]
  },
  {
   "cell_type": "markdown",
   "metadata": {
    "id": "1e8UWiukH4or"
   },
   "source": [
    "Name: Hrishikesh P\n",
    "\n",
    "Roll No: AM.EN.U4CSE19024\n",
    "\n",
    "Class: S5 CSE-A"
   ]
  },
  {
   "cell_type": "code",
   "execution_count": 1,
   "metadata": {
    "colab": {
     "base_uri": "https://localhost:8080/",
     "height": 0
    },
    "executionInfo": {
     "elapsed": 5761,
     "status": "ok",
     "timestamp": 1635690026773,
     "user": {
      "displayName": "Hrishikesh P",
      "photoUrl": "https://lh3.googleusercontent.com/a-/AOh14Gj65MNE46vB-xKYHgqDRKxvCkL_rTEb7tNhD06QA5c=s64",
      "userId": "10687394473613815178"
     },
     "user_tz": -330
    },
    "id": "76oyDUmvyIkR",
    "outputId": "16432e1a-66c6-49a0-e240-15b523c9eb6f"
   },
   "outputs": [
    {
     "name": "stdout",
     "output_type": "stream",
     "text": [
      "\u001b[?25l\r",
      "\u001b[K     |████▊                           | 10 kB 26.2 MB/s eta 0:00:01\r",
      "\u001b[K     |█████████▌                      | 20 kB 31.1 MB/s eta 0:00:01\r",
      "\u001b[K     |██████████████▎                 | 30 kB 35.1 MB/s eta 0:00:01\r",
      "\u001b[K     |███████████████████             | 40 kB 35.1 MB/s eta 0:00:01\r",
      "\u001b[K     |███████████████████████▉        | 51 kB 36.0 MB/s eta 0:00:01\r",
      "\u001b[K     |████████████████████████████▋   | 61 kB 39.2 MB/s eta 0:00:01\r",
      "\u001b[K     |████████████████████████████████| 68 kB 5.0 MB/s \n",
      "\u001b[?25h  Building wheel for uuid (setup.py) ... \u001b[?25l\u001b[?25hdone\n"
     ]
    }
   ],
   "source": [
    "import numpy as np\n",
    "import pandas as pd\n",
    "import matplotlib.pyplot as plt\n",
    "!pip install jovian opendatasets --upgrade --quiet\n",
    "import opendatasets as od"
   ]
  },
  {
   "cell_type": "code",
   "execution_count": 2,
   "metadata": {
    "executionInfo": {
     "elapsed": 3,
     "status": "ok",
     "timestamp": 1635690028226,
     "user": {
      "displayName": "Hrishikesh P",
      "photoUrl": "https://lh3.googleusercontent.com/a-/AOh14Gj65MNE46vB-xKYHgqDRKxvCkL_rTEb7tNhD06QA5c=s64",
      "userId": "10687394473613815178"
     },
     "user_tz": -330
    },
    "id": "YEUuJg18yeB8"
   },
   "outputs": [],
   "source": [
    "dataset_url = 'https://www.kaggle.com/omeret/not-safe-for-work'"
   ]
  },
  {
   "cell_type": "code",
   "execution_count": 4,
   "metadata": {
    "colab": {
     "base_uri": "https://localhost:8080/",
     "height": 0
    },
    "executionInfo": {
     "elapsed": 829754,
     "status": "ok",
     "timestamp": 1635690906018,
     "user": {
      "displayName": "Hrishikesh P",
      "photoUrl": "https://lh3.googleusercontent.com/a-/AOh14Gj65MNE46vB-xKYHgqDRKxvCkL_rTEb7tNhD06QA5c=s64",
      "userId": "10687394473613815178"
     },
     "user_tz": -330
    },
    "id": "FgDRlb6Uyfs2",
    "outputId": "e6e56c53-5aad-4be0-fbe5-87f2dc1cde73"
   },
   "outputs": [
    {
     "name": "stdout",
     "output_type": "stream",
     "text": [
      "Please provide your Kaggle credentials to download this dataset. Learn more: http://bit.ly/kaggle-creds\n",
      "Your Kaggle username: bingazuran\n",
      "Your Kaggle Key: ··········\n",
      "Downloading not-safe-for-work.zip to ./not-safe-for-work\n"
     ]
    },
    {
     "name": "stderr",
     "output_type": "stream",
     "text": [
      "100%|██████████| 19.4G/19.4G [06:26<00:00, 53.9MB/s]\n"
     ]
    },
    {
     "name": "stdout",
     "output_type": "stream",
     "text": [
      "\n"
     ]
    }
   ],
   "source": [
    "!pip install jovian opendatasets --upgrade --quiet\n",
    "import opendatasets as od\n",
    "od.download(dataset_url)"
   ]
  },
  {
   "cell_type": "code",
   "execution_count": 5,
   "metadata": {
    "executionInfo": {
     "elapsed": 19752,
     "status": "ok",
     "timestamp": 1635690935919,
     "user": {
      "displayName": "Hrishikesh P",
      "photoUrl": "https://lh3.googleusercontent.com/a-/AOh14Gj65MNE46vB-xKYHgqDRKxvCkL_rTEb7tNhD06QA5c=s64",
      "userId": "10687394473613815178"
     },
     "user_tz": -330
    },
    "id": "cbA-68clyhqc"
   },
   "outputs": [],
   "source": [
    "import os\n",
    "import torch\n",
    "import torchvision\n",
    "import tarfile\n",
    "from torchvision.datasets.utils import download_url\n",
    "from torch.utils.data import random_split\n",
    "import torchvision.transforms as transforms"
   ]
  },
  {
   "cell_type": "code",
   "execution_count": 6,
   "metadata": {
    "executionInfo": {
     "elapsed": 13,
     "status": "ok",
     "timestamp": 1635690935920,
     "user": {
      "displayName": "Hrishikesh P",
      "photoUrl": "https://lh3.googleusercontent.com/a-/AOh14Gj65MNE46vB-xKYHgqDRKxvCkL_rTEb7tNhD06QA5c=s64",
      "userId": "10687394473613815178"
     },
     "user_tz": -330
    },
    "id": "_nZ4H69UCIPz"
   },
   "outputs": [],
   "source": [
    "import torch\n",
    "import torch.nn as nn\n",
    "import torchvision\n",
    "import torchvision.transforms as transforms\n",
    "import matplotlib.pyplot as plt"
   ]
  },
  {
   "cell_type": "code",
   "execution_count": 7,
   "metadata": {
    "executionInfo": {
     "elapsed": 12,
     "status": "ok",
     "timestamp": 1635690935920,
     "user": {
      "displayName": "Hrishikesh P",
      "photoUrl": "https://lh3.googleusercontent.com/a-/AOh14Gj65MNE46vB-xKYHgqDRKxvCkL_rTEb7tNhD06QA5c=s64",
      "userId": "10687394473613815178"
     },
     "user_tz": -330
    },
    "id": "BgLZyd73CKgA"
   },
   "outputs": [],
   "source": [
    "device = torch.device('cuda' if torch.cuda.is_available() else 'cpu')"
   ]
  },
  {
   "cell_type": "code",
   "execution_count": 8,
   "metadata": {
    "colab": {
     "base_uri": "https://localhost:8080/",
     "height": 0
    },
    "executionInfo": {
     "elapsed": 13,
     "status": "ok",
     "timestamp": 1635690935921,
     "user": {
      "displayName": "Hrishikesh P",
      "photoUrl": "https://lh3.googleusercontent.com/a-/AOh14Gj65MNE46vB-xKYHgqDRKxvCkL_rTEb7tNhD06QA5c=s64",
      "userId": "10687394473613815178"
     },
     "user_tz": -330
    },
    "id": "flk_1zAPCMu6",
    "outputId": "71e0ded2-790f-46af-acdb-9c2af8dc4404"
   },
   "outputs": [
    {
     "name": "stdout",
     "output_type": "stream",
     "text": [
      "['test', 'train']\n",
      "['nsfw', 'sfw']\n"
     ]
    }
   ],
   "source": [
    "data_dir = './not-safe-for-work'\n",
    "\n",
    "print(os.listdir(data_dir))\n",
    "classes = os.listdir(data_dir + \"/train\")\n",
    "print(classes)"
   ]
  },
  {
   "cell_type": "code",
   "execution_count": 9,
   "metadata": {
    "executionInfo": {
     "elapsed": 7,
     "status": "ok",
     "timestamp": 1635690935922,
     "user": {
      "displayName": "Hrishikesh P",
      "photoUrl": "https://lh3.googleusercontent.com/a-/AOh14Gj65MNE46vB-xKYHgqDRKxvCkL_rTEb7tNhD06QA5c=s64",
      "userId": "10687394473613815178"
     },
     "user_tz": -330
    },
    "id": "6nHYAep8CPi-"
   },
   "outputs": [],
   "source": [
    "from torchvision.datasets import ImageFolder\n",
    "from torchvision.transforms import ToTensor"
   ]
  },
  {
   "cell_type": "code",
   "execution_count": 10,
   "metadata": {
    "executionInfo": {
     "elapsed": 8,
     "status": "ok",
     "timestamp": 1635690935923,
     "user": {
      "displayName": "Hrishikesh P",
      "photoUrl": "https://lh3.googleusercontent.com/a-/AOh14Gj65MNE46vB-xKYHgqDRKxvCkL_rTEb7tNhD06QA5c=s64",
      "userId": "10687394473613815178"
     },
     "user_tz": -330
    },
    "id": "nVJbXnZhCTq7"
   },
   "outputs": [],
   "source": [
    "transform = transforms.Compose([\n",
    "\n",
    "    transforms.Resize(256),\n",
    "    transforms.CenterCrop(256),\n",
    "\n",
    "    transforms.ToTensor(),\n",
    "])"
   ]
  },
  {
   "cell_type": "code",
   "execution_count": 11,
   "metadata": {
    "executionInfo": {
     "elapsed": 612,
     "status": "ok",
     "timestamp": 1635690936527,
     "user": {
      "displayName": "Hrishikesh P",
      "photoUrl": "https://lh3.googleusercontent.com/a-/AOh14Gj65MNE46vB-xKYHgqDRKxvCkL_rTEb7tNhD06QA5c=s64",
      "userId": "10687394473613815178"
     },
     "user_tz": -330
    },
    "id": "vaqaOauLCVwy"
   },
   "outputs": [],
   "source": [
    "trainset = ImageFolder(data_dir+'/train', transform=transform)\n",
    "testset = ImageFolder(data_dir+'/test', transform=transform)"
   ]
  },
  {
   "cell_type": "code",
   "execution_count": 12,
   "metadata": {
    "executionInfo": {
     "elapsed": 4,
     "status": "ok",
     "timestamp": 1635690936528,
     "user": {
      "displayName": "Hrishikesh P",
      "photoUrl": "https://lh3.googleusercontent.com/a-/AOh14Gj65MNE46vB-xKYHgqDRKxvCkL_rTEb7tNhD06QA5c=s64",
      "userId": "10687394473613815178"
     },
     "user_tz": -330
    },
    "id": "rBUufoEMCYbI"
   },
   "outputs": [],
   "source": [
    "trainset_subset1 = torch.utils.data.Subset(trainset, np.random.choice(len(trainset), 5000, replace=False))\n",
    "testset_subset1 = torch.utils.data.Subset(testset, np.random.choice(len(testset), 1000, replace=False))"
   ]
  },
  {
   "cell_type": "code",
   "execution_count": 13,
   "metadata": {
    "colab": {
     "base_uri": "https://localhost:8080/",
     "height": 0
    },
    "executionInfo": {
     "elapsed": 347,
     "status": "ok",
     "timestamp": 1635690936872,
     "user": {
      "displayName": "Hrishikesh P",
      "photoUrl": "https://lh3.googleusercontent.com/a-/AOh14Gj65MNE46vB-xKYHgqDRKxvCkL_rTEb7tNhD06QA5c=s64",
      "userId": "10687394473613815178"
     },
     "user_tz": -330
    },
    "id": "28KBnMT8Cd8r",
    "outputId": "f2b4c22d-b917-45a2-c0db-990a71113d0f"
   },
   "outputs": [
    {
     "name": "stdout",
     "output_type": "stream",
     "text": [
      "torch.Size([3, 256, 256]) 0\n"
     ]
    },
    {
     "data": {
      "text/plain": [
       "tensor([[[0.5333, 0.5686, 0.5882,  ..., 0.2627, 0.2627, 0.2588],\n",
       "         [0.5294, 0.5647, 0.5882,  ..., 0.2667, 0.2667, 0.2627],\n",
       "         [0.5333, 0.5725, 0.5961,  ..., 0.2667, 0.2667, 0.2627],\n",
       "         ...,\n",
       "         [0.9333, 0.9373, 0.9373,  ..., 0.9451, 0.9451, 0.9490],\n",
       "         [0.9333, 0.9333, 0.9373,  ..., 0.9451, 0.9451, 0.9451],\n",
       "         [0.9333, 0.9333, 0.9373,  ..., 0.9451, 0.9451, 0.9451]],\n",
       "\n",
       "        [[0.4863, 0.5216, 0.5373,  ..., 0.2078, 0.2078, 0.2157],\n",
       "         [0.4824, 0.5176, 0.5373,  ..., 0.2118, 0.2118, 0.2196],\n",
       "         [0.4863, 0.5255, 0.5412,  ..., 0.2118, 0.2157, 0.2196],\n",
       "         ...,\n",
       "         [0.9333, 0.9373, 0.9373,  ..., 0.8235, 0.8235, 0.8275],\n",
       "         [0.9333, 0.9333, 0.9373,  ..., 0.8275, 0.8314, 0.8314],\n",
       "         [0.9333, 0.9333, 0.9373,  ..., 0.8275, 0.8314, 0.8314]],\n",
       "\n",
       "        [[0.4039, 0.4353, 0.4510,  ..., 0.2039, 0.2039, 0.2078],\n",
       "         [0.4000, 0.4314, 0.4510,  ..., 0.2078, 0.2078, 0.2118],\n",
       "         [0.4039, 0.4392, 0.4588,  ..., 0.2078, 0.2118, 0.2118],\n",
       "         ...,\n",
       "         [0.9333, 0.9373, 0.9373,  ..., 0.7686, 0.7725, 0.7725],\n",
       "         [0.9333, 0.9333, 0.9373,  ..., 0.7686, 0.7725, 0.7686],\n",
       "         [0.9333, 0.9333, 0.9373,  ..., 0.7647, 0.7686, 0.7686]]])"
      ]
     },
     "execution_count": 13,
     "metadata": {},
     "output_type": "execute_result"
    }
   ],
   "source": [
    "img, label = trainset_subset1[0]\n",
    "print(img.shape, label)\n",
    "img"
   ]
  },
  {
   "cell_type": "code",
   "execution_count": 14,
   "metadata": {
    "executionInfo": {
     "elapsed": 486,
     "status": "ok",
     "timestamp": 1635690946063,
     "user": {
      "displayName": "Hrishikesh P",
      "photoUrl": "https://lh3.googleusercontent.com/a-/AOh14Gj65MNE46vB-xKYHgqDRKxvCkL_rTEb7tNhD06QA5c=s64",
      "userId": "10687394473613815178"
     },
     "user_tz": -330
    },
    "id": "hHrGtnCfDHsE"
   },
   "outputs": [],
   "source": [
    "input_size = 65536*3\n",
    "hidden_size = 500 \n",
    "num_classes = 2\n",
    "num_epochs = 5\n",
    "batch_size = 100\n",
    "learning_rate = 0.001 "
   ]
  },
  {
   "cell_type": "code",
   "execution_count": 15,
   "metadata": {
    "executionInfo": {
     "elapsed": 2,
     "status": "ok",
     "timestamp": 1635690946760,
     "user": {
      "displayName": "Hrishikesh P",
      "photoUrl": "https://lh3.googleusercontent.com/a-/AOh14Gj65MNE46vB-xKYHgqDRKxvCkL_rTEb7tNhD06QA5c=s64",
      "userId": "10687394473613815178"
     },
     "user_tz": -330
    },
    "id": "k-0BmiMEDOG7"
   },
   "outputs": [],
   "source": [
    "train_loader1 = torch.utils.data.DataLoader(\n",
    "    dataset=trainset_subset1,\n",
    "    batch_size=batch_size,\n",
    "    shuffle=False  \n",
    ")"
   ]
  },
  {
   "cell_type": "code",
   "execution_count": 16,
   "metadata": {
    "executionInfo": {
     "elapsed": 2,
     "status": "ok",
     "timestamp": 1635690947141,
     "user": {
      "displayName": "Hrishikesh P",
      "photoUrl": "https://lh3.googleusercontent.com/a-/AOh14Gj65MNE46vB-xKYHgqDRKxvCkL_rTEb7tNhD06QA5c=s64",
      "userId": "10687394473613815178"
     },
     "user_tz": -330
    },
    "id": "diU-wGxpDR8i"
   },
   "outputs": [],
   "source": [
    "test_loader1 = torch.utils.data.DataLoader(\n",
    "    dataset=testset_subset1,\n",
    "    batch_size=batch_size,\n",
    "    shuffle=False\n",
    ")"
   ]
  },
  {
   "cell_type": "code",
   "execution_count": 17,
   "metadata": {
    "colab": {
     "base_uri": "https://localhost:8080/",
     "height": 268
    },
    "executionInfo": {
     "elapsed": 5631,
     "status": "ok",
     "timestamp": 1635690955726,
     "user": {
      "displayName": "Hrishikesh P",
      "photoUrl": "https://lh3.googleusercontent.com/a-/AOh14Gj65MNE46vB-xKYHgqDRKxvCkL_rTEb7tNhD06QA5c=s64",
      "userId": "10687394473613815178"
     },
     "user_tz": -330
    },
    "id": "F39yxFfNDUx9",
    "outputId": "32f60d27-4d0f-4db0-dba7-e1ec931f56d7"
   },
   "outputs": [
    {
     "data": {
      "image/png": "[encoded data removed]",
      "text/plain": [
       "<Figure size 432x288 with 6 Axes>"
      ]
     },
     "metadata": {
      "needs_background": "light"
     },
     "output_type": "display_data"
    }
   ],
   "source": [
    " examples = iter(test_loader1)\n",
    " example_data, example_targets = examples.next()\n",
    " for i in range(6):\n",
    "     plt.subplot(2,3,i+1)\n",
    "     plt.imshow(example_data[i][0], cmap='gray')\n",
    " plt.show() "
   ]
  },
  {
   "cell_type": "code",
   "execution_count": 18,
   "metadata": {
    "executionInfo": {
     "elapsed": 341,
     "status": "ok",
     "timestamp": 1635690985019,
     "user": {
      "displayName": "Hrishikesh P",
      "photoUrl": "https://lh3.googleusercontent.com/a-/AOh14Gj65MNE46vB-xKYHgqDRKxvCkL_rTEb7tNhD06QA5c=s64",
      "userId": "10687394473613815178"
     },
     "user_tz": -330
    },
    "id": "JmDL2CGjDW-8"
   },
   "outputs": [],
   "source": [
    "# Fully connected neural network with one hidden layer\n",
    "class NeuralNet(nn.Module):\n",
    "    def __init__(self, input_size, hidden_size, num_classes):\n",
    "        super(NeuralNet, self).__init__()\n",
    "        self.input_size = input_size\n",
    "        self.l1 = nn.Linear(input_size, hidden_size) \n",
    "        self.relu = nn.ReLU()\n",
    "        self.l2 = nn.Linear(hidden_size, num_classes)  \n",
    "    \n",
    "    def forward(self, x):\n",
    "        out = self.l1(x)\n",
    "        out = self.relu(out)\n",
    "        out = self.l2(out)\n",
    "        # no activation and no softmax at the end\n",
    "        return out"
   ]
  },
  {
   "cell_type": "code",
   "execution_count": 19,
   "metadata": {
    "executionInfo": {
     "elapsed": 1148,
     "status": "ok",
     "timestamp": 1635690987632,
     "user": {
      "displayName": "Hrishikesh P",
      "photoUrl": "https://lh3.googleusercontent.com/a-/AOh14Gj65MNE46vB-xKYHgqDRKxvCkL_rTEb7tNhD06QA5c=s64",
      "userId": "10687394473613815178"
     },
     "user_tz": -330
    },
    "id": "Xrfa7fysx1u-"
   },
   "outputs": [],
   "source": [
    "model1 = NeuralNet(input_size, hidden_size, num_classes).to(device)"
   ]
  },
  {
   "cell_type": "code",
   "execution_count": null,
   "metadata": {
    "id": "gmrXEX4Yx12u"
   },
   "outputs": [],
   "source": [
    "model2 = NeuralNet(input_size, hidden_size, num_classes).to(device)"
   ]
  },
  {
   "cell_type": "code",
   "execution_count": null,
   "metadata": {
    "id": "ZiZYvyzXx1_M"
   },
   "outputs": [],
   "source": [
    "model3 = NeuralNet(input_size, hidden_size, num_classes).to(device)"
   ]
  },
  {
   "cell_type": "code",
   "execution_count": 20,
   "metadata": {
    "executionInfo": {
     "elapsed": 541,
     "status": "ok",
     "timestamp": 1635690991080,
     "user": {
      "displayName": "Hrishikesh P",
      "photoUrl": "https://lh3.googleusercontent.com/a-/AOh14Gj65MNE46vB-xKYHgqDRKxvCkL_rTEb7tNhD06QA5c=s64",
      "userId": "10687394473613815178"
     },
     "user_tz": -330
    },
    "id": "Mfdx01S2DbvM"
   },
   "outputs": [],
   "source": [
    "# Loss and optimizer\n",
    "criterion1 = nn.CrossEntropyLoss()\n",
    "optimizer1 = torch.optim.Adam(model1.parameters(), lr=learning_rate)"
   ]
  },
  {
   "cell_type": "code",
   "execution_count": 22,
   "metadata": {
    "executionInfo": {
     "elapsed": 2,
     "status": "ok",
     "timestamp": 1635645280964,
     "user": {
      "displayName": "Hrishikesh P",
      "photoUrl": "https://lh3.googleusercontent.com/a-/AOh14Gj65MNE46vB-xKYHgqDRKxvCkL_rTEb7tNhD06QA5c=s64",
      "userId": "10687394473613815178"
     },
     "user_tz": -330
    },
    "id": "IgxZYPA5DgbJ"
   },
   "outputs": [],
   "source": [
    "criterion2 = nn.CrossEntropyLoss()\n",
    "optimizer2 = torch.optim.Adam(model2.parameters(), lr=learning_rate)"
   ]
  },
  {
   "cell_type": "code",
   "execution_count": 23,
   "metadata": {
    "executionInfo": {
     "elapsed": 6,
     "status": "ok",
     "timestamp": 1635645282322,
     "user": {
      "displayName": "Hrishikesh P",
      "photoUrl": "https://lh3.googleusercontent.com/a-/AOh14Gj65MNE46vB-xKYHgqDRKxvCkL_rTEb7tNhD06QA5c=s64",
      "userId": "10687394473613815178"
     },
     "user_tz": -330
    },
    "id": "1yYmyb-hDgnf"
   },
   "outputs": [],
   "source": [
    "criterion3 = nn.CrossEntropyLoss()\n",
    "optimizer3 = torch.optim.Adam(model3.parameters(), lr=learning_rate)"
   ]
  },
  {
   "cell_type": "code",
   "execution_count": 29,
   "metadata": {
    "colab": {
     "base_uri": "https://localhost:8080/",
     "height": 0
    },
    "executionInfo": {
     "elapsed": 2253004,
     "status": "ok",
     "timestamp": 1635695194291,
     "user": {
      "displayName": "Hrishikesh P",
      "photoUrl": "https://lh3.googleusercontent.com/a-/AOh14Gj65MNE46vB-xKYHgqDRKxvCkL_rTEb7tNhD06QA5c=s64",
      "userId": "10687394473613815178"
     },
     "user_tz": -330
    },
    "id": "6CUzPszfDk9o",
    "outputId": "ec8a95aa-dd5f-46e3-dc9e-1eba469e0099"
   },
   "outputs": [
    {
     "name": "stdout",
     "output_type": "stream",
     "text": [
      "Iteration: 50. Loss: 0.644764244556427. Train Accuracy: 65.19999694824219. Test Accuracy: 52.0\n",
      "Iteration: 100. Loss: 0.6993157863616943. Train Accuracy: 70.69999694824219. Test Accuracy: 57.2\n",
      "Iteration: 150. Loss: 0.8289263844490051. Train Accuracy: 65.0999984741211. Test Accuracy: 51.9\n",
      "Iteration: 200. Loss: 0.5258209109306335. Train Accuracy: 76.9000015258789. Test Accuracy: 62.0\n",
      "Iteration: 250. Loss: 0.5510166883468628. Train Accuracy: 71.80000305175781. Test Accuracy: 56.9\n"
     ]
    }
   ],
   "source": [
    "# Train the model\n",
    "iteration = []\n",
    "iter = 0\n",
    "accuracy_train = []\n",
    "accuracy_test = []\n",
    "loss_values = []\n",
    "\n",
    "    \n",
    "n_total_steps = len(train_loader1)\n",
    "for epoch in range(num_epochs):\n",
    "    for i, (images, labels) in enumerate(train_loader1):  \n",
    "        images = images.reshape(-1, 256*256*3).to(device)\n",
    "        labels = labels.to(device)\n",
    "\n",
    "        # Forward pass\n",
    "        outputs = model1(images)\n",
    "        loss = criterion1(outputs, labels)\n",
    "        loss_values.append(loss)\n",
    "\n",
    "        # Backward and optimize\n",
    "        optimizer1.zero_grad()\n",
    "        loss.backward()\n",
    "        optimizer1.step()\n",
    "        iter+=1\n",
    "\n",
    "        if (i+1) % 50 == 0:\n",
    "            correct = 0\n",
    "            total = 0\n",
    "            iteration.append(iter)\n",
    "            #training accuracy\n",
    "            for images, labels in train_loader1:\n",
    "                images = images.view(-1, 256*256*3).requires_grad_()\n",
    "                outputs = model1(images)\n",
    "                _, predicted = torch.max(outputs.data, 1)\n",
    "                total += labels.size(0)\n",
    "                correct += (predicted == labels).sum()\n",
    "            accuracy1 = 100 * correct / total\n",
    "            accuracy_train.append(accuracy1)\n",
    "\n",
    "            \n",
    "            with torch.no_grad():\n",
    "                n_correct = 0\n",
    "                n_samples = 0\n",
    "                for images, labels in test_loader1:\n",
    "                    images = images.reshape(-1, 256*256*3).to(device)\n",
    "                    labels = labels.to(device)\n",
    "                    outputs = model1(images)\n",
    "                    # max returns (value ,index)\n",
    "                    _, predicted = torch.max(outputs.data, 1)\n",
    "                    n_samples += labels.size(0)\n",
    "                    n_correct += (predicted == labels).sum().item()\n",
    "                \n",
    "\n",
    "                acc = 100.0 * n_correct / n_samples\n",
    "                accuracy_test.append(acc)\n",
    "                print('Iteration: {}. Loss: {}. Train Accuracy: {}. Test Accuracy: {}'.format(iter, loss.item(), accuracy1,acc))"
   ]
  },
  {
   "cell_type": "code",
   "execution_count": 32,
   "metadata": {
    "colab": {
     "base_uri": "https://localhost:8080/",
     "height": 264
    },
    "executionInfo": {
     "elapsed": 504,
     "status": "ok",
     "timestamp": 1635695398529,
     "user": {
      "displayName": "Hrishikesh P",
      "photoUrl": "https://lh3.googleusercontent.com/a-/AOh14Gj65MNE46vB-xKYHgqDRKxvCkL_rTEb7tNhD06QA5c=s64",
      "userId": "10687394473613815178"
     },
     "user_tz": -330
    },
    "id": "Paa8A2lSCM18",
    "outputId": "956628bd-1c3d-4836-aa5a-c74b4c46e86a"
   },
   "outputs": [
    {
     "data": {
      "image/png": "[encoded data removed]",
      "text/plain": [
       "<Figure size 432x288 with 1 Axes>"
      ]
     },
     "metadata": {
      "needs_background": "light"
     },
     "output_type": "display_data"
    }
   ],
   "source": [
    "with torch.no_grad():\n",
    "    plt.plot(loss_values)\n",
    "    plt.ylabel(\"Loss\")\n",
    "    plt.plot()"
   ]
  },
  {
   "cell_type": "code",
   "execution_count": 41,
   "metadata": {
    "colab": {
     "base_uri": "https://localhost:8080/",
     "height": 278
    },
    "executionInfo": {
     "elapsed": 405,
     "status": "ok",
     "timestamp": 1635655450730,
     "user": {
      "displayName": "Hrishikesh P",
      "photoUrl": "https://lh3.googleusercontent.com/a-/AOh14Gj65MNE46vB-xKYHgqDRKxvCkL_rTEb7tNhD06QA5c=s64",
      "userId": "10687394473613815178"
     },
     "user_tz": -330
    },
    "id": "4cHfFDH2qMV0",
    "outputId": "a90d8db0-57dd-4b9a-9d5d-dac29231ec1f"
   },
   "outputs": [
    {
     "data": {
      "image/png": "[encoded data removed]",
      "text/plain": [
       "<Figure size 432x288 with 2 Axes>"
      ]
     },
     "metadata": {
      "needs_background": "light"
     },
     "output_type": "display_data"
    }
   ],
   "source": [
    "from sklearn.metrics import confusion_matrix, ConfusionMatrixDisplay\n",
    "\n",
    "cm = confusion_matrix(labels, predicted, labels=[0,1])\n",
    "disp = ConfusionMatrixDisplay(confusion_matrix=cm,display_labels=[0,1])\n",
    "disp.plot()\n",
    "plt.show()"
   ]
  },
  {
   "cell_type": "code",
   "execution_count": 26,
   "metadata": {
    "executionInfo": {
     "elapsed": 2047,
     "status": "ok",
     "timestamp": 1635646680542,
     "user": {
      "displayName": "Hrishikesh P",
      "photoUrl": "https://lh3.googleusercontent.com/a-/AOh14Gj65MNE46vB-xKYHgqDRKxvCkL_rTEb7tNhD06QA5c=s64",
      "userId": "10687394473613815178"
     },
     "user_tz": -330
    },
    "id": "VAbdrAFpDsjk"
   },
   "outputs": [],
   "source": [
    "num_epochs = 10"
   ]
  },
  {
   "cell_type": "code",
   "execution_count": 27,
   "metadata": {
    "colab": {
     "base_uri": "https://localhost:8080/",
     "height": 0
    },
    "executionInfo": {
     "elapsed": 2382378,
     "status": "ok",
     "timestamp": 1635649179025,
     "user": {
      "displayName": "Hrishikesh P",
      "photoUrl": "https://lh3.googleusercontent.com/a-/AOh14Gj65MNE46vB-xKYHgqDRKxvCkL_rTEb7tNhD06QA5c=s64",
      "userId": "10687394473613815178"
     },
     "user_tz": -330
    },
    "id": "oFlJxhmTI6OX",
    "outputId": "aab45b72-09dd-4bd0-fdb7-d92beed71750"
   },
   "outputs": [
    {
     "name": "stdout",
     "output_type": "stream",
     "text": [
      "Epoch [1/10], Step [10/50], Loss: 7.9580\n",
      "Epoch [1/10], Step [20/50], Loss: 5.2669\n",
      "Epoch [1/10], Step [30/50], Loss: 3.9681\n",
      "Epoch [1/10], Step [40/50], Loss: 1.3170\n",
      "Epoch [1/10], Step [50/50], Loss: 1.3284\n",
      "Epoch [2/10], Step [10/50], Loss: 0.4822\n",
      "Epoch [2/10], Step [20/50], Loss: 0.5416\n",
      "Epoch [2/10], Step [30/50], Loss: 0.5299\n",
      "Epoch [2/10], Step [40/50], Loss: 0.5892\n",
      "Epoch [2/10], Step [50/50], Loss: 0.7701\n",
      "Epoch [3/10], Step [10/50], Loss: 0.4778\n",
      "Epoch [3/10], Step [20/50], Loss: 0.6039\n",
      "Epoch [3/10], Step [30/50], Loss: 0.4940\n",
      "Epoch [3/10], Step [40/50], Loss: 0.5863\n",
      "Epoch [3/10], Step [50/50], Loss: 0.7610\n",
      "Epoch [4/10], Step [10/50], Loss: 0.4433\n",
      "Epoch [4/10], Step [20/50], Loss: 0.6214\n",
      "Epoch [4/10], Step [30/50], Loss: 0.5075\n",
      "Epoch [4/10], Step [40/50], Loss: 0.5797\n",
      "Epoch [4/10], Step [50/50], Loss: 0.8308\n",
      "Epoch [5/10], Step [10/50], Loss: 0.4483\n",
      "Epoch [5/10], Step [20/50], Loss: 0.6199\n",
      "Epoch [5/10], Step [30/50], Loss: 0.5199\n",
      "Epoch [5/10], Step [40/50], Loss: 0.5437\n",
      "Epoch [5/10], Step [50/50], Loss: 0.8533\n",
      "Epoch [6/10], Step [10/50], Loss: 0.4786\n",
      "Epoch [6/10], Step [20/50], Loss: 0.4864\n",
      "Epoch [6/10], Step [30/50], Loss: 0.5218\n",
      "Epoch [6/10], Step [40/50], Loss: 0.5295\n",
      "Epoch [6/10], Step [50/50], Loss: 0.6227\n",
      "Epoch [7/10], Step [10/50], Loss: 0.4506\n",
      "Epoch [7/10], Step [20/50], Loss: 0.4642\n",
      "Epoch [7/10], Step [30/50], Loss: 0.4939\n",
      "Epoch [7/10], Step [40/50], Loss: 0.5179\n",
      "Epoch [7/10], Step [50/50], Loss: 0.6516\n",
      "Epoch [8/10], Step [10/50], Loss: 0.4543\n",
      "Epoch [8/10], Step [20/50], Loss: 0.4607\n",
      "Epoch [8/10], Step [30/50], Loss: 0.4931\n",
      "Epoch [8/10], Step [40/50], Loss: 0.5186\n",
      "Epoch [8/10], Step [50/50], Loss: 0.5685\n",
      "Epoch [9/10], Step [10/50], Loss: 0.4201\n",
      "Epoch [9/10], Step [20/50], Loss: 0.5585\n",
      "Epoch [9/10], Step [30/50], Loss: 0.6533\n",
      "Epoch [9/10], Step [40/50], Loss: 0.5949\n",
      "Epoch [9/10], Step [50/50], Loss: 0.6200\n",
      "Epoch [10/10], Step [10/50], Loss: 0.4335\n",
      "Epoch [10/10], Step [20/50], Loss: 0.5669\n",
      "Epoch [10/10], Step [30/50], Loss: 0.5502\n",
      "Epoch [10/10], Step [40/50], Loss: 0.5245\n",
      "Epoch [10/10], Step [50/50], Loss: 0.5767\n"
     ]
    }
   ],
   "source": [
    "# Train the model\n",
    "n_total_steps = len(train_loader1)\n",
    "for epoch in range(num_epochs):\n",
    "    for i, (images, labels) in enumerate(train_loader1):  \n",
    "        # origin shape: [100, 1, 28, 28]\n",
    "        # resized: [100, 784]\n",
    "        images = images.reshape(-1, 256*256*3).to(device)\n",
    "        labels = labels.to(device)\n",
    "\n",
    "        # Forward pass\n",
    "        outputs = model2(images)\n",
    "        loss = criterion2(outputs, labels)\n",
    "\n",
    "        # Backward and optimize\n",
    "        optimizer2.zero_grad()\n",
    "        loss.backward()\n",
    "        optimizer2.step()\n",
    "\n",
    "        if (i+1) % 100 == 0:\n",
    "            print (f'Epoch [{epoch+1}/{num_epochs}], Step [{i+1}/{n_total_steps}], Loss: {loss.item():.4f}')"
   ]
  },
  {
   "cell_type": "code",
   "execution_count": 42,
   "metadata": {
    "colab": {
     "base_uri": "https://localhost:8080/",
     "height": 0
    },
    "executionInfo": {
     "elapsed": 38946,
     "status": "ok",
     "timestamp": 1635655528870,
     "user": {
      "displayName": "Hrishikesh P",
      "photoUrl": "https://lh3.googleusercontent.com/a-/AOh14Gj65MNE46vB-xKYHgqDRKxvCkL_rTEb7tNhD06QA5c=s64",
      "userId": "10687394473613815178"
     },
     "user_tz": -330
    },
    "id": "uYemsIM2JXD7",
    "outputId": "8724d71a-e46a-4bc0-de7f-1dd2fb2733ee"
   },
   "outputs": [
    {
     "name": "stdout",
     "output_type": "stream",
     "text": [
      "Accuracy of the network on test images: 72.4 %\n"
     ]
    }
   ],
   "source": [
    "# Test the model\n",
    "# In test phase, we don't need to compute gradients (for memory efficiency)\n",
    "with torch.no_grad():\n",
    "    n_correct = 0\n",
    "    n_samples = 0\n",
    "    for images, labels in test_loader1:\n",
    "        images = images.reshape(-1, 256*256*3).to(device)\n",
    "        labels = labels.to(device)\n",
    "        outputs = model2(images)\n",
    "        # max returns (value ,index)\n",
    "        _, predicted = torch.max(outputs.data, 1)\n",
    "        n_samples += labels.size(0)\n",
    "        n_correct += (predicted == labels).sum().item()\n",
    "\n",
    "    acc = 100.0 * n_correct / n_samples\n",
    "    print(f'Accuracy of the network on test images: {acc} %')"
   ]
  },
  {
   "cell_type": "code",
   "execution_count": 43,
   "metadata": {
    "colab": {
     "base_uri": "https://localhost:8080/",
     "height": 283
    },
    "executionInfo": {
     "elapsed": 585,
     "status": "ok",
     "timestamp": 1635655533956,
     "user": {
      "displayName": "Hrishikesh P",
      "photoUrl": "https://lh3.googleusercontent.com/a-/AOh14Gj65MNE46vB-xKYHgqDRKxvCkL_rTEb7tNhD06QA5c=s64",
      "userId": "10687394473613815178"
     },
     "user_tz": -330
    },
    "id": "G2AYXJRZqhB3",
    "outputId": "cec4911d-e8ba-4dc2-caa1-12c62ff2201e"
   },
   "outputs": [
    {
     "data": {
      "image/png": "[encoded data removed]",
      "text/plain": [
       "<Figure size 432x288 with 2 Axes>"
      ]
     },
     "metadata": {
      "needs_background": "light"
     },
     "output_type": "display_data"
    }
   ],
   "source": [
    "from sklearn.metrics import confusion_matrix, ConfusionMatrixDisplay\n",
    "\n",
    "cm = confusion_matrix(labels, predicted, labels=[0,1])\n",
    "disp = ConfusionMatrixDisplay(confusion_matrix=cm,display_labels=[0,1])\n",
    "disp.plot()\n",
    "plt.show()"
   ]
  },
  {
   "cell_type": "code",
   "execution_count": 29,
   "metadata": {
    "executionInfo": {
     "elapsed": 2669,
     "status": "ok",
     "timestamp": 1635649450218,
     "user": {
      "displayName": "Hrishikesh P",
      "photoUrl": "https://lh3.googleusercontent.com/a-/AOh14Gj65MNE46vB-xKYHgqDRKxvCkL_rTEb7tNhD06QA5c=s64",
      "userId": "10687394473613815178"
     },
     "user_tz": -330
    },
    "id": "k6ena-W6TNMU"
   },
   "outputs": [],
   "source": [
    "num_epochs = 15"
   ]
  },
  {
   "cell_type": "code",
   "execution_count": 31,
   "metadata": {
    "colab": {
     "base_uri": "https://localhost:8080/",
     "height": 0
    },
    "executionInfo": {
     "elapsed": 25,
     "status": "ok",
     "timestamp": 1635649526205,
     "user": {
      "displayName": "Hrishikesh P",
      "photoUrl": "https://lh3.googleusercontent.com/a-/AOh14Gj65MNE46vB-xKYHgqDRKxvCkL_rTEb7tNhD06QA5c=s64",
      "userId": "10687394473613815178"
     },
     "user_tz": -330
    },
    "id": "IqbR2HIfTmvm",
    "outputId": "b39837ad-21de-4f6a-ca9a-ea74cf56b432"
   },
   "outputs": [
    {
     "name": "stdout",
     "output_type": "stream",
     "text": [
      "50\n"
     ]
    }
   ],
   "source": [
    "n_total_steps = len(train_loader1)\n",
    "print(n_total_steps)"
   ]
  },
  {
   "cell_type": "code",
   "execution_count": 32,
   "metadata": {
    "colab": {
     "base_uri": "https://localhost:8080/",
     "height": 0
    },
    "executionInfo": {
     "elapsed": 3693867,
     "status": "ok",
     "timestamp": 1635653328220,
     "user": {
      "displayName": "Hrishikesh P",
      "photoUrl": "https://lh3.googleusercontent.com/a-/AOh14Gj65MNE46vB-xKYHgqDRKxvCkL_rTEb7tNhD06QA5c=s64",
      "userId": "10687394473613815178"
     },
     "user_tz": -330
    },
    "id": "pz0IvkA_TeQ0",
    "outputId": "42eadd62-60b1-42a6-cda0-38e49887ee40"
   },
   "outputs": [
    {
     "name": "stdout",
     "output_type": "stream",
     "text": [
      "Epoch [1/15], Step [25/50], Loss: 2.7575\n",
      "Epoch [1/15], Step [50/50], Loss: 7.5702\n",
      "Epoch [2/15], Step [25/50], Loss: 2.2842\n",
      "Epoch [2/15], Step [50/50], Loss: 7.7438\n",
      "Epoch [3/15], Step [25/50], Loss: 3.3616\n",
      "Epoch [3/15], Step [50/50], Loss: 1.9135\n",
      "Epoch [4/15], Step [25/50], Loss: 5.7969\n",
      "Epoch [4/15], Step [50/50], Loss: 13.0614\n",
      "Epoch [5/15], Step [25/50], Loss: 7.2524\n",
      "Epoch [5/15], Step [50/50], Loss: 1.4409\n",
      "Epoch [6/15], Step [25/50], Loss: 0.6605\n",
      "Epoch [6/15], Step [50/50], Loss: 3.8363\n",
      "Epoch [7/15], Step [25/50], Loss: 0.5989\n",
      "Epoch [7/15], Step [50/50], Loss: 0.7322\n",
      "Epoch [8/15], Step [25/50], Loss: 0.5453\n",
      "Epoch [8/15], Step [50/50], Loss: 0.8922\n",
      "Epoch [9/15], Step [25/50], Loss: 1.6114\n",
      "Epoch [9/15], Step [50/50], Loss: 0.6611\n",
      "Epoch [10/15], Step [25/50], Loss: 0.5233\n",
      "Epoch [10/15], Step [50/50], Loss: 0.5597\n",
      "Epoch [11/15], Step [25/50], Loss: 0.5753\n",
      "Epoch [11/15], Step [50/50], Loss: 0.4786\n",
      "Epoch [12/15], Step [25/50], Loss: 0.6551\n",
      "Epoch [12/15], Step [50/50], Loss: 0.4686\n",
      "Epoch [13/15], Step [25/50], Loss: 0.5681\n",
      "Epoch [13/15], Step [50/50], Loss: 0.4668\n",
      "Epoch [14/15], Step [25/50], Loss: 0.5673\n",
      "Epoch [14/15], Step [50/50], Loss: 0.4510\n",
      "Epoch [15/15], Step [25/50], Loss: 0.4796\n",
      "Epoch [15/15], Step [50/50], Loss: 0.4566\n"
     ]
    }
   ],
   "source": [
    "# Train the model\n",
    "n_total_steps = len(train_loader1)\n",
    "for epoch in range(num_epochs):\n",
    "    for i, (images, labels) in enumerate(train_loader1):  \n",
    "        # origin shape: [100, 1, 28, 28]\n",
    "        # resized: [100, 784]\n",
    "        images = images.reshape(-1, 256*256*3).to(device)\n",
    "        labels = labels.to(device)\n",
    "\n",
    "        # Forward pass\n",
    "        outputs = model3(images)\n",
    "        loss = criterion3(outputs, labels)\n",
    "\n",
    "        # Backward and optimize\n",
    "        optimizer3.zero_grad()\n",
    "        loss.backward()\n",
    "        optimizer3.step()\n",
    "\n",
    "        if (i+1) % 25 == 0:\n",
    "            print (f'Epoch [{epoch+1}/{num_epochs}], Step [{i+1}/{n_total_steps}], Loss: {loss.item():.4f}')"
   ]
  },
  {
   "cell_type": "code",
   "execution_count": 33,
   "metadata": {
    "colab": {
     "base_uri": "https://localhost:8080/",
     "height": 0
    },
    "executionInfo": {
     "elapsed": 41457,
     "status": "ok",
     "timestamp": 1635653931163,
     "user": {
      "displayName": "Hrishikesh P",
      "photoUrl": "https://lh3.googleusercontent.com/a-/AOh14Gj65MNE46vB-xKYHgqDRKxvCkL_rTEb7tNhD06QA5c=s64",
      "userId": "10687394473613815178"
     },
     "user_tz": -330
    },
    "id": "gMUDf9E7UL3I",
    "outputId": "258531dc-8be6-43cb-8722-fd59ba88f1c5"
   },
   "outputs": [
    {
     "name": "stdout",
     "output_type": "stream",
     "text": [
      "Accuracy of the network on test images: 66.4 %\n"
     ]
    }
   ],
   "source": [
    "# Test the model\n",
    "# In test phase, we don't need to compute gradients (for memory efficiency)\n",
    "with torch.no_grad():\n",
    "    n_correct = 0\n",
    "    n_samples = 0\n",
    "    for images, labels in test_loader1:\n",
    "        images = images.reshape(-1, 256*256*3).to(device)\n",
    "        labels = labels.to(device)\n",
    "        outputs = model3(images)\n",
    "        # max returns (value ,index)\n",
    "        _, predicted = torch.max(outputs.data, 1)\n",
    "        n_samples += labels.size(0)\n",
    "        n_correct += (predicted == labels).sum().item()\n",
    "\n",
    "    acc = 100.0 * n_correct / n_samples\n",
    "    print(f'Accuracy of the network on test images: {acc} %')"
   ]
  },
  {
   "cell_type": "code",
   "execution_count": 39,
   "metadata": {
    "colab": {
     "base_uri": "https://localhost:8080/",
     "height": 278
    },
    "executionInfo": {
     "elapsed": 416,
     "status": "ok",
     "timestamp": 1635655381430,
     "user": {
      "displayName": "Hrishikesh P",
      "photoUrl": "https://lh3.googleusercontent.com/a-/AOh14Gj65MNE46vB-xKYHgqDRKxvCkL_rTEb7tNhD06QA5c=s64",
      "userId": "10687394473613815178"
     },
     "user_tz": -330
    },
    "id": "d4Vmb_QKkawy",
    "outputId": "f384d5c4-7581-4b6c-87cb-a93f84ba5649"
   },
   "outputs": [
    {
     "data": {
      "image/png": "[encoded data removed]",
      "text/plain": [
       "<Figure size 432x288 with 2 Axes>"
      ]
     },
     "metadata": {
      "needs_background": "light"
     },
     "output_type": "display_data"
    }
   ],
   "source": [
    "from sklearn.metrics import confusion_matrix, ConfusionMatrixDisplay\n",
    "\n",
    "cm = confusion_matrix(labels, predicted, labels=[0,1])\n",
    "disp = ConfusionMatrixDisplay(confusion_matrix=cm,display_labels=[0,1])\n",
    "disp.plot()\n",
    "plt.show()"
   ]
  },
  {
   "cell_type": "code",
   "execution_count": null,
   "metadata": {
    "id": "9tDlRpY4posh"
   },
   "outputs": [],
   "source": []
  }
 ],
 "metadata": {
  "colab": {
   "authorship_tag": "ABX9TyOPyjQmdwrJgi1s05mcbNyX",
   "collapsed_sections": [],
   "name": "NSFW-DNN-ReLU-19024.ipynb",
   "provenance": []
  },
  "kernelspec": {
   "display_name": "Python 3",
   "language": "python",
   "name": "python3"
  },
  "language_info": {
   "codemirror_mode": {
    "name": "ipython",
    "version": 3
   },
   "file_extension": ".py",
   "mimetype": "text/x-python",
   "name": "python",
   "nbconvert_exporter": "python",
   "pygments_lexer": "ipython3",
   "version": "3.8.10"
  }
 },
 "nbformat": 4,
 "nbformat_minor": 1
}
