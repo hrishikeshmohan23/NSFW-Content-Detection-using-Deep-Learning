{
 "cells": [
  {
   "cell_type": "markdown",
   "metadata": {},
   "source": [
    "Name: T R Hari Subramaniam\n",
    "\n",
    "Roll: AM.EN.U4CSE19056"
   ]
  },
  {
   "cell_type": "code",
   "execution_count": null,
   "metadata": {
    "id": "4U5X16INq5Dt"
   },
   "outputs": [],
   "source": [
    "import numpy as np\n",
    "import pandas as pd\n",
    "import matplotlib.pyplot as plt"
   ]
  },
  {
   "cell_type": "code",
   "execution_count": null,
   "metadata": {
    "id": "QDVo9a-Drqkj"
   },
   "outputs": [],
   "source": [
    "dataset_url = 'https://www.kaggle.com/bingazuran/nsfwsfwdataset2'"
   ]
  },
  {
   "cell_type": "code",
   "execution_count": null,
   "metadata": {
    "colab": {
     "base_uri": "https://localhost:8080/"
    },
    "id": "ywsZlpwIrygW",
    "outputId": "9da735e9-7e6a-4e53-8657-3d54ceba9f85"
   },
   "outputs": [
    {
     "name": "stdout",
     "output_type": "stream",
     "text": [
      "\u001b[?25l\r",
      "\u001b[K     |████▊                           | 10 kB 22.5 MB/s eta 0:00:01\r",
      "\u001b[K     |█████████▌                      | 20 kB 10.9 MB/s eta 0:00:01\r",
      "\u001b[K     |██████████████▎                 | 30 kB 9.1 MB/s eta 0:00:01\r",
      "\u001b[K     |███████████████████             | 40 kB 8.3 MB/s eta 0:00:01\r",
      "\u001b[K     |███████████████████████▉        | 51 kB 5.4 MB/s eta 0:00:01\r",
      "\u001b[K     |████████████████████████████▋   | 61 kB 5.9 MB/s eta 0:00:01\r",
      "\u001b[K     |████████████████████████████████| 68 kB 3.3 MB/s \n",
      "\u001b[?25h  Building wheel for uuid (setup.py) ... \u001b[?25l\u001b[?25hdone\n",
      "Please provide your Kaggle credentials to download this dataset. Learn more: http://bit.ly/kaggle-creds\n",
      "Your Kaggle username: bingazuran\n",
      "Your Kaggle Key: ··········\n",
      "Downloading nsfwsfwdataset2.zip to ./nsfwsfwdataset2\n"
     ]
    },
    {
     "name": "stderr",
     "output_type": "stream",
     "text": [
      "100%|██████████| 1.12G/1.12G [00:06<00:00, 195MB/s]\n"
     ]
    },
    {
     "name": "stdout",
     "output_type": "stream",
     "text": [
      "\n"
     ]
    }
   ],
   "source": [
    "!pip install jovian opendatasets --upgrade --quiet\n",
    "import opendatasets as od\n",
    "od.download(dataset_url)"
   ]
  },
  {
   "cell_type": "code",
   "execution_count": null,
   "metadata": {
    "id": "Cfu13Q8xxU2s"
   },
   "outputs": [],
   "source": [
    "import os\n",
    "import torch\n",
    "import torchvision\n",
    "import tarfile\n",
    "from torchvision.datasets.utils import download_url\n",
    "from torch.utils.data import random_split\n",
    "import torchvision.transforms as transforms\n",
    "from torch.autograd import Variable\n",
    "from torch.nn import Linear, ReLU, CrossEntropyLoss, Sequential, Conv2d, MaxPool2d, Module, Softmax, BatchNorm2d, Dropout\n",
    "from torch.optim import Adam, SGD\n",
    "import torch\n",
    "import torchvision\n",
    "import torchvision.transforms as transforms\n",
    "import torch.nn as nn\n",
    "import torch.optim as optim\n",
    "import torch.nn.functional as F"
   ]
  },
  {
   "cell_type": "code",
   "execution_count": null,
   "metadata": {
    "colab": {
     "base_uri": "https://localhost:8080/"
    },
    "id": "EWRvt1ykz74G",
    "outputId": "417a4be8-13c2-44aa-b302-5a2e630932f0"
   },
   "outputs": [
    {
     "name": "stdout",
     "output_type": "stream",
     "text": [
      "['train', 'test']\n",
      "['nsfw', 'sfw']\n"
     ]
    }
   ],
   "source": [
    "data_dir = './nsfwsfwdataset2/NSFW-FSW-Dataset-Omar-3'\n",
    "\n",
    "print(os.listdir(data_dir))\n",
    "classes = os.listdir(data_dir + \"/train\")\n",
    "print(classes)"
   ]
  },
  {
   "cell_type": "code",
   "execution_count": null,
   "metadata": {
    "id": "OJpuqzdCsWst"
   },
   "outputs": [],
   "source": [
    "transform_train = transforms.Compose([\n",
    "    transforms.Resize(224),\n",
    "    transforms.RandomResizedCrop(224), \n",
    "    transforms.ToTensor(),\n",
    "    transforms.Normalize((0.5, 0.5, 0.5), (0.5, 0.5, 0.5)),\n",
    "    ])\n",
    "\n",
    "transform_test = transforms.Compose([\n",
    "    transforms.Resize(224),\n",
    "    transforms.RandomResizedCrop(224), \n",
    "    transforms.ToTensor(),\n",
    "    transforms.Normalize((0.5, 0.5, 0.5), (0.5, 0.5, 0.5)),\n",
    "    ])"
   ]
  },
  {
   "cell_type": "code",
   "execution_count": null,
   "metadata": {
    "id": "yvtbAsRU3ZAz"
   },
   "outputs": [],
   "source": [
    "from torchvision.datasets import ImageFolder\n",
    "from torchvision.transforms import ToTensor"
   ]
  },
  {
   "cell_type": "code",
   "execution_count": null,
   "metadata": {
    "id": "tlflhcz3swu5"
   },
   "outputs": [],
   "source": [
    "trainset = ImageFolder(data_dir+'/train', transform=transform_train)\n",
    "testset = ImageFolder(data_dir+'/test', transform=transform_test)"
   ]
  },
  {
   "cell_type": "code",
   "execution_count": null,
   "metadata": {
    "colab": {
     "base_uri": "https://localhost:8080/"
    },
    "id": "V48Uj2c0oP5F",
    "outputId": "c1e92b3e-5e92-4ebd-c27f-13cfd28685f4"
   },
   "outputs": [
    {
     "data": {
      "text/plain": [
       "Dataset ImageFolder\n",
       "    Number of datapoints: 5000\n",
       "    Root location: ./nsfwsfwdataset2/NSFW-FSW-Dataset-Omar-3/train\n",
       "    StandardTransform\n",
       "Transform: Compose(\n",
       "               Resize(size=224, interpolation=bilinear, max_size=None, antialias=None)\n",
       "               RandomResizedCrop(size=(224, 224), scale=(0.08, 1.0), ratio=(0.75, 1.3333), interpolation=bilinear)\n",
       "               ToTensor()\n",
       "               Normalize(mean=(0.5, 0.5, 0.5), std=(0.5, 0.5, 0.5))\n",
       "           )"
      ]
     },
     "execution_count": 9,
     "metadata": {},
     "output_type": "execute_result"
    }
   ],
   "source": [
    "trainset"
   ]
  },
  {
   "cell_type": "code",
   "execution_count": null,
   "metadata": {
    "id": "vFTzvUTuMJR-"
   },
   "outputs": [],
   "source": [
    "batch_size = 16\n",
    "trainloader = torch.utils.data.DataLoader(trainset, batch_size=batch_size, shuffle=True)"
   ]
  },
  {
   "cell_type": "code",
   "execution_count": null,
   "metadata": {
    "id": "Ksb0X1ZaMhjE"
   },
   "outputs": [],
   "source": [
    "testloader = torch.utils.data.DataLoader(testset, batch_size=batch_size, shuffle=True)"
   ]
  },
  {
   "cell_type": "code",
   "execution_count": null,
   "metadata": {
    "colab": {
     "base_uri": "https://localhost:8080/"
    },
    "id": "gsAfexhsuoH-",
    "outputId": "c610160f-ea28-43ee-9548-e0c9024a3afc"
   },
   "outputs": [
    {
     "name": "stdout",
     "output_type": "stream",
     "text": [
      "torch.Size([3, 224, 224]) 0\n"
     ]
    },
    {
     "data": {
      "text/plain": [
       "tensor([[[-0.3961, -0.4275, -0.4510,  ...,  0.7961,  0.7961,  0.7882],\n",
       "         [-0.3882, -0.4118, -0.4353,  ...,  0.8039,  0.8039,  0.7961],\n",
       "         [-0.3725, -0.3961, -0.4196,  ...,  0.7961,  0.7961,  0.7961],\n",
       "         ...,\n",
       "         [ 0.3333,  0.3412,  0.3490,  ...,  0.1843,  0.1843,  0.1765],\n",
       "         [ 0.3098,  0.3176,  0.3255,  ...,  0.1216,  0.1216,  0.1216],\n",
       "         [ 0.2863,  0.2941,  0.3098,  ...,  0.0667,  0.0667,  0.0745]],\n",
       "\n",
       "        [[-0.6941, -0.7098, -0.7255,  ...,  0.2078,  0.2078,  0.2000],\n",
       "         [-0.6863, -0.7020, -0.7176,  ...,  0.2000,  0.2000,  0.1922],\n",
       "         [-0.6706, -0.6941, -0.7176,  ...,  0.1843,  0.1843,  0.1843],\n",
       "         ...,\n",
       "         [-0.2314, -0.2235, -0.2157,  ..., -0.3255, -0.3255, -0.3333],\n",
       "         [-0.2549, -0.2471, -0.2392,  ..., -0.3569, -0.3569, -0.3647],\n",
       "         [-0.2863, -0.2784, -0.2549,  ..., -0.3882, -0.3882, -0.3882]],\n",
       "\n",
       "        [[-0.8353, -0.8431, -0.8431,  ..., -0.0745, -0.0824, -0.0902],\n",
       "         [-0.8275, -0.8353, -0.8431,  ..., -0.0745, -0.0745, -0.0824],\n",
       "         [-0.8118, -0.8353, -0.8431,  ..., -0.0902, -0.0824, -0.0824],\n",
       "         ...,\n",
       "         [-0.4196, -0.4118, -0.3961,  ..., -0.5529, -0.5451, -0.5529],\n",
       "         [-0.4431, -0.4353, -0.4196,  ..., -0.5765, -0.5686, -0.5686],\n",
       "         [-0.4667, -0.4588, -0.4353,  ..., -0.6078, -0.6000, -0.5922]]])"
      ]
     },
     "execution_count": 12,
     "metadata": {},
     "output_type": "execute_result"
    }
   ],
   "source": [
    "img, label = trainset[0]\n",
    "print(img.shape, label)\n",
    "img"
   ]
  },
  {
   "cell_type": "code",
   "execution_count": null,
   "metadata": {
    "id": "np3uTutZLuKo"
   },
   "outputs": [],
   "source": [
    "from torchsummary import summary\n",
    "\n",
    "device = torch.device('cuda' if torch.cuda.is_available() else 'cpu')"
   ]
  },
  {
   "cell_type": "code",
   "execution_count": null,
   "metadata": {
    "id": "H-njH7-pLgMG"
   },
   "outputs": [],
   "source": [
    "from torchvision import models\n",
    "batch_size = 16"
   ]
  },
  {
   "cell_type": "code",
   "execution_count": null,
   "metadata": {
    "colab": {
     "base_uri": "https://localhost:8080/",
     "height": 66,
     "referenced_widgets": [
      "36a784dc1ec94e2cb25b69b8f0493c88",
      "424837931ea24d268f319339ff065dfe",
      "05b035b6aa814bb19d71809d47e31ea4",
      "b4836a6e7acb4b5ab7ace4182af8836a",
      "a4eef883893f49a89cc851d89f022c7c",
      "33ebe8dc22a04a6eae731acf4506fada",
      "4bafafb01719450b9b8ed0791ae65bdc",
      "056641b046cf48bda2749445fc8b209e",
      "d4ebbd83a1514ff7b17702bd680a68a3",
      "fdd660d198fe485bbdde16ce12d27520",
      "b886be87211f43abb68f6b84e1e19431"
     ]
    },
    "id": "tmA-hhLGmOl9",
    "outputId": "84446810-531d-4f9e-fb64-fbdd05900857"
   },
   "outputs": [
    {
     "name": "stderr",
     "output_type": "stream",
     "text": [
      "Downloading: \"https://download.pytorch.org/models/vgg13_bn-abd245e5.pth\" to /root/.cache/torch/hub/checkpoints/vgg13_bn-abd245e5.pth\n"
     ]
    },
    {
     "data": {
      "application/vnd.jupyter.widget-view+json": {
       "model_id": "36a784dc1ec94e2cb25b69b8f0493c88",
       "version_major": 2,
       "version_minor": 0
      },
      "text/plain": [
       "  0%|          | 0.00/508M [00:00<?, ?B/s]"
      ]
     },
     "metadata": {},
     "output_type": "display_data"
    }
   ],
   "source": [
    "vgg = models.vgg13_bn(pretrained=True)"
   ]
  },
  {
   "cell_type": "code",
   "execution_count": null,
   "metadata": {
    "id": "g8x97yuimUPQ"
   },
   "outputs": [],
   "source": [
    "for param in vgg.parameters():\n",
    "    param.requires_grad = False"
   ]
  },
  {
   "cell_type": "code",
   "execution_count": null,
   "metadata": {
    "id": "JM8JsSCJmhfB"
   },
   "outputs": [],
   "source": [
    "num_classes = 2\n",
    "final_in_features = vgg.classifier[6].in_features\n",
    "vgg.classifier[6] = nn.Linear(final_in_features, num_classes)"
   ]
  },
  {
   "cell_type": "code",
   "execution_count": null,
   "metadata": {
    "colab": {
     "base_uri": "https://localhost:8080/"
    },
    "id": "OwrlXaxnmjFw",
    "outputId": "4f0a80dc-c46e-43c8-9a87-d682f1f7a7a0"
   },
   "outputs": [
    {
     "name": "stdout",
     "output_type": "stream",
     "text": [
      "torch.Size([2, 4096])\n",
      "torch.Size([2])\n"
     ]
    }
   ],
   "source": [
    "for param in vgg.parameters():\n",
    "    if param.requires_grad:\n",
    "        print(param.shape)"
   ]
  },
  {
   "cell_type": "code",
   "execution_count": null,
   "metadata": {
    "id": "NhIWL3HdmWfN"
   },
   "outputs": [],
   "source": [
    "vgg = vgg.to(device)\n",
    "loss_fn = nn.CrossEntropyLoss()\n",
    "opt = optim.SGD(vgg.parameters(), lr=0.05)"
   ]
  },
  {
   "cell_type": "code",
   "execution_count": null,
   "metadata": {
    "id": "DREVCBBp557E"
   },
   "outputs": [],
   "source": [
    "def evaluation(dataloader, model):\n",
    "    total, correct = 0, 0\n",
    "    for data in dataloader:\n",
    "        inputs, labels = data\n",
    "        inputs, labels = inputs.to(device), labels.to(device)\n",
    "        outputs = model(inputs)\n",
    "        _, pred = torch.max(outputs.data, 1)\n",
    "        total += labels.size(0)\n",
    "        correct += (pred == labels).sum().item()\n",
    "    return 100 * correct / total"
   ]
  },
  {
   "cell_type": "code",
   "execution_count": null,
   "metadata": {
    "colab": {
     "base_uri": "https://localhost:8080/",
     "height": 696
    },
    "id": "AzDeg32pn2nf",
    "outputId": "7cf7676f-4193-45d1-cfd5-3b7e111e0178"
   },
   "outputs": [
    {
     "name": "stdout",
     "output_type": "stream",
     "text": [
      "Iteration: 0/313, Loss: 17.70\n",
      "Iteration: 100/313, Loss: 29.57\n",
      "Iteration: 200/313, Loss: 11.05\n",
      "Iteration: 300/313, Loss: 0.00\n",
      "Epoch: 0/5, Test acc: 87.00, Train acc: 87.54\n",
      "Iteration: 0/313, Loss: 15.81\n",
      "Iteration: 100/313, Loss: 7.02\n",
      "Iteration: 200/313, Loss: 46.80\n",
      "Iteration: 300/313, Loss: 3.39\n",
      "Epoch: 1/5, Test acc: 84.80, Train acc: 88.38\n",
      "Iteration: 0/313, Loss: 19.20\n",
      "Iteration: 100/313, Loss: 0.00\n",
      "Iteration: 200/313, Loss: 6.11\n",
      "Iteration: 300/313, Loss: 11.39\n",
      "Epoch: 2/5, Test acc: 88.70, Train acc: 88.28\n",
      "Iteration: 0/313, Loss: 21.21\n",
      "Iteration: 100/313, Loss: 23.49\n",
      "Iteration: 200/313, Loss: 0.00\n",
      "Iteration: 300/313, Loss: 2.31\n",
      "Epoch: 3/5, Test acc: 88.80, Train acc: 88.72\n",
      "Iteration: 0/313, Loss: 14.66\n",
      "Iteration: 100/313, Loss: 16.26\n",
      "Iteration: 200/313, Loss: 7.90\n",
      "Iteration: 300/313, Loss: 9.39\n",
      "Epoch: 4/5, Test acc: 89.50, Train acc: 88.90\n"
     ]
    },
    {
     "data": {
      "image/png": "[encoded data removed]",
      "text/plain": [
       "<Figure size 432x288 with 1 Axes>"
      ]
     },
     "metadata": {
      "needs_background": "light"
     },
     "output_type": "display_data"
    }
   ],
   "source": [
    "loss_epoch_arr = []\n",
    "max_epochs = 5\n",
    "train_accuracy = []\n",
    "test_accuracy = []\n",
    "\n",
    "n_iters = np.ceil(5000/batch_size)\n",
    "\n",
    "for epoch in range(max_epochs):\n",
    "\n",
    "    for i, data in enumerate(trainloader, 0):\n",
    "\n",
    "        inputs, labels = data\n",
    "        inputs, labels = inputs.to(device), labels.to(device)\n",
    "\n",
    "        opt.zero_grad()\n",
    "\n",
    "        outputs = vgg(inputs)\n",
    "        loss = loss_fn(outputs, labels)\n",
    "        loss.backward()\n",
    "        opt.step()\n",
    "        \n",
    "        if i % 100 == 0:\n",
    "            print('Iteration: %d/%d, Loss: %0.2f' % (i, n_iters, loss.item()))\n",
    "            \n",
    "        del inputs, labels, outputs\n",
    "        torch.cuda.empty_cache()\n",
    "        \n",
    "    loss_epoch_arr.append(loss.item())\n",
    "\n",
    "    train_a = evaluation(trainloader, vgg)\n",
    "    test_a = evaluation(testloader, vgg)\n",
    "        \n",
    "    print('Epoch: %d/%d, Test acc: %0.2f, Train acc: %0.2f' % (\n",
    "        epoch, max_epochs, test_a, train_a))\n",
    "    train_accuracy.append(train_a)\n",
    "    test_accuracy.append(test_a)\n",
    "    \n",
    "    \n",
    "plt.plot(loss_epoch_arr)\n",
    "plt.show()"
   ]
  },
  {
   "cell_type": "code",
   "execution_count": null,
   "metadata": {
    "colab": {
     "base_uri": "https://localhost:8080/"
    },
    "id": "ymTGayUxMXRR",
    "outputId": "13ceb222-2308-41b3-aecc-01972bb85455"
   },
   "outputs": [
    {
     "data": {
      "text/plain": [
       "[[87.54, 87.0], [88.38, 84.8], [88.28, 88.7], [88.72, 88.8], [88.9, 89.5]]"
      ]
     },
     "execution_count": 26,
     "metadata": {},
     "output_type": "execute_result"
    }
   ],
   "source": [
    "train_test = []\n",
    "for i in range(len(train_accuracy)):\n",
    "  train_test.append([train_accuracy[i], test_accuracy[i]])\n",
    "train_test"
   ]
  },
  {
   "cell_type": "code",
   "execution_count": null,
   "metadata": {
    "colab": {
     "base_uri": "https://localhost:8080/",
     "height": 294
    },
    "id": "CqYrGf6UXz9Y",
    "outputId": "56d2cd3c-42b6-426a-cf93-4ab04bd63d95"
   },
   "outputs": [
    {
     "data": {
      "image/png": "[encoded data removed]",
      "text/plain": [
       "<Figure size 432x288 with 1 Axes>"
      ]
     },
     "metadata": {
      "needs_background": "light"
     },
     "output_type": "display_data"
    }
   ],
   "source": [
    "epoch = [1,2,3,4,5]\n",
    "fig = plt.figure();\n",
    "fig.suptitle('Accuracy Comparison');\n",
    "ax = fig.add_subplot(111);\n",
    "plt.boxplot(train_test);\n",
    "ax.set_xticklabels(epoch);\n",
    "plt.show();"
   ]
  },
  {
   "cell_type": "code",
   "execution_count": null,
   "metadata": {
    "colab": {
     "base_uri": "https://localhost:8080/",
     "height": 390
    },
    "id": "wDhnMUp6ePNk",
    "outputId": "f07e581a-5ed4-4ddc-9e24-7d03f4ad1ffa"
   },
   "outputs": [
    {
     "data": {
      "image/png": "[encoded data removed]",
      "text/plain": [
       "<Figure size 864x432 with 1 Axes>"
      ]
     },
     "metadata": {
      "needs_background": "light"
     },
     "output_type": "display_data"
    }
   ],
   "source": [
    "plt.figure(figsize=(12,6));\n",
    "plt.plot(train_accuracy, 'o--r');\n",
    "plt.plot(test_accuracy,'o--g');\n",
    "#plt.xlabel('Year')\n",
    "#plt.ylabel('Temperature variation')\n",
    "plt.title('Train vs Test Accuracy');\n",
    "plt.legend(['Train Accuracy','Test Accuracy']);"
   ]
  },
  {
   "cell_type": "code",
   "execution_count": null,
   "metadata": {
    "id": "JxqRxPdMfnef"
   },
   "outputs": [],
   "source": []
  }
 ],
 "metadata": {
  "accelerator": "GPU",
  "colab": {
   "collapsed_sections": [],
   "name": "NSFW_CNN-VGG13BN",
   "provenance": []
  },
  "kernelspec": {
   "display_name": "Python 3",
   "language": "python",
   "name": "python3"
  },
  "language_info": {
   "codemirror_mode": {
    "name": "ipython",
    "version": 3
   },
   "file_extension": ".py",
   "mimetype": "text/x-python",
   "name": "python",
   "nbconvert_exporter": "python",
   "pygments_lexer": "ipython3",
   "version": "3.8.10"
  },
  "widgets": {
   "application/vnd.jupyter.widget-state+json": {
    "056641b046cf48bda2749445fc8b209e": {
     "model_module": "@jupyter-widgets/controls",
     "model_module_version": "1.5.0",
     "model_name": "ProgressStyleModel",
     "state": {
      "_model_module": "@jupyter-widgets/controls",
      "_model_module_version": "1.5.0",
      "_model_name": "ProgressStyleModel",
      "_view_count": null,
      "_view_module": "@jupyter-widgets/base",
      "_view_module_version": "1.2.0",
      "_view_name": "StyleView",
      "bar_color": null,
      "description_width": ""
     }
    },
    "05b035b6aa814bb19d71809d47e31ea4": {
     "model_module": "@jupyter-widgets/controls",
     "model_module_version": "1.5.0",
     "model_name": "HTMLModel",
     "state": {
      "_dom_classes": [],
      "_model_module": "@jupyter-widgets/controls",
      "_model_module_version": "1.5.0",
      "_model_name": "HTMLModel",
      "_view_count": null,
      "_view_module": "@jupyter-widgets/controls",
      "_view_module_version": "1.5.0",
      "_view_name": "HTMLView",
      "description": "",
      "description_tooltip": null,
      "layout": "IPY_MODEL_4bafafb01719450b9b8ed0791ae65bdc",
      "placeholder": "​",
      "style": "IPY_MODEL_33ebe8dc22a04a6eae731acf4506fada",
      "value": "100%"
     }
    },
    "33ebe8dc22a04a6eae731acf4506fada": {
     "model_module": "@jupyter-widgets/controls",
     "model_module_version": "1.5.0",
     "model_name": "DescriptionStyleModel",
     "state": {
      "_model_module": "@jupyter-widgets/controls",
      "_model_module_version": "1.5.0",
      "_model_name": "DescriptionStyleModel",
      "_view_count": null,
      "_view_module": "@jupyter-widgets/base",
      "_view_module_version": "1.2.0",
      "_view_name": "StyleView",
      "description_width": ""
     }
    },
    "36a784dc1ec94e2cb25b69b8f0493c88": {
     "model_module": "@jupyter-widgets/controls",
     "model_module_version": "1.5.0",
     "model_name": "HBoxModel",
     "state": {
      "_dom_classes": [],
      "_model_module": "@jupyter-widgets/controls",
      "_model_module_version": "1.5.0",
      "_model_name": "HBoxModel",
      "_view_count": null,
      "_view_module": "@jupyter-widgets/controls",
      "_view_module_version": "1.5.0",
      "_view_name": "HBoxView",
      "box_style": "",
      "children": [
       "IPY_MODEL_05b035b6aa814bb19d71809d47e31ea4",
       "IPY_MODEL_b4836a6e7acb4b5ab7ace4182af8836a",
       "IPY_MODEL_a4eef883893f49a89cc851d89f022c7c"
      ],
      "layout": "IPY_MODEL_424837931ea24d268f319339ff065dfe"
     }
    },
    "424837931ea24d268f319339ff065dfe": {
     "model_module": "@jupyter-widgets/base",
     "model_module_version": "1.2.0",
     "model_name": "LayoutModel",
     "state": {
      "_model_module": "@jupyter-widgets/base",
      "_model_module_version": "1.2.0",
      "_model_name": "LayoutModel",
      "_view_count": null,
      "_view_module": "@jupyter-widgets/base",
      "_view_module_version": "1.2.0",
      "_view_name": "LayoutView",
      "align_content": null,
      "align_items": null,
      "align_self": null,
      "border": null,
      "bottom": null,
      "display": null,
      "flex": null,
      "flex_flow": null,
      "grid_area": null,
      "grid_auto_columns": null,
      "grid_auto_flow": null,
      "grid_auto_rows": null,
      "grid_column": null,
      "grid_gap": null,
      "grid_row": null,
      "grid_template_areas": null,
      "grid_template_columns": null,
      "grid_template_rows": null,
      "height": null,
      "justify_content": null,
      "justify_items": null,
      "left": null,
      "margin": null,
      "max_height": null,
      "max_width": null,
      "min_height": null,
      "min_width": null,
      "object_fit": null,
      "object_position": null,
      "order": null,
      "overflow": null,
      "overflow_x": null,
      "overflow_y": null,
      "padding": null,
      "right": null,
      "top": null,
      "visibility": null,
      "width": null
     }
    },
    "4bafafb01719450b9b8ed0791ae65bdc": {
     "model_module": "@jupyter-widgets/base",
     "model_module_version": "1.2.0",
     "model_name": "LayoutModel",
     "state": {
      "_model_module": "@jupyter-widgets/base",
      "_model_module_version": "1.2.0",
      "_model_name": "LayoutModel",
      "_view_count": null,
      "_view_module": "@jupyter-widgets/base",
      "_view_module_version": "1.2.0",
      "_view_name": "LayoutView",
      "align_content": null,
      "align_items": null,
      "align_self": null,
      "border": null,
      "bottom": null,
      "display": null,
      "flex": null,
      "flex_flow": null,
      "grid_area": null,
      "grid_auto_columns": null,
      "grid_auto_flow": null,
      "grid_auto_rows": null,
      "grid_column": null,
      "grid_gap": null,
      "grid_row": null,
      "grid_template_areas": null,
      "grid_template_columns": null,
      "grid_template_rows": null,
      "height": null,
      "justify_content": null,
      "justify_items": null,
      "left": null,
      "margin": null,
      "max_height": null,
      "max_width": null,
      "min_height": null,
      "min_width": null,
      "object_fit": null,
      "object_position": null,
      "order": null,
      "overflow": null,
      "overflow_x": null,
      "overflow_y": null,
      "padding": null,
      "right": null,
      "top": null,
      "visibility": null,
      "width": null
     }
    },
    "a4eef883893f49a89cc851d89f022c7c": {
     "model_module": "@jupyter-widgets/controls",
     "model_module_version": "1.5.0",
     "model_name": "HTMLModel",
     "state": {
      "_dom_classes": [],
      "_model_module": "@jupyter-widgets/controls",
      "_model_module_version": "1.5.0",
      "_model_name": "HTMLModel",
      "_view_count": null,
      "_view_module": "@jupyter-widgets/controls",
      "_view_module_version": "1.5.0",
      "_view_name": "HTMLView",
      "description": "",
      "description_tooltip": null,
      "layout": "IPY_MODEL_b886be87211f43abb68f6b84e1e19431",
      "placeholder": "​",
      "style": "IPY_MODEL_fdd660d198fe485bbdde16ce12d27520",
      "value": " 508M/508M [00:05&lt;00:00, 89.5MB/s]"
     }
    },
    "b4836a6e7acb4b5ab7ace4182af8836a": {
     "model_module": "@jupyter-widgets/controls",
     "model_module_version": "1.5.0",
     "model_name": "FloatProgressModel",
     "state": {
      "_dom_classes": [],
      "_model_module": "@jupyter-widgets/controls",
      "_model_module_version": "1.5.0",
      "_model_name": "FloatProgressModel",
      "_view_count": null,
      "_view_module": "@jupyter-widgets/controls",
      "_view_module_version": "1.5.0",
      "_view_name": "ProgressView",
      "bar_style": "success",
      "description": "",
      "description_tooltip": null,
      "layout": "IPY_MODEL_d4ebbd83a1514ff7b17702bd680a68a3",
      "max": 532246301,
      "min": 0,
      "orientation": "horizontal",
      "style": "IPY_MODEL_056641b046cf48bda2749445fc8b209e",
      "value": 532246301
     }
    },
    "b886be87211f43abb68f6b84e1e19431": {
     "model_module": "@jupyter-widgets/base",
     "model_module_version": "1.2.0",
     "model_name": "LayoutModel",
     "state": {
      "_model_module": "@jupyter-widgets/base",
      "_model_module_version": "1.2.0",
      "_model_name": "LayoutModel",
      "_view_count": null,
      "_view_module": "@jupyter-widgets/base",
      "_view_module_version": "1.2.0",
      "_view_name": "LayoutView",
      "align_content": null,
      "align_items": null,
      "align_self": null,
      "border": null,
      "bottom": null,
      "display": null,
      "flex": null,
      "flex_flow": null,
      "grid_area": null,
      "grid_auto_columns": null,
      "grid_auto_flow": null,
      "grid_auto_rows": null,
      "grid_column": null,
      "grid_gap": null,
      "grid_row": null,
      "grid_template_areas": null,
      "grid_template_columns": null,
      "grid_template_rows": null,
      "height": null,
      "justify_content": null,
      "justify_items": null,
      "left": null,
      "margin": null,
      "max_height": null,
      "max_width": null,
      "min_height": null,
      "min_width": null,
      "object_fit": null,
      "object_position": null,
      "order": null,
      "overflow": null,
      "overflow_x": null,
      "overflow_y": null,
      "padding": null,
      "right": null,
      "top": null,
      "visibility": null,
      "width": null
     }
    },
    "d4ebbd83a1514ff7b17702bd680a68a3": {
     "model_module": "@jupyter-widgets/base",
     "model_module_version": "1.2.0",
     "model_name": "LayoutModel",
     "state": {
      "_model_module": "@jupyter-widgets/base",
      "_model_module_version": "1.2.0",
      "_model_name": "LayoutModel",
      "_view_count": null,
      "_view_module": "@jupyter-widgets/base",
      "_view_module_version": "1.2.0",
      "_view_name": "LayoutView",
      "align_content": null,
      "align_items": null,
      "align_self": null,
      "border": null,
      "bottom": null,
      "display": null,
      "flex": null,
      "flex_flow": null,
      "grid_area": null,
      "grid_auto_columns": null,
      "grid_auto_flow": null,
      "grid_auto_rows": null,
      "grid_column": null,
      "grid_gap": null,
      "grid_row": null,
      "grid_template_areas": null,
      "grid_template_columns": null,
      "grid_template_rows": null,
      "height": null,
      "justify_content": null,
      "justify_items": null,
      "left": null,
      "margin": null,
      "max_height": null,
      "max_width": null,
      "min_height": null,
      "min_width": null,
      "object_fit": null,
      "object_position": null,
      "order": null,
      "overflow": null,
      "overflow_x": null,
      "overflow_y": null,
      "padding": null,
      "right": null,
      "top": null,
      "visibility": null,
      "width": null
     }
    },
    "fdd660d198fe485bbdde16ce12d27520": {
     "model_module": "@jupyter-widgets/controls",
     "model_module_version": "1.5.0",
     "model_name": "DescriptionStyleModel",
     "state": {
      "_model_module": "@jupyter-widgets/controls",
      "_model_module_version": "1.5.0",
      "_model_name": "DescriptionStyleModel",
      "_view_count": null,
      "_view_module": "@jupyter-widgets/base",
      "_view_module_version": "1.2.0",
      "_view_name": "StyleView",
      "description_width": ""
     }
    }
   }
  }
 },
 "nbformat": 4,
 "nbformat_minor": 1
}
