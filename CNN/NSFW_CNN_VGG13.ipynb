{
 "cells": [
  {
   "cell_type": "markdown",
   "metadata": {},
   "source": [
    "Name: T R Hari Subramaniam\n",
    "\n",
    "Roll AM.EN.U4CSE19056"
   ]
  },
  {
   "cell_type": "code",
   "execution_count": null,
   "metadata": {
    "id": "4U5X16INq5Dt"
   },
   "outputs": [],
   "source": [
    "import numpy as np\n",
    "import pandas as pd\n",
    "import matplotlib.pyplot as plt"
   ]
  },
  {
   "cell_type": "code",
   "execution_count": null,
   "metadata": {
    "id": "QDVo9a-Drqkj"
   },
   "outputs": [],
   "source": [
    "dataset_url = 'https://www.kaggle.com/bingazuran/nsfwsfwdataset2'"
   ]
  },
  {
   "cell_type": "code",
   "execution_count": null,
   "metadata": {
    "colab": {
     "base_uri": "https://localhost:8080/"
    },
    "id": "ywsZlpwIrygW",
    "outputId": "9a5d5320-973d-4e76-a384-e1c1c49d63ba"
   },
   "outputs": [
    {
     "name": "stdout",
     "output_type": "stream",
     "text": [
      "\u001b[?25l\r",
      "\u001b[K     |████▊                           | 10 kB 27.6 MB/s eta 0:00:01\r",
      "\u001b[K     |█████████▌                      | 20 kB 24.9 MB/s eta 0:00:01\r",
      "\u001b[K     |██████████████▎                 | 30 kB 11.6 MB/s eta 0:00:01\r",
      "\u001b[K     |███████████████████             | 40 kB 9.3 MB/s eta 0:00:01\r",
      "\u001b[K     |███████████████████████▉        | 51 kB 5.3 MB/s eta 0:00:01\r",
      "\u001b[K     |████████████████████████████▋   | 61 kB 5.8 MB/s eta 0:00:01\r",
      "\u001b[K     |████████████████████████████████| 68 kB 815 kB/s \n",
      "\u001b[?25h  Building wheel for uuid (setup.py) ... \u001b[?25l\u001b[?25hdone\n",
      "Please provide your Kaggle credentials to download this dataset. Learn more: http://bit.ly/kaggle-creds\n",
      "Your Kaggle username: bingazuran\n",
      "Your Kaggle Key: ··········\n",
      "Downloading nsfwsfwdataset2.zip to ./nsfwsfwdataset2\n"
     ]
    },
    {
     "name": "stderr",
     "output_type": "stream",
     "text": [
      "100%|██████████| 1.12G/1.12G [00:06<00:00, 195MB/s]\n"
     ]
    },
    {
     "name": "stdout",
     "output_type": "stream",
     "text": [
      "\n"
     ]
    }
   ],
   "source": [
    "!pip install jovian opendatasets --upgrade --quiet\n",
    "import opendatasets as od\n",
    "od.download(dataset_url)"
   ]
  },
  {
   "cell_type": "code",
   "execution_count": null,
   "metadata": {
    "id": "Cfu13Q8xxU2s"
   },
   "outputs": [],
   "source": [
    "import os\n",
    "import torch\n",
    "import torchvision\n",
    "import tarfile\n",
    "from torchvision.datasets.utils import download_url\n",
    "from torch.utils.data import random_split\n",
    "import torchvision.transforms as transforms\n",
    "from torch.autograd import Variable\n",
    "from torch.nn import Linear, ReLU, CrossEntropyLoss, Sequential, Conv2d, MaxPool2d, Module, Softmax, BatchNorm2d, Dropout\n",
    "from torch.optim import Adam, SGD\n",
    "import torch\n",
    "import torchvision\n",
    "import torchvision.transforms as transforms\n",
    "import torch.nn as nn\n",
    "import torch.optim as optim\n",
    "import torch.nn.functional as F"
   ]
  },
  {
   "cell_type": "code",
   "execution_count": null,
   "metadata": {
    "colab": {
     "base_uri": "https://localhost:8080/"
    },
    "id": "EWRvt1ykz74G",
    "outputId": "7820b6ab-1278-429c-8d8d-c634fde5ef9d"
   },
   "outputs": [
    {
     "name": "stdout",
     "output_type": "stream",
     "text": [
      "['train', 'test']\n",
      "['nsfw', 'sfw']\n"
     ]
    }
   ],
   "source": [
    "data_dir = './nsfwsfwdataset2/NSFW-FSW-Dataset-Omar-3'\n",
    "\n",
    "print(os.listdir(data_dir))\n",
    "classes = os.listdir(data_dir + \"/train\")\n",
    "print(classes)"
   ]
  },
  {
   "cell_type": "code",
   "execution_count": null,
   "metadata": {
    "id": "OJpuqzdCsWst"
   },
   "outputs": [],
   "source": [
    "transform_train = transforms.Compose([\n",
    "    transforms.Resize(224),\n",
    "    transforms.RandomResizedCrop(224), \n",
    "    transforms.ToTensor(),\n",
    "    transforms.Normalize((0.5, 0.5, 0.5), (0.5, 0.5, 0.5)),\n",
    "    ])\n",
    "\n",
    "transform_test = transforms.Compose([\n",
    "    transforms.Resize(224),\n",
    "    transforms.RandomResizedCrop(224), \n",
    "    transforms.ToTensor(),\n",
    "    transforms.Normalize((0.5, 0.5, 0.5), (0.5, 0.5, 0.5)),\n",
    "    ])"
   ]
  },
  {
   "cell_type": "code",
   "execution_count": null,
   "metadata": {
    "id": "yvtbAsRU3ZAz"
   },
   "outputs": [],
   "source": [
    "from torchvision.datasets import ImageFolder\n",
    "from torchvision.transforms import ToTensor"
   ]
  },
  {
   "cell_type": "code",
   "execution_count": null,
   "metadata": {
    "id": "tlflhcz3swu5"
   },
   "outputs": [],
   "source": [
    "trainset = ImageFolder(data_dir+'/train', transform=transform_train)\n",
    "testset = ImageFolder(data_dir+'/test', transform=transform_test)"
   ]
  },
  {
   "cell_type": "code",
   "execution_count": null,
   "metadata": {
    "colab": {
     "base_uri": "https://localhost:8080/"
    },
    "id": "V48Uj2c0oP5F",
    "outputId": "6999dedb-762f-464b-da98-666ca1061b69"
   },
   "outputs": [
    {
     "data": {
      "text/plain": [
       "Dataset ImageFolder\n",
       "    Number of datapoints: 5000\n",
       "    Root location: ./nsfwsfwdataset2/NSFW-FSW-Dataset-Omar-3/train\n",
       "    StandardTransform\n",
       "Transform: Compose(\n",
       "               Resize(size=224, interpolation=bilinear, max_size=None, antialias=None)\n",
       "               RandomResizedCrop(size=(224, 224), scale=(0.08, 1.0), ratio=(0.75, 1.3333), interpolation=bilinear)\n",
       "               ToTensor()\n",
       "               Normalize(mean=(0.5, 0.5, 0.5), std=(0.5, 0.5, 0.5))\n",
       "           )"
      ]
     },
     "execution_count": 9,
     "metadata": {},
     "output_type": "execute_result"
    }
   ],
   "source": [
    "trainset"
   ]
  },
  {
   "cell_type": "code",
   "execution_count": null,
   "metadata": {
    "id": "vFTzvUTuMJR-"
   },
   "outputs": [],
   "source": [
    "batch_size = 16\n",
    "trainloader = torch.utils.data.DataLoader(trainset, batch_size=batch_size, shuffle=True)"
   ]
  },
  {
   "cell_type": "code",
   "execution_count": null,
   "metadata": {
    "id": "Ksb0X1ZaMhjE"
   },
   "outputs": [],
   "source": [
    "testloader = torch.utils.data.DataLoader(testset, batch_size=batch_size, shuffle=True)"
   ]
  },
  {
   "cell_type": "code",
   "execution_count": null,
   "metadata": {
    "colab": {
     "base_uri": "https://localhost:8080/"
    },
    "id": "gsAfexhsuoH-",
    "outputId": "bb9c84ff-9498-4ebd-ee93-021c202e8730"
   },
   "outputs": [
    {
     "name": "stdout",
     "output_type": "stream",
     "text": [
      "torch.Size([3, 224, 224]) 0\n"
     ]
    },
    {
     "data": {
      "text/plain": [
       "tensor([[[ 0.6235,  0.5843,  0.5922,  ...,  0.8667,  0.8667,  0.8510],\n",
       "         [ 0.6157,  0.6078,  0.6000,  ...,  0.8588,  0.8510,  0.8431],\n",
       "         [ 0.6000,  0.6235,  0.6157,  ...,  0.8510,  0.8431,  0.8353],\n",
       "         ...,\n",
       "         [-0.3098, -0.3255, -0.3255,  ..., -0.1843, -0.0824,  0.0353],\n",
       "         [-0.2471, -0.2863, -0.3333,  ..., -0.2392, -0.1294, -0.0118],\n",
       "         [-0.1137, -0.1216, -0.2078,  ..., -0.3333, -0.2000, -0.0745]],\n",
       "\n",
       "        [[ 0.0196, -0.0196,  0.0039,  ...,  0.2627,  0.2627,  0.2627],\n",
       "         [ 0.0118,  0.0039,  0.0118,  ...,  0.2392,  0.2392,  0.2627],\n",
       "         [-0.0196,  0.0118,  0.0275,  ...,  0.2549,  0.2471,  0.2471],\n",
       "         ...,\n",
       "         [-0.4588, -0.4980, -0.5137,  ..., -0.3490, -0.2392, -0.0980],\n",
       "         [-0.4118, -0.4667, -0.5373,  ..., -0.3490, -0.2471, -0.1059],\n",
       "         [-0.2627, -0.2941, -0.4196,  ..., -0.4196, -0.2863, -0.1451]],\n",
       "\n",
       "        [[-0.2157, -0.2471, -0.2157,  ...,  0.0980,  0.1137,  0.1059],\n",
       "         [-0.2235, -0.2235, -0.2235,  ...,  0.0431,  0.0510,  0.0824],\n",
       "         [-0.2471, -0.2235, -0.2157,  ...,  0.0275,  0.0196,  0.0353],\n",
       "         ...,\n",
       "         [-0.5059, -0.5686, -0.5765,  ..., -0.4039, -0.2549, -0.0980],\n",
       "         [-0.4824, -0.5529, -0.6392,  ..., -0.3725, -0.2627, -0.1059],\n",
       "         [-0.3176, -0.3725, -0.5373,  ..., -0.4431, -0.3020, -0.1216]]])"
      ]
     },
     "execution_count": 12,
     "metadata": {},
     "output_type": "execute_result"
    }
   ],
   "source": [
    "img, label = trainset[0]\n",
    "print(img.shape, label)\n",
    "img"
   ]
  },
  {
   "cell_type": "code",
   "execution_count": null,
   "metadata": {
    "id": "np3uTutZLuKo"
   },
   "outputs": [],
   "source": [
    "from torchsummary import summary\n",
    "\n",
    "device = torch.device('cuda' if torch.cuda.is_available() else 'cpu')"
   ]
  },
  {
   "cell_type": "code",
   "execution_count": null,
   "metadata": {
    "id": "H-njH7-pLgMG"
   },
   "outputs": [],
   "source": [
    "from torchvision import models\n",
    "batch_size = 16"
   ]
  },
  {
   "cell_type": "code",
   "execution_count": null,
   "metadata": {
    "colab": {
     "base_uri": "https://localhost:8080/",
     "height": 66,
     "referenced_widgets": [
      "d0dd1c56e6e4462b9f070768ce7e5282",
      "dd93422d8c124034808acc44cbc42ff7",
      "51203889ee1f496b8a8af51c2376bb3b",
      "f07b1928ad2e4023b154c3c30d0f714a",
      "afedb1ef6d06455faec1e4fdee368c7c",
      "7072aa2a600048919f71997318b0c0ca",
      "29c742155af74919bc54d23b912f7564",
      "c8966a2e7f9a41dda30c08f99a598121",
      "03a02e2dd09344c2b4848575fedb6602",
      "e71d3bb3a5174b4fb484302623cd153c",
      "81b738696c4446b8b61a24b59e42b18e"
     ]
    },
    "id": "tmA-hhLGmOl9",
    "outputId": "3b04ae3e-99ab-4092-935e-612495732b70"
   },
   "outputs": [
    {
     "name": "stderr",
     "output_type": "stream",
     "text": [
      "Downloading: \"https://download.pytorch.org/models/vgg13-19584684.pth\" to /root/.cache/torch/hub/checkpoints/vgg13-19584684.pth\n"
     ]
    },
    {
     "data": {
      "application/vnd.jupyter.widget-view+json": {
       "model_id": "d0dd1c56e6e4462b9f070768ce7e5282",
       "version_major": 2,
       "version_minor": 0
      },
      "text/plain": [
       "  0%|          | 0.00/508M [00:00<?, ?B/s]"
      ]
     },
     "metadata": {},
     "output_type": "display_data"
    }
   ],
   "source": [
    "vgg = models.vgg13(pretrained=True)"
   ]
  },
  {
   "cell_type": "code",
   "execution_count": null,
   "metadata": {
    "id": "g8x97yuimUPQ"
   },
   "outputs": [],
   "source": [
    "for param in vgg.parameters():\n",
    "    param.requires_grad = False"
   ]
  },
  {
   "cell_type": "code",
   "execution_count": null,
   "metadata": {
    "id": "JM8JsSCJmhfB"
   },
   "outputs": [],
   "source": [
    "num_classes = 2\n",
    "final_in_features = vgg.classifier[6].in_features\n",
    "vgg.classifier[6] = nn.Linear(final_in_features, num_classes)"
   ]
  },
  {
   "cell_type": "code",
   "execution_count": null,
   "metadata": {
    "colab": {
     "base_uri": "https://localhost:8080/"
    },
    "id": "OwrlXaxnmjFw",
    "outputId": "c88f199b-5824-4737-c81d-6630c6cf825c"
   },
   "outputs": [
    {
     "name": "stdout",
     "output_type": "stream",
     "text": [
      "torch.Size([2, 4096])\n",
      "torch.Size([2])\n"
     ]
    }
   ],
   "source": [
    "for param in vgg.parameters():\n",
    "    if param.requires_grad:\n",
    "        print(param.shape)"
   ]
  },
  {
   "cell_type": "code",
   "execution_count": null,
   "metadata": {
    "id": "NhIWL3HdmWfN"
   },
   "outputs": [],
   "source": [
    "vgg = vgg.to(device)\n",
    "loss_fn = nn.CrossEntropyLoss()\n",
    "opt = optim.SGD(vgg.parameters(), lr=0.05)"
   ]
  },
  {
   "cell_type": "code",
   "execution_count": null,
   "metadata": {
    "id": "DREVCBBp557E"
   },
   "outputs": [],
   "source": [
    "def evaluation(dataloader, model):\n",
    "    total, correct = 0, 0\n",
    "    for data in dataloader:\n",
    "        inputs, labels = data\n",
    "        inputs, labels = inputs.to(device), labels.to(device)\n",
    "        outputs = model(inputs)\n",
    "        _, pred = torch.max(outputs.data, 1)\n",
    "        total += labels.size(0)\n",
    "        correct += (pred == labels).sum().item()\n",
    "    return 100 * correct / total"
   ]
  },
  {
   "cell_type": "code",
   "execution_count": null,
   "metadata": {
    "colab": {
     "base_uri": "https://localhost:8080/",
     "height": 698
    },
    "id": "AzDeg32pn2nf",
    "outputId": "07894584-0c6f-46c4-c222-0ef26942826b"
   },
   "outputs": [
    {
     "name": "stdout",
     "output_type": "stream",
     "text": [
      "Iteration: 0/313, Loss: 0.66\n",
      "Iteration: 100/313, Loss: 0.61\n",
      "Iteration: 200/313, Loss: 0.02\n",
      "Iteration: 300/313, Loss: 0.73\n",
      "Epoch: 0/5, Test acc: 85.70, Train acc: 84.96\n",
      "Iteration: 0/313, Loss: 0.03\n",
      "Iteration: 100/313, Loss: 1.14\n",
      "Iteration: 200/313, Loss: 0.01\n",
      "Iteration: 300/313, Loss: 0.50\n",
      "Epoch: 1/5, Test acc: 88.70, Train acc: 88.00\n",
      "Iteration: 0/313, Loss: 0.78\n",
      "Iteration: 100/313, Loss: 0.03\n",
      "Iteration: 200/313, Loss: 1.10\n",
      "Iteration: 300/313, Loss: 1.28\n",
      "Epoch: 2/5, Test acc: 84.70, Train acc: 85.90\n",
      "Iteration: 0/313, Loss: 0.46\n",
      "Iteration: 100/313, Loss: 0.95\n",
      "Iteration: 200/313, Loss: 0.75\n",
      "Iteration: 300/313, Loss: 0.13\n",
      "Epoch: 3/5, Test acc: 79.80, Train acc: 84.84\n",
      "Iteration: 0/313, Loss: 0.11\n",
      "Iteration: 100/313, Loss: 1.12\n",
      "Iteration: 200/313, Loss: 1.05\n",
      "Iteration: 300/313, Loss: 0.12\n",
      "Epoch: 4/5, Test acc: 87.20, Train acc: 87.18\n"
     ]
    },
    {
     "data": {
      "image/png": "[encoded data removed]",
      "text/plain": [
       "<Figure size 432x288 with 1 Axes>"
      ]
     },
     "metadata": {
      "needs_background": "light"
     },
     "output_type": "display_data"
    }
   ],
   "source": [
    "loss_epoch_arr = []\n",
    "max_epochs = 5\n",
    "train_accuracy = []\n",
    "test_accuracy = []\n",
    "\n",
    "n_iters = np.ceil(5000/batch_size)\n",
    "\n",
    "for epoch in range(max_epochs):\n",
    "\n",
    "    for i, data in enumerate(trainloader, 0):\n",
    "\n",
    "        inputs, labels = data\n",
    "        inputs, labels = inputs.to(device), labels.to(device)\n",
    "\n",
    "        opt.zero_grad()\n",
    "\n",
    "        outputs = vgg(inputs)\n",
    "        loss = loss_fn(outputs, labels)\n",
    "        loss.backward()\n",
    "        opt.step()\n",
    "        \n",
    "        if i % 100 == 0:\n",
    "            print('Iteration: %d/%d, Loss: %0.2f' % (i, n_iters, loss.item()))\n",
    "            \n",
    "        del inputs, labels, outputs\n",
    "        torch.cuda.empty_cache()\n",
    "        \n",
    "    loss_epoch_arr.append(loss.item())\n",
    "\n",
    "    train_a = evaluation(trainloader, vgg)\n",
    "    test_a = evaluation(testloader, vgg)\n",
    "        \n",
    "    print('Epoch: %d/%d, Test acc: %0.2f, Train acc: %0.2f' % (\n",
    "        epoch, max_epochs, test_a, train_a))\n",
    "    train_accuracy.append(train_a)\n",
    "    test_accuracy.append(test_a)\n",
    "    \n",
    "    \n",
    "plt.plot(loss_epoch_arr)\n",
    "plt.show()"
   ]
  },
  {
   "cell_type": "code",
   "execution_count": null,
   "metadata": {
    "colab": {
     "base_uri": "https://localhost:8080/"
    },
    "id": "ymTGayUxMXRR",
    "outputId": "3d935daa-68a0-461f-bb4d-8149524b3fcb"
   },
   "outputs": [
    {
     "data": {
      "text/plain": [
       "[[84.96, 85.7], [88.0, 88.7], [85.9, 84.7], [84.84, 79.8], [87.18, 87.2]]"
      ]
     },
     "execution_count": 24,
     "metadata": {},
     "output_type": "execute_result"
    }
   ],
   "source": [
    "train_test = []\n",
    "for i in range(len(train_accuracy)):\n",
    "  train_test.append([train_accuracy[i], test_accuracy[i]])\n",
    "train_test"
   ]
  },
  {
   "cell_type": "code",
   "execution_count": null,
   "metadata": {
    "colab": {
     "base_uri": "https://localhost:8080/",
     "height": 294
    },
    "id": "CqYrGf6UXz9Y",
    "outputId": "08dd3711-54c8-4b79-a8be-6b88697c0dd2"
   },
   "outputs": [
    {
     "data": {
      "image/png": "[encoded data removed]",
      "text/plain": [
       "<Figure size 432x288 with 1 Axes>"
      ]
     },
     "metadata": {
      "needs_background": "light"
     },
     "output_type": "display_data"
    }
   ],
   "source": [
    "epoch = [1,2,3,4,5]\n",
    "fig = plt.figure();\n",
    "fig.suptitle('Accuracy Comparison');\n",
    "ax = fig.add_subplot(111);\n",
    "plt.boxplot(train_test);\n",
    "ax.set_xticklabels(epoch);\n",
    "plt.show();"
   ]
  },
  {
   "cell_type": "code",
   "execution_count": null,
   "metadata": {
    "colab": {
     "base_uri": "https://localhost:8080/",
     "height": 390
    },
    "id": "wDhnMUp6ePNk",
    "outputId": "153f220f-a685-4fcb-d7eb-07aa9e41727c"
   },
   "outputs": [
    {
     "data": {
      "image/png": "[encoded data removed]",
      "text/plain": [
       "<Figure size 864x432 with 1 Axes>"
      ]
     },
     "metadata": {
      "needs_background": "light"
     },
     "output_type": "display_data"
    }
   ],
   "source": [
    "plt.figure(figsize=(12,6));\n",
    "plt.plot(train_accuracy, 'o--r');\n",
    "plt.plot(test_accuracy,'o--g');\n",
    "#plt.xlabel('Year')\n",
    "#plt.ylabel('Temperature variation')\n",
    "plt.title('Train vs Test Accuracy');\n",
    "plt.legend(['Train Accuracy','Test Accuracy']);"
   ]
  },
  {
   "cell_type": "code",
   "execution_count": null,
   "metadata": {
    "id": "io7_hj_t-Q5c"
   },
   "outputs": [],
   "source": []
  }
 ],
 "metadata": {
  "accelerator": "GPU",
  "colab": {
   "collapsed_sections": [],
   "name": "NSFW_CNN-VGG13",
   "provenance": []
  },
  "kernelspec": {
   "display_name": "Python 3",
   "language": "python",
   "name": "python3"
  },
  "language_info": {
   "codemirror_mode": {
    "name": "ipython",
    "version": 3
   },
   "file_extension": ".py",
   "mimetype": "text/x-python",
   "name": "python",
   "nbconvert_exporter": "python",
   "pygments_lexer": "ipython3",
   "version": "3.8.10"
  },
  "widgets": {
   "application/vnd.jupyter.widget-state+json": {
    "03a02e2dd09344c2b4848575fedb6602": {
     "model_module": "@jupyter-widgets/base",
     "model_module_version": "1.2.0",
     "model_name": "LayoutModel",
     "state": {
      "_model_module": "@jupyter-widgets/base",
      "_model_module_version": "1.2.0",
      "_model_name": "LayoutModel",
      "_view_count": null,
      "_view_module": "@jupyter-widgets/base",
      "_view_module_version": "1.2.0",
      "_view_name": "LayoutView",
      "align_content": null,
      "align_items": null,
      "align_self": null,
      "border": null,
      "bottom": null,
      "display": null,
      "flex": null,
      "flex_flow": null,
      "grid_area": null,
      "grid_auto_columns": null,
      "grid_auto_flow": null,
      "grid_auto_rows": null,
      "grid_column": null,
      "grid_gap": null,
      "grid_row": null,
      "grid_template_areas": null,
      "grid_template_columns": null,
      "grid_template_rows": null,
      "height": null,
      "justify_content": null,
      "justify_items": null,
      "left": null,
      "margin": null,
      "max_height": null,
      "max_width": null,
      "min_height": null,
      "min_width": null,
      "object_fit": null,
      "object_position": null,
      "order": null,
      "overflow": null,
      "overflow_x": null,
      "overflow_y": null,
      "padding": null,
      "right": null,
      "top": null,
      "visibility": null,
      "width": null
     }
    },
    "29c742155af74919bc54d23b912f7564": {
     "model_module": "@jupyter-widgets/base",
     "model_module_version": "1.2.0",
     "model_name": "LayoutModel",
     "state": {
      "_model_module": "@jupyter-widgets/base",
      "_model_module_version": "1.2.0",
      "_model_name": "LayoutModel",
      "_view_count": null,
      "_view_module": "@jupyter-widgets/base",
      "_view_module_version": "1.2.0",
      "_view_name": "LayoutView",
      "align_content": null,
      "align_items": null,
      "align_self": null,
      "border": null,
      "bottom": null,
      "display": null,
      "flex": null,
      "flex_flow": null,
      "grid_area": null,
      "grid_auto_columns": null,
      "grid_auto_flow": null,
      "grid_auto_rows": null,
      "grid_column": null,
      "grid_gap": null,
      "grid_row": null,
      "grid_template_areas": null,
      "grid_template_columns": null,
      "grid_template_rows": null,
      "height": null,
      "justify_content": null,
      "justify_items": null,
      "left": null,
      "margin": null,
      "max_height": null,
      "max_width": null,
      "min_height": null,
      "min_width": null,
      "object_fit": null,
      "object_position": null,
      "order": null,
      "overflow": null,
      "overflow_x": null,
      "overflow_y": null,
      "padding": null,
      "right": null,
      "top": null,
      "visibility": null,
      "width": null
     }
    },
    "51203889ee1f496b8a8af51c2376bb3b": {
     "model_module": "@jupyter-widgets/controls",
     "model_module_version": "1.5.0",
     "model_name": "HTMLModel",
     "state": {
      "_dom_classes": [],
      "_model_module": "@jupyter-widgets/controls",
      "_model_module_version": "1.5.0",
      "_model_name": "HTMLModel",
      "_view_count": null,
      "_view_module": "@jupyter-widgets/controls",
      "_view_module_version": "1.5.0",
      "_view_name": "HTMLView",
      "description": "",
      "description_tooltip": null,
      "layout": "IPY_MODEL_29c742155af74919bc54d23b912f7564",
      "placeholder": "​",
      "style": "IPY_MODEL_7072aa2a600048919f71997318b0c0ca",
      "value": "100%"
     }
    },
    "7072aa2a600048919f71997318b0c0ca": {
     "model_module": "@jupyter-widgets/controls",
     "model_module_version": "1.5.0",
     "model_name": "DescriptionStyleModel",
     "state": {
      "_model_module": "@jupyter-widgets/controls",
      "_model_module_version": "1.5.0",
      "_model_name": "DescriptionStyleModel",
      "_view_count": null,
      "_view_module": "@jupyter-widgets/base",
      "_view_module_version": "1.2.0",
      "_view_name": "StyleView",
      "description_width": ""
     }
    },
    "81b738696c4446b8b61a24b59e42b18e": {
     "model_module": "@jupyter-widgets/base",
     "model_module_version": "1.2.0",
     "model_name": "LayoutModel",
     "state": {
      "_model_module": "@jupyter-widgets/base",
      "_model_module_version": "1.2.0",
      "_model_name": "LayoutModel",
      "_view_count": null,
      "_view_module": "@jupyter-widgets/base",
      "_view_module_version": "1.2.0",
      "_view_name": "LayoutView",
      "align_content": null,
      "align_items": null,
      "align_self": null,
      "border": null,
      "bottom": null,
      "display": null,
      "flex": null,
      "flex_flow": null,
      "grid_area": null,
      "grid_auto_columns": null,
      "grid_auto_flow": null,
      "grid_auto_rows": null,
      "grid_column": null,
      "grid_gap": null,
      "grid_row": null,
      "grid_template_areas": null,
      "grid_template_columns": null,
      "grid_template_rows": null,
      "height": null,
      "justify_content": null,
      "justify_items": null,
      "left": null,
      "margin": null,
      "max_height": null,
      "max_width": null,
      "min_height": null,
      "min_width": null,
      "object_fit": null,
      "object_position": null,
      "order": null,
      "overflow": null,
      "overflow_x": null,
      "overflow_y": null,
      "padding": null,
      "right": null,
      "top": null,
      "visibility": null,
      "width": null
     }
    },
    "afedb1ef6d06455faec1e4fdee368c7c": {
     "model_module": "@jupyter-widgets/controls",
     "model_module_version": "1.5.0",
     "model_name": "HTMLModel",
     "state": {
      "_dom_classes": [],
      "_model_module": "@jupyter-widgets/controls",
      "_model_module_version": "1.5.0",
      "_model_name": "HTMLModel",
      "_view_count": null,
      "_view_module": "@jupyter-widgets/controls",
      "_view_module_version": "1.5.0",
      "_view_name": "HTMLView",
      "description": "",
      "description_tooltip": null,
      "layout": "IPY_MODEL_81b738696c4446b8b61a24b59e42b18e",
      "placeholder": "​",
      "style": "IPY_MODEL_e71d3bb3a5174b4fb484302623cd153c",
      "value": " 508M/508M [00:19&lt;00:00, 34.6MB/s]"
     }
    },
    "c8966a2e7f9a41dda30c08f99a598121": {
     "model_module": "@jupyter-widgets/controls",
     "model_module_version": "1.5.0",
     "model_name": "ProgressStyleModel",
     "state": {
      "_model_module": "@jupyter-widgets/controls",
      "_model_module_version": "1.5.0",
      "_model_name": "ProgressStyleModel",
      "_view_count": null,
      "_view_module": "@jupyter-widgets/base",
      "_view_module_version": "1.2.0",
      "_view_name": "StyleView",
      "bar_color": null,
      "description_width": ""
     }
    },
    "d0dd1c56e6e4462b9f070768ce7e5282": {
     "model_module": "@jupyter-widgets/controls",
     "model_module_version": "1.5.0",
     "model_name": "HBoxModel",
     "state": {
      "_dom_classes": [],
      "_model_module": "@jupyter-widgets/controls",
      "_model_module_version": "1.5.0",
      "_model_name": "HBoxModel",
      "_view_count": null,
      "_view_module": "@jupyter-widgets/controls",
      "_view_module_version": "1.5.0",
      "_view_name": "HBoxView",
      "box_style": "",
      "children": [
       "IPY_MODEL_51203889ee1f496b8a8af51c2376bb3b",
       "IPY_MODEL_f07b1928ad2e4023b154c3c30d0f714a",
       "IPY_MODEL_afedb1ef6d06455faec1e4fdee368c7c"
      ],
      "layout": "IPY_MODEL_dd93422d8c124034808acc44cbc42ff7"
     }
    },
    "dd93422d8c124034808acc44cbc42ff7": {
     "model_module": "@jupyter-widgets/base",
     "model_module_version": "1.2.0",
     "model_name": "LayoutModel",
     "state": {
      "_model_module": "@jupyter-widgets/base",
      "_model_module_version": "1.2.0",
      "_model_name": "LayoutModel",
      "_view_count": null,
      "_view_module": "@jupyter-widgets/base",
      "_view_module_version": "1.2.0",
      "_view_name": "LayoutView",
      "align_content": null,
      "align_items": null,
      "align_self": null,
      "border": null,
      "bottom": null,
      "display": null,
      "flex": null,
      "flex_flow": null,
      "grid_area": null,
      "grid_auto_columns": null,
      "grid_auto_flow": null,
      "grid_auto_rows": null,
      "grid_column": null,
      "grid_gap": null,
      "grid_row": null,
      "grid_template_areas": null,
      "grid_template_columns": null,
      "grid_template_rows": null,
      "height": null,
      "justify_content": null,
      "justify_items": null,
      "left": null,
      "margin": null,
      "max_height": null,
      "max_width": null,
      "min_height": null,
      "min_width": null,
      "object_fit": null,
      "object_position": null,
      "order": null,
      "overflow": null,
      "overflow_x": null,
      "overflow_y": null,
      "padding": null,
      "right": null,
      "top": null,
      "visibility": null,
      "width": null
     }
    },
    "e71d3bb3a5174b4fb484302623cd153c": {
     "model_module": "@jupyter-widgets/controls",
     "model_module_version": "1.5.0",
     "model_name": "DescriptionStyleModel",
     "state": {
      "_model_module": "@jupyter-widgets/controls",
      "_model_module_version": "1.5.0",
      "_model_name": "DescriptionStyleModel",
      "_view_count": null,
      "_view_module": "@jupyter-widgets/base",
      "_view_module_version": "1.2.0",
      "_view_name": "StyleView",
      "description_width": ""
     }
    },
    "f07b1928ad2e4023b154c3c30d0f714a": {
     "model_module": "@jupyter-widgets/controls",
     "model_module_version": "1.5.0",
     "model_name": "FloatProgressModel",
     "state": {
      "_dom_classes": [],
      "_model_module": "@jupyter-widgets/controls",
      "_model_module_version": "1.5.0",
      "_model_name": "FloatProgressModel",
      "_view_count": null,
      "_view_module": "@jupyter-widgets/controls",
      "_view_module_version": "1.5.0",
      "_view_name": "ProgressView",
      "bar_style": "success",
      "description": "",
      "description_tooltip": null,
      "layout": "IPY_MODEL_03a02e2dd09344c2b4848575fedb6602",
      "max": 532199577,
      "min": 0,
      "orientation": "horizontal",
      "style": "IPY_MODEL_c8966a2e7f9a41dda30c08f99a598121",
      "value": 532199577
     }
    }
   }
  }
 },
 "nbformat": 4,
 "nbformat_minor": 1
}
