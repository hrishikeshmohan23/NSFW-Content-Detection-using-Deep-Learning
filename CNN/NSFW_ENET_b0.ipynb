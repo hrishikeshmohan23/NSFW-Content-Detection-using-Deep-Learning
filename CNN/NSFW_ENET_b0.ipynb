{
  "nbformat": 4,
  "nbformat_minor": 0,
  "metadata": {
    "accelerator": "GPU",
    "colab": {
      "name": "NSFW_ENET.ipynb",
      "provenance": [],
      "collapsed_sections": []
    },
    "kernelspec": {
      "display_name": "Python 3",
      "language": "python",
      "name": "python3"
    },
    "language_info": {
      "codemirror_mode": {
        "name": "ipython",
        "version": 3
      },
      "file_extension": ".py",
      "mimetype": "text/x-python",
      "name": "python",
      "nbconvert_exporter": "python",
      "pygments_lexer": "ipython3",
      "version": "3.8.10"
    }
  },
  "cells": [
    {
      "cell_type": "markdown",
      "metadata": {
        "id": "TpG4HH9_1Dn-"
      },
      "source": [
        "Name: T R Hari Subramaniam\n",
        "\n",
        "Roll: AM.EN.U4CSE19056"
      ]
    },
    {
      "cell_type": "code",
      "metadata": {
        "id": "4U5X16INq5Dt"
      },
      "source": [
        "import numpy as np\n",
        "import pandas as pd\n",
        "import matplotlib.pyplot as plt"
      ],
      "execution_count": null,
      "outputs": []
    },
    {
      "cell_type": "code",
      "metadata": {
        "id": "QDVo9a-Drqkj"
      },
      "source": [
        "dataset_url = 'https://www.kaggle.com/bingazuran/nsfwsfwdataset2'"
      ],
      "execution_count": null,
      "outputs": []
    },
    {
      "cell_type": "code",
      "metadata": {
        "colab": {
          "base_uri": "https://localhost:8080/"
        },
        "id": "ywsZlpwIrygW",
        "outputId": "23dfb96e-12d1-48da-8097-306b5f606060"
      },
      "source": [
        "!pip install jovian opendatasets --upgrade --quiet\n",
        "import opendatasets as od\n",
        "od.download(dataset_url)"
      ],
      "execution_count": null,
      "outputs": [
        {
          "output_type": "stream",
          "name": "stdout",
          "text": [
            "Skipping, found downloaded files in \"./nsfwsfwdataset2\" (use force=True to force download)\n"
          ]
        }
      ]
    },
    {
      "cell_type": "code",
      "metadata": {
        "id": "Cfu13Q8xxU2s"
      },
      "source": [
        "import os\n",
        "import torch\n",
        "import torchvision\n",
        "import tarfile\n",
        "from torchvision.datasets.utils import download_url\n",
        "from torch.utils.data import random_split\n",
        "import torchvision.transforms as transforms\n",
        "from torch.autograd import Variable\n",
        "from torch.nn import Linear, ReLU, CrossEntropyLoss, Sequential, Conv2d, MaxPool2d, Module, Softmax, BatchNorm2d, Dropout\n",
        "from torch.optim import Adam, SGD\n",
        "import torch\n",
        "import torchvision\n",
        "import torchvision.transforms as transforms\n",
        "import torch.nn as nn\n",
        "import torch.optim as optim\n",
        "import torch.nn.functional as F"
      ],
      "execution_count": null,
      "outputs": []
    },
    {
      "cell_type": "code",
      "metadata": {
        "colab": {
          "base_uri": "https://localhost:8080/"
        },
        "id": "EWRvt1ykz74G",
        "outputId": "d905a4ba-2df6-4134-fc8c-b90efdc008ec"
      },
      "source": [
        "data_dir = './nsfwsfwdataset2/NSFW-FSW-Dataset-Omar-3'\n",
        "\n",
        "print(os.listdir(data_dir))\n",
        "classes = os.listdir(data_dir + \"/train\")\n",
        "print(classes)"
      ],
      "execution_count": null,
      "outputs": [
        {
          "output_type": "stream",
          "name": "stdout",
          "text": [
            "['train', 'test']\n",
            "['sfw', 'nsfw']\n"
          ]
        }
      ]
    },
    {
      "cell_type": "code",
      "metadata": {
        "id": "OJpuqzdCsWst"
      },
      "source": [
        "transform_train = transforms.Compose([\n",
        "    transforms.Resize(224),\n",
        "    transforms.RandomResizedCrop(224), \n",
        "    transforms.ToTensor(),\n",
        "    transforms.Normalize((0.5, 0.5, 0.5), (0.5, 0.5, 0.5)),\n",
        "    ])\n",
        "\n",
        "transform_test = transforms.Compose([\n",
        "    transforms.Resize(224),\n",
        "    transforms.RandomResizedCrop(224), \n",
        "    transforms.ToTensor(),\n",
        "    transforms.Normalize((0.5, 0.5, 0.5), (0.5, 0.5, 0.5)),\n",
        "    ])"
      ],
      "execution_count": null,
      "outputs": []
    },
    {
      "cell_type": "code",
      "metadata": {
        "id": "yvtbAsRU3ZAz"
      },
      "source": [
        "from torchvision.datasets import ImageFolder\n",
        "from torchvision.transforms import ToTensor"
      ],
      "execution_count": null,
      "outputs": []
    },
    {
      "cell_type": "code",
      "metadata": {
        "id": "tlflhcz3swu5"
      },
      "source": [
        "trainset = ImageFolder(data_dir+'/train', transform=transform_train)\n",
        "testset = ImageFolder(data_dir+'/test', transform=transform_test)"
      ],
      "execution_count": null,
      "outputs": []
    },
    {
      "cell_type": "code",
      "metadata": {
        "colab": {
          "base_uri": "https://localhost:8080/"
        },
        "id": "V48Uj2c0oP5F",
        "outputId": "4ed26955-0255-437a-aff0-44d067479b64"
      },
      "source": [
        "trainset"
      ],
      "execution_count": null,
      "outputs": [
        {
          "output_type": "execute_result",
          "data": {
            "text/plain": [
              "Dataset ImageFolder\n",
              "    Number of datapoints: 5000\n",
              "    Root location: ./nsfwsfwdataset2/NSFW-FSW-Dataset-Omar-3/train\n",
              "    StandardTransform\n",
              "Transform: Compose(\n",
              "               Resize(size=224, interpolation=bilinear, max_size=None, antialias=None)\n",
              "               RandomResizedCrop(size=(224, 224), scale=(0.08, 1.0), ratio=(0.75, 1.3333), interpolation=bilinear)\n",
              "               ToTensor()\n",
              "               Normalize(mean=(0.5, 0.5, 0.5), std=(0.5, 0.5, 0.5))\n",
              "           )"
            ]
          },
          "metadata": {},
          "execution_count": 9
        }
      ]
    },
    {
      "cell_type": "code",
      "metadata": {
        "id": "vFTzvUTuMJR-"
      },
      "source": [
        "batch_size = 16\n",
        "trainloader = torch.utils.data.DataLoader(trainset, batch_size=batch_size, shuffle=True)"
      ],
      "execution_count": null,
      "outputs": []
    },
    {
      "cell_type": "code",
      "metadata": {
        "id": "Ksb0X1ZaMhjE"
      },
      "source": [
        "testloader = torch.utils.data.DataLoader(testset, batch_size=batch_size, shuffle=True)"
      ],
      "execution_count": null,
      "outputs": []
    },
    {
      "cell_type": "code",
      "metadata": {
        "colab": {
          "base_uri": "https://localhost:8080/"
        },
        "id": "gsAfexhsuoH-",
        "outputId": "b08dac29-ce22-49c3-f0d6-568280bcdd8c"
      },
      "source": [
        "img, label = trainset[0]\n",
        "print(img.shape, label)\n",
        "img"
      ],
      "execution_count": null,
      "outputs": [
        {
          "output_type": "stream",
          "name": "stdout",
          "text": [
            "torch.Size([3, 224, 224]) 0\n"
          ]
        },
        {
          "output_type": "execute_result",
          "data": {
            "text/plain": [
              "tensor([[[-0.7255, -0.7255, -0.7176,  ...,  0.5765,  0.5608,  0.5451],\n",
              "         [-0.7020, -0.7020, -0.7020,  ...,  0.5529,  0.5451,  0.5373],\n",
              "         [-0.6784, -0.6784, -0.6784,  ...,  0.5373,  0.5373,  0.5373],\n",
              "         ...,\n",
              "         [-0.0275, -0.0196, -0.0039,  ..., -0.0980, -0.0980, -0.0980],\n",
              "         [ 0.0431,  0.0667,  0.0824,  ..., -0.1529, -0.1451, -0.1451],\n",
              "         [ 0.1216,  0.1451,  0.1608,  ..., -0.1922, -0.1843, -0.1843]],\n",
              "\n",
              "        [[-0.9137, -0.9137, -0.9059,  ..., -0.0824, -0.1059, -0.1294],\n",
              "         [-0.9059, -0.9059, -0.9059,  ..., -0.1059, -0.1137, -0.1294],\n",
              "         [-0.8980, -0.8980, -0.8980,  ..., -0.1216, -0.1216, -0.1216],\n",
              "         ...,\n",
              "         [-0.4588, -0.4196, -0.3804,  ..., -0.6157, -0.6157, -0.6157],\n",
              "         [-0.2784, -0.2471, -0.2157,  ..., -0.6549, -0.6549, -0.6549],\n",
              "         [-0.1137, -0.0902, -0.0745,  ..., -0.6784, -0.6784, -0.6784]],\n",
              "\n",
              "        [[-0.9451, -0.9451, -0.9373,  ..., -0.3490, -0.3804, -0.4039],\n",
              "         [-0.9373, -0.9373, -0.9294,  ..., -0.3647, -0.3882, -0.4039],\n",
              "         [-0.9216, -0.9216, -0.9216,  ..., -0.3804, -0.3882, -0.3961],\n",
              "         ...,\n",
              "         [-0.5294, -0.4902, -0.4588,  ..., -0.7490, -0.7569, -0.7569],\n",
              "         [-0.3412, -0.3176, -0.3020,  ..., -0.7804, -0.7804, -0.7804],\n",
              "         [-0.1765, -0.1686, -0.1765,  ..., -0.8039, -0.7961, -0.7961]]])"
            ]
          },
          "metadata": {},
          "execution_count": 12
        }
      ]
    },
    {
      "cell_type": "code",
      "metadata": {
        "id": "np3uTutZLuKo"
      },
      "source": [
        "from torchsummary import summary\n",
        "\n",
        "device = torch.device('cuda' if torch.cuda.is_available() else 'cpu')"
      ],
      "execution_count": null,
      "outputs": []
    },
    {
      "cell_type": "code",
      "metadata": {
        "id": "H-njH7-pLgMG"
      },
      "source": [
        "from torchvision import models\n",
        "batch_size = 16"
      ],
      "execution_count": null,
      "outputs": []
    },
    {
      "cell_type": "code",
      "metadata": {
        "colab": {
          "base_uri": "https://localhost:8080/"
        },
        "id": "UNWZXo9z6EXy",
        "outputId": "d6be3293-09da-42fe-9b8d-7196887c07d2"
      },
      "source": [
        "!git clone https://github.com/lukemelas/EfficientNet-PyTorch\n",
        "!cd EfficientNet-Pytorch\n",
        "!pip install -e .\n",
        "!pip install efficientnet_pytorch"
      ],
      "execution_count": null,
      "outputs": [
        {
          "output_type": "stream",
          "name": "stdout",
          "text": [
            "fatal: destination path 'EfficientNet-PyTorch' already exists and is not an empty directory.\n",
            "/bin/bash: line 0: cd: EfficientNet-Pytorch: No such file or directory\n",
            "\u001b[31mERROR: File \"setup.py\" or \"setup.cfg\" not found. Directory cannot be installed in editable mode: /content\u001b[0m\n",
            "Requirement already satisfied: efficientnet_pytorch in /usr/local/lib/python3.7/dist-packages (0.7.1)\n",
            "Requirement already satisfied: torch in /usr/local/lib/python3.7/dist-packages (from efficientnet_pytorch) (1.10.0+cu111)\n",
            "Requirement already satisfied: typing-extensions in /usr/local/lib/python3.7/dist-packages (from torch->efficientnet_pytorch) (3.10.0.2)\n"
          ]
        }
      ]
    },
    {
      "cell_type": "code",
      "metadata": {
        "id": "tmA-hhLGmOl9",
        "colab": {
          "base_uri": "https://localhost:8080/"
        },
        "outputId": "8c0f52c4-737a-47d6-9c73-6695f84831d4"
      },
      "source": [
        "#vgg = models.vgg16_bn(pretrained=True)\n",
        "from efficientnet_pytorch import EfficientNet\n",
        "effNet = EfficientNet.from_pretrained('efficientnet-b0')   #Intialising efficientnet-b0."
      ],
      "execution_count": null,
      "outputs": [
        {
          "output_type": "stream",
          "name": "stdout",
          "text": [
            "Loaded pretrained weights for efficientnet-b0\n"
          ]
        }
      ]
    },
    {
      "cell_type": "code",
      "metadata": {
        "colab": {
          "base_uri": "https://localhost:8080/"
        },
        "id": "pU_lyfEp8DF9",
        "outputId": "d8d04555-ecd1-417b-c7e0-0c0bf24ebae0"
      },
      "source": [
        "effNet._fc"
      ],
      "execution_count": null,
      "outputs": [
        {
          "output_type": "execute_result",
          "data": {
            "text/plain": [
              "Linear(in_features=1280, out_features=1000, bias=True)"
            ]
          },
          "metadata": {},
          "execution_count": 17
        }
      ]
    },
    {
      "cell_type": "code",
      "metadata": {
        "id": "KGEavxsj8C_k"
      },
      "source": [
        "import torch.nn as nn\n",
        "num_classes = 2\n",
        "class EfficientNet_b0(nn.Module):\n",
        "    def __init__(self):\n",
        "        super(EfficientNet_b0, self).__init__()\n",
        "        self.model =EfficientNet.from_pretrained('efficientnet-b0')       # Give variant as per requirement\n",
        "        \n",
        "        self.model._fc = nn.Sequential(\n",
        "            nn.Linear(self.model._fc.in_features, num_classes)                                              # Required if training with NLLLoss\n",
        "        )\n",
        "        \n",
        "    def forward(self, x):\n",
        "        out = self.model(x)\n",
        "        return out"
      ],
      "execution_count": null,
      "outputs": []
    },
    {
      "cell_type": "code",
      "metadata": {
        "colab": {
          "base_uri": "https://localhost:8080/"
        },
        "id": "bYXOfT238Cv2",
        "outputId": "c1ce5fa6-c9c3-4326-c9e5-5bbdf72bfdbc"
      },
      "source": [
        "effNet = EfficientNet_b0()   # Initialsing an object of the class."
      ],
      "execution_count": null,
      "outputs": [
        {
          "output_type": "stream",
          "name": "stdout",
          "text": [
            "Loaded pretrained weights for efficientnet-b0\n"
          ]
        }
      ]
    },
    {
      "cell_type": "code",
      "metadata": {
        "id": "6RtkBlgY8CqJ"
      },
      "source": [
        "device = torch.device(\"cuda:0\" if torch.cuda.is_available() else \"cpu\")"
      ],
      "execution_count": null,
      "outputs": []
    },
    {
      "cell_type": "code",
      "metadata": {
        "id": "aZANvhUS8Cln"
      },
      "source": [
        "effNet = effNet.to('cuda')    # Load the model to GPU."
      ],
      "execution_count": null,
      "outputs": []
    },
    {
      "cell_type": "code",
      "metadata": {
        "id": "BK-LWy5Y8Cc4"
      },
      "source": [
        "opt = optim.Adam(effNet.parameters())   \n",
        "loss_fn = nn.CrossEntropyLoss()                           "
      ],
      "execution_count": null,
      "outputs": []
    },
    {
      "cell_type": "code",
      "metadata": {
        "id": "DREVCBBp557E"
      },
      "source": [
        "def evaluation(dataloader, model):\n",
        "    total, correct = 0, 0\n",
        "    for data in dataloader:\n",
        "        inputs, labels = data\n",
        "        inputs, labels = inputs.to(device), labels.to(device)\n",
        "        outputs = model(inputs)\n",
        "        _, pred = torch.max(outputs.data, 1)\n",
        "        total += labels.size(0)\n",
        "        correct += (pred == labels).sum().item()\n",
        "    return 100 * correct / total"
      ],
      "execution_count": null,
      "outputs": []
    },
    {
      "cell_type": "code",
      "metadata": {
        "colab": {
          "base_uri": "https://localhost:8080/",
          "height": 696
        },
        "id": "-CuSkEmd8TIq",
        "outputId": "6b82838c-dd2d-44bd-c080-761c604f6bd3"
      },
      "source": [
        "loss_epoch_arr = []\n",
        "max_epochs = 5\n",
        "\n",
        "n_iters = np.ceil(5000/batch_size)\n",
        "\n",
        "for epoch in range(max_epochs):\n",
        "\n",
        "    for i, data in enumerate(trainloader, 0):\n",
        "\n",
        "        inputs, labels = data\n",
        "        inputs, labels = inputs.to(device), labels.to(device)\n",
        "\n",
        "        opt.zero_grad()\n",
        "\n",
        "        outputs = effNet(inputs)\n",
        "        loss = loss_fn(outputs, labels)\n",
        "        loss.backward()\n",
        "        opt.step()\n",
        "        \n",
        "        del inputs, labels, outputs\n",
        "        torch.cuda.empty_cache()\n",
        "        \n",
        "        if i % 100 == 0:\n",
        "            print('Iteration: %d/%d, Loss: %0.2f' % (i, n_iters, loss.item()))\n",
        "        \n",
        "    loss_epoch_arr.append(loss.item())\n",
        "        \n",
        "    print('Epoch: %d/%d, Test acc: %0.2f, Train acc: %0.2f' % (\n",
        "        epoch, max_epochs, \n",
        "        evaluation(testloader, effNet), evaluation(trainloader, effNet)))\n",
        "    \n",
        "plt.plot(loss_epoch_arr)\n",
        "plt.show()"
      ],
      "execution_count": null,
      "outputs": [
        {
          "output_type": "stream",
          "name": "stdout",
          "text": [
            "Iteration: 0/313, Loss: 0.75\n",
            "Iteration: 100/313, Loss: 0.12\n",
            "Iteration: 200/313, Loss: 0.40\n",
            "Iteration: 300/313, Loss: 0.32\n",
            "Epoch: 0/5, Test acc: 89.40, Train acc: 88.52\n",
            "Iteration: 0/313, Loss: 0.14\n",
            "Iteration: 100/313, Loss: 0.24\n",
            "Iteration: 200/313, Loss: 0.08\n",
            "Iteration: 300/313, Loss: 0.16\n",
            "Epoch: 1/5, Test acc: 87.60, Train acc: 90.18\n",
            "Iteration: 0/313, Loss: 0.49\n",
            "Iteration: 100/313, Loss: 0.12\n",
            "Iteration: 200/313, Loss: 0.23\n",
            "Iteration: 300/313, Loss: 0.39\n",
            "Epoch: 2/5, Test acc: 87.60, Train acc: 90.62\n",
            "Iteration: 0/313, Loss: 0.26\n",
            "Iteration: 100/313, Loss: 0.32\n",
            "Iteration: 200/313, Loss: 0.61\n",
            "Iteration: 300/313, Loss: 0.07\n",
            "Epoch: 3/5, Test acc: 89.00, Train acc: 91.90\n",
            "Iteration: 0/313, Loss: 0.45\n",
            "Iteration: 100/313, Loss: 0.40\n",
            "Iteration: 200/313, Loss: 0.09\n",
            "Iteration: 300/313, Loss: 0.12\n",
            "Epoch: 4/5, Test acc: 89.70, Train acc: 91.84\n"
          ]
        },
        {
          "output_type": "display_data",
          "data": {
            "image/png": "[encoded data removed]",
            "text/plain": [
              "<Figure size 432x288 with 1 Axes>"
            ]
          },
          "metadata": {
            "needs_background": "light"
          }
        }
      ]
    },
    {
      "cell_type": "code",
      "metadata": {
        "id": "JxqRxPdMfnef"
      },
      "source": [
        "test_train = [[88.52, 89.40], [ 90.18, 87.60], [ 90.62, 87.60], [ 91.90, 89.00], [91.84, 89.70]]"
      ],
      "execution_count": null,
      "outputs": []
    },
    {
      "cell_type": "code",
      "metadata": {
        "colab": {
          "base_uri": "https://localhost:8080/",
          "height": 294
        },
        "id": "PKWvlkHbdWTC",
        "outputId": "a05a700a-61e8-41fc-fe91-d5a11b6a7960"
      },
      "source": [
        "epoch = [1,2,3,4,5]\n",
        "fig = plt.figure();\n",
        "fig.suptitle('Accuracy Comparison');\n",
        "ax = fig.add_subplot(111);\n",
        "plt.boxplot(test_train);\n",
        "ax.set_xticklabels(epoch);\n",
        "plt.show();"
      ],
      "execution_count": null,
      "outputs": [
        {
          "output_type": "display_data",
          "data": {
            "image/png": "[encoded data removed]",
            "text/plain": [
              "<Figure size 432x288 with 1 Axes>"
            ]
          },
          "metadata": {
            "needs_background": "light"
          }
        }
      ]
    },
    {
      "cell_type": "code",
      "metadata": {
        "id": "Z0mNs3mWr97J"
      },
      "source": [
        "train_accuracy = [88.52, 90.18, 90.62, 91.90, 91.84] \n",
        "test_accuracy = [89.40, 87.60, 87.60, 89.00, 89.70] "
      ],
      "execution_count": null,
      "outputs": []
    },
    {
      "cell_type": "code",
      "metadata": {
        "colab": {
          "base_uri": "https://localhost:8080/",
          "height": 404
        },
        "id": "MiSKC9Hnrx8l",
        "outputId": "1fbb1429-439d-47f2-e031-c721b0e28d0a"
      },
      "source": [
        "plt.figure(figsize=(12,6));\n",
        "plt.plot(train_accuracy, 'o--r');\n",
        "plt.plot(test_accuracy,'o--g');\n",
        "plt.xlabel('Epochs');\n",
        "plt.ylabel('Accuracy');\n",
        "plt.title('Train vs Test Accuracy');\n",
        "plt.legend(['Train Accuracy','Test Accuracy']);"
      ],
      "execution_count": null,
      "outputs": [
        {
          "output_type": "display_data",
          "data": {
            "image/png": "[encoded data removed]",
            "text/plain": [
              "<Figure size 864x432 with 1 Axes>"
            ]
          },
          "metadata": {
            "needs_background": "light"
          }
        }
      ]
    },
    {
      "cell_type": "code",
      "metadata": {
        "colab": {
          "base_uri": "https://localhost:8080/"
        },
        "id": "lwbFyQTSr7Ce",
        "outputId": "5ca15cf1-8db8-4550-ea07-8f942c803758"
      },
      "source": [
        "sum(test_accuracy)/len(test_accuracy)"
      ],
      "execution_count": null,
      "outputs": [
        {
          "output_type": "execute_result",
          "data": {
            "text/plain": [
              "88.66"
            ]
          },
          "metadata": {},
          "execution_count": 33
        }
      ]
    },
    {
      "cell_type": "code",
      "metadata": {
        "colab": {
          "base_uri": "https://localhost:8080/"
        },
        "id": "ND0N02ouzwHy",
        "outputId": "2c42be93-73be-4ec4-8f1b-345cdf674329"
      },
      "source": [
        "testlist = [86.9,89.88,90.66,90.26,88.72]\n",
        "sum(testlist)/len(testlist)"
      ],
      "execution_count": null,
      "outputs": [
        {
          "output_type": "execute_result",
          "data": {
            "text/plain": [
              "89.28399999999999"
            ]
          },
          "metadata": {},
          "execution_count": 34
        }
      ]
    },
    {
      "cell_type": "code",
      "metadata": {
        "colab": {
          "base_uri": "https://localhost:8080/"
        },
        "id": "HAsZzzXL1Af2",
        "outputId": "0281f9ad-c9e4-4fb7-bb5b-312bf4b3afb7"
      },
      "source": [
        "testlist = [88.74,89.18,90.38,90.86,90.66]\n",
        "sum(testlist)/len(testlist)"
      ],
      "execution_count": null,
      "outputs": [
        {
          "output_type": "execute_result",
          "data": {
            "text/plain": [
              "89.96400000000001"
            ]
          },
          "metadata": {},
          "execution_count": 35
        }
      ]
    },
    {
      "cell_type": "code",
      "metadata": {
        "id": "4myTHovL1K1W"
      },
      "source": [
        ""
      ],
      "execution_count": null,
      "outputs": []
    }
  ]
}