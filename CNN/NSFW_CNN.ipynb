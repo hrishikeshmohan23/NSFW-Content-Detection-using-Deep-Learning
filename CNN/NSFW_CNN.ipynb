{
 "cells": [
  {
   "cell_type": "markdown",
   "metadata": {},
   "source": [
    "Name: T R Hari Subramaniam\n",
    "\n",
    "Roll: AM.EN.U4CSE19056"
   ]
  },
  {
   "cell_type": "code",
   "execution_count": 1,
   "metadata": {
    "id": "4U5X16INq5Dt"
   },
   "outputs": [],
   "source": [
    "import numpy as np\n",
    "import pandas as pd\n",
    "import matplotlib.pyplot as plt"
   ]
  },
  {
   "cell_type": "code",
   "execution_count": 2,
   "metadata": {
    "id": "QDVo9a-Drqkj"
   },
   "outputs": [],
   "source": [
    "dataset_url = 'https://www.kaggle.com/bingazuran/nsfwsfwdataset2'"
   ]
  },
  {
   "cell_type": "code",
   "execution_count": 3,
   "metadata": {
    "colab": {
     "base_uri": "https://localhost:8080/"
    },
    "id": "ywsZlpwIrygW",
    "outputId": "e27ee350-d987-4353-c9cd-6a4d7f29ac25"
   },
   "outputs": [
    {
     "name": "stdout",
     "output_type": "stream",
     "text": [
      "Skipping, found downloaded files in \"./nsfwsfwdataset2\" (use force=True to force download)\n"
     ]
    }
   ],
   "source": [
    "!pip install jovian opendatasets --upgrade --quiet\n",
    "import opendatasets as od\n",
    "od.download(dataset_url)"
   ]
  },
  {
   "cell_type": "code",
   "execution_count": 4,
   "metadata": {
    "id": "Cfu13Q8xxU2s"
   },
   "outputs": [],
   "source": [
    "import os\n",
    "import torch\n",
    "import torchvision\n",
    "import tarfile\n",
    "from torchvision.datasets.utils import download_url\n",
    "from torch.utils.data import random_split\n",
    "import torchvision.transforms as transforms\n",
    "from torch.autograd import Variable\n",
    "from torch.nn import Linear, ReLU, CrossEntropyLoss, Sequential, Conv2d, MaxPool2d, Module, Softmax, BatchNorm2d, Dropout\n",
    "from torch.optim import Adam, SGD\n",
    "import torch\n",
    "import torchvision\n",
    "import torchvision.transforms as transforms\n",
    "import torch.nn as nn\n",
    "import torch.optim as optim\n",
    "import torch.nn.functional as F"
   ]
  },
  {
   "cell_type": "code",
   "execution_count": 5,
   "metadata": {
    "colab": {
     "base_uri": "https://localhost:8080/"
    },
    "id": "EWRvt1ykz74G",
    "outputId": "7cc4dad4-378e-4b17-f4d4-9280fe56d1d4"
   },
   "outputs": [
    {
     "name": "stdout",
     "output_type": "stream",
     "text": [
      "['train', 'test']\n",
      "['nsfw', 'sfw']\n"
     ]
    }
   ],
   "source": [
    "data_dir = './nsfwsfwdataset2/NSFW-FSW-Dataset-Omar-3'\n",
    "\n",
    "print(os.listdir(data_dir))\n",
    "classes = os.listdir(data_dir + \"/train\")\n",
    "print(classes)"
   ]
  },
  {
   "cell_type": "code",
   "execution_count": 6,
   "metadata": {
    "id": "OJpuqzdCsWst"
   },
   "outputs": [],
   "source": [
    "transform_train = transforms.Compose([\n",
    "    transforms.Resize(224),\n",
    "    transforms.RandomResizedCrop(224), \n",
    "    transforms.ToTensor(),\n",
    "    transforms.Normalize((0.5, 0.5, 0.5), (0.5, 0.5, 0.5)),\n",
    "    ])\n",
    "\n",
    "transform_test = transforms.Compose([\n",
    "    transforms.Resize(224),\n",
    "    transforms.RandomResizedCrop(224), \n",
    "    transforms.ToTensor(),\n",
    "    transforms.Normalize((0.5, 0.5, 0.5), (0.5, 0.5, 0.5)),\n",
    "    ])"
   ]
  },
  {
   "cell_type": "code",
   "execution_count": 7,
   "metadata": {
    "id": "yvtbAsRU3ZAz"
   },
   "outputs": [],
   "source": [
    "from torchvision.datasets import ImageFolder\n",
    "from torchvision.transforms import ToTensor"
   ]
  },
  {
   "cell_type": "code",
   "execution_count": 9,
   "metadata": {
    "id": "tlflhcz3swu5"
   },
   "outputs": [],
   "source": [
    "trainset = ImageFolder(data_dir+'/train', transform=transform_train)\n",
    "testset = ImageFolder(data_dir+'/test', transform=transform_test)"
   ]
  },
  {
   "cell_type": "code",
   "execution_count": 10,
   "metadata": {
    "colab": {
     "base_uri": "https://localhost:8080/"
    },
    "id": "V48Uj2c0oP5F",
    "outputId": "23c1fe4c-233d-4f67-83a3-b03cb3822c7a"
   },
   "outputs": [
    {
     "data": {
      "text/plain": [
       "Dataset ImageFolder\n",
       "    Number of datapoints: 5000\n",
       "    Root location: ./nsfwsfwdataset2/NSFW-FSW-Dataset-Omar-3/train\n",
       "    StandardTransform\n",
       "Transform: Compose(\n",
       "               Resize(size=224, interpolation=bilinear, max_size=None, antialias=None)\n",
       "               RandomResizedCrop(size=(224, 224), scale=(0.08, 1.0), ratio=(0.75, 1.3333), interpolation=bilinear)\n",
       "               ToTensor()\n",
       "               Normalize(mean=(0.5, 0.5, 0.5), std=(0.5, 0.5, 0.5))\n",
       "           )"
      ]
     },
     "execution_count": 10,
     "metadata": {},
     "output_type": "execute_result"
    }
   ],
   "source": [
    "trainset"
   ]
  },
  {
   "cell_type": "code",
   "execution_count": 23,
   "metadata": {
    "id": "vFTzvUTuMJR-"
   },
   "outputs": [],
   "source": [
    "batch_size = 16\n",
    "trainloader = torch.utils.data.DataLoader(trainset, batch_size=batch_size, shuffle=True)"
   ]
  },
  {
   "cell_type": "code",
   "execution_count": 24,
   "metadata": {
    "id": "Ksb0X1ZaMhjE"
   },
   "outputs": [],
   "source": [
    "testloader = torch.utils.data.DataLoader(testset, batch_size=batch_size, shuffle=True)"
   ]
  },
  {
   "cell_type": "code",
   "execution_count": 25,
   "metadata": {
    "colab": {
     "base_uri": "https://localhost:8080/"
    },
    "id": "gsAfexhsuoH-",
    "outputId": "d4554bfc-40fc-46ef-9ebc-d4f2c5ab40b4"
   },
   "outputs": [
    {
     "name": "stdout",
     "output_type": "stream",
     "text": [
      "torch.Size([3, 224, 224]) 0\n"
     ]
    },
    {
     "data": {
      "text/plain": [
       "tensor([[[ 0.5686,  0.5765,  0.5843,  ...,  0.8118,  0.8039,  0.7882],\n",
       "         [ 0.5529,  0.5608,  0.5686,  ...,  0.7882,  0.7961,  0.8118],\n",
       "         [ 0.5451,  0.5529,  0.5529,  ...,  0.7804,  0.7882,  0.8275],\n",
       "         ...,\n",
       "         [ 0.3569,  0.3412,  0.3255,  ...,  0.1373,  0.1373,  0.1294],\n",
       "         [ 0.3490,  0.3333,  0.3255,  ...,  0.1373,  0.1294,  0.1216],\n",
       "         [ 0.3333,  0.3255,  0.3176,  ...,  0.1294,  0.1216,  0.1137]],\n",
       "\n",
       "        [[-0.0275, -0.0353, -0.0353,  ...,  0.1765,  0.1765,  0.1686],\n",
       "         [-0.0510, -0.0510, -0.0510,  ...,  0.1608,  0.1686,  0.1922],\n",
       "         [-0.0588, -0.0510, -0.0510,  ...,  0.1529,  0.1686,  0.2078],\n",
       "         ...,\n",
       "         [-0.3176, -0.3333, -0.3412,  ..., -0.4196, -0.4353, -0.4431],\n",
       "         [-0.3412, -0.3490, -0.3490,  ..., -0.4118, -0.4275, -0.4431],\n",
       "         [-0.3569, -0.3647, -0.3569,  ..., -0.4118, -0.4196, -0.4431]],\n",
       "\n",
       "        [[-0.2627, -0.2627, -0.2471,  ..., -0.0745, -0.0745, -0.0980],\n",
       "         [-0.2863, -0.2784, -0.2706,  ..., -0.0902, -0.0902, -0.0824],\n",
       "         [-0.2941, -0.2863, -0.2863,  ..., -0.0980, -0.0980, -0.0745],\n",
       "         ...,\n",
       "         [-0.4039, -0.4196, -0.4275,  ..., -0.5373, -0.5451, -0.5529],\n",
       "         [-0.4196, -0.4275, -0.4275,  ..., -0.5373, -0.5451, -0.5529],\n",
       "         [-0.4353, -0.4353, -0.4353,  ..., -0.5373, -0.5451, -0.5608]]])"
      ]
     },
     "execution_count": 25,
     "metadata": {},
     "output_type": "execute_result"
    }
   ],
   "source": [
    "img, label = trainset[0]\n",
    "print(img.shape, label)\n",
    "img"
   ]
  },
  {
   "cell_type": "code",
   "execution_count": 26,
   "metadata": {
    "id": "np3uTutZLuKo"
   },
   "outputs": [],
   "source": [
    "from torchsummary import summary\n",
    "\n",
    "device = torch.device('cuda' if torch.cuda.is_available() else 'cpu')"
   ]
  },
  {
   "cell_type": "code",
   "execution_count": 27,
   "metadata": {
    "id": "H-njH7-pLgMG"
   },
   "outputs": [],
   "source": [
    "from torchvision import models\n",
    "batch_size = 16"
   ]
  },
  {
   "cell_type": "code",
   "execution_count": 28,
   "metadata": {
    "id": "tmA-hhLGmOl9"
   },
   "outputs": [],
   "source": [
    "vgg = models.vgg16_bn(pretrained=True)"
   ]
  },
  {
   "cell_type": "code",
   "execution_count": 29,
   "metadata": {
    "id": "g8x97yuimUPQ"
   },
   "outputs": [],
   "source": [
    "for param in vgg.parameters():\n",
    "    param.requires_grad = False"
   ]
  },
  {
   "cell_type": "code",
   "execution_count": 30,
   "metadata": {
    "id": "JM8JsSCJmhfB"
   },
   "outputs": [],
   "source": [
    "num_classes = 2\n",
    "final_in_features = vgg.classifier[6].in_features\n",
    "vgg.classifier[6] = nn.Linear(final_in_features, num_classes)"
   ]
  },
  {
   "cell_type": "code",
   "execution_count": 31,
   "metadata": {
    "colab": {
     "base_uri": "https://localhost:8080/"
    },
    "id": "OwrlXaxnmjFw",
    "outputId": "31623138-a5da-4f0d-f87e-a7b156f237c0"
   },
   "outputs": [
    {
     "name": "stdout",
     "output_type": "stream",
     "text": [
      "torch.Size([2, 4096])\n",
      "torch.Size([2])\n"
     ]
    }
   ],
   "source": [
    "for param in vgg.parameters():\n",
    "    if param.requires_grad:\n",
    "        print(param.shape)"
   ]
  },
  {
   "cell_type": "code",
   "execution_count": 32,
   "metadata": {
    "id": "NhIWL3HdmWfN"
   },
   "outputs": [],
   "source": [
    "vgg = vgg.to(device)\n",
    "loss_fn = nn.CrossEntropyLoss()\n",
    "opt = optim.SGD(vgg.parameters(), lr=0.05)"
   ]
  },
  {
   "cell_type": "code",
   "execution_count": 33,
   "metadata": {
    "id": "DREVCBBp557E"
   },
   "outputs": [],
   "source": [
    "def evaluation(dataloader, model):\n",
    "    total, correct = 0, 0\n",
    "    for data in dataloader:\n",
    "        inputs, labels = data\n",
    "        inputs, labels = inputs.to(device), labels.to(device)\n",
    "        outputs = model(inputs)\n",
    "        _, pred = torch.max(outputs.data, 1)\n",
    "        total += labels.size(0)\n",
    "        correct += (pred == labels).sum().item()\n",
    "    return 100 * correct / total"
   ]
  },
  {
   "cell_type": "code",
   "execution_count": 34,
   "metadata": {
    "colab": {
     "base_uri": "https://localhost:8080/",
     "height": 696
    },
    "id": "AzDeg32pn2nf",
    "outputId": "b68dcba4-0370-4f60-cc0a-f1687cef5ef1"
   },
   "outputs": [
    {
     "name": "stdout",
     "output_type": "stream",
     "text": [
      "Iteration: 0/313, Loss: 0.76\n",
      "Iteration: 100/313, Loss: 0.54\n",
      "Iteration: 200/313, Loss: 0.29\n",
      "Iteration: 300/313, Loss: 0.55\n",
      "Epoch: 0/5, Test acc: 86.60, Train acc: 87.98\n",
      "Iteration: 0/313, Loss: 1.12\n",
      "Iteration: 100/313, Loss: 0.05\n",
      "Iteration: 200/313, Loss: 0.58\n",
      "Iteration: 300/313, Loss: 0.42\n",
      "Epoch: 1/5, Test acc: 80.90, Train acc: 81.06\n",
      "Iteration: 0/313, Loss: 0.83\n",
      "Iteration: 100/313, Loss: 0.18\n",
      "Iteration: 200/313, Loss: 0.71\n",
      "Iteration: 300/313, Loss: 0.93\n",
      "Epoch: 2/5, Test acc: 85.90, Train acc: 86.18\n",
      "Iteration: 0/313, Loss: 0.33\n",
      "Iteration: 100/313, Loss: 0.34\n",
      "Iteration: 200/313, Loss: 0.32\n",
      "Iteration: 300/313, Loss: 0.08\n",
      "Epoch: 3/5, Test acc: 85.60, Train acc: 86.98\n",
      "Iteration: 0/313, Loss: 0.36\n",
      "Iteration: 100/313, Loss: 0.29\n",
      "Iteration: 200/313, Loss: 0.52\n",
      "Iteration: 300/313, Loss: 0.01\n",
      "Epoch: 4/5, Test acc: 86.90, Train acc: 87.98\n"
     ]
    },
    {
     "data": {
      "image/png": "[encoded data removed]",
      "text/plain": [
       "<Figure size 432x288 with 1 Axes>"
      ]
     },
     "metadata": {
      "needs_background": "light"
     },
     "output_type": "display_data"
    }
   ],
   "source": [
    "loss_epoch_arr = []\n",
    "max_epochs = 5\n",
    "train_accuracy = []\n",
    "test_accuracy = []\n",
    "\n",
    "n_iters = np.ceil(5000/batch_size)\n",
    "\n",
    "for epoch in range(max_epochs):\n",
    "\n",
    "    for i, data in enumerate(trainloader, 0):\n",
    "\n",
    "        inputs, labels = data\n",
    "        inputs, labels = inputs.to(device), labels.to(device)\n",
    "\n",
    "        opt.zero_grad()\n",
    "\n",
    "        outputs = vgg(inputs)\n",
    "        loss = loss_fn(outputs, labels)\n",
    "        loss.backward()\n",
    "        opt.step()\n",
    "        \n",
    "        if i % 100 == 0:\n",
    "            print('Iteration: %d/%d, Loss: %0.2f' % (i, n_iters, loss.item()))\n",
    "            \n",
    "        del inputs, labels, outputs\n",
    "        torch.cuda.empty_cache()\n",
    "        \n",
    "    loss_epoch_arr.append(loss.item())\n",
    "\n",
    "    train_a = evaluation(trainloader, vgg)\n",
    "    test_a = evaluation(testloader, vgg)\n",
    "        \n",
    "    print('Epoch: %d/%d, Test acc: %0.2f, Train acc: %0.2f' % (\n",
    "        epoch, max_epochs, test_a, train_a))\n",
    "    train_accuracy.append(train_a)\n",
    "    test_accuracy.append(test_a)\n",
    "    \n",
    "    \n",
    "plt.plot(loss_epoch_arr)\n",
    "plt.show()"
   ]
  },
  {
   "cell_type": "code",
   "execution_count": 37,
   "metadata": {
    "colab": {
     "base_uri": "https://localhost:8080/"
    },
    "id": "ymTGayUxMXRR",
    "outputId": "55ec60a6-28b0-43d5-d76d-0be276094dfb"
   },
   "outputs": [
    {
     "data": {
      "text/plain": [
       "[[87.98, 86.6], [81.06, 80.9], [86.18, 85.9], [86.98, 85.6], [87.98, 86.9]]"
      ]
     },
     "execution_count": 37,
     "metadata": {},
     "output_type": "execute_result"
    }
   ],
   "source": [
    "train_test = []\n",
    "for i in range(len(train_accuracy)):\n",
    "  train_test.append([train_accuracy[i], test_accuracy[i]])\n",
    "train_test"
   ]
  },
  {
   "cell_type": "code",
   "execution_count": 38,
   "metadata": {
    "colab": {
     "base_uri": "https://localhost:8080/",
     "height": 294
    },
    "id": "CqYrGf6UXz9Y",
    "outputId": "f2688bd7-82ed-4bdf-8c7d-80f838bdd6eb"
   },
   "outputs": [
    {
     "data": {
      "image/png": "[encoded data removed]",
      "text/plain": [
       "<Figure size 432x288 with 1 Axes>"
      ]
     },
     "metadata": {
      "needs_background": "light"
     },
     "output_type": "display_data"
    }
   ],
   "source": [
    "epoch = [1,2,3,4,5]\n",
    "fig = plt.figure();\n",
    "fig.suptitle('Accuracy Comparison');\n",
    "ax = fig.add_subplot(111);\n",
    "plt.boxplot(train_test);\n",
    "ax.set_xticklabels(epoch);\n",
    "plt.show();"
   ]
  },
  {
   "cell_type": "code",
   "execution_count": 35,
   "metadata": {
    "colab": {
     "base_uri": "https://localhost:8080/",
     "height": 390
    },
    "id": "wDhnMUp6ePNk",
    "outputId": "9de78f31-de1b-405b-ea39-0b5329e4d1c8"
   },
   "outputs": [
    {
     "data": {
      "image/png": "[encoded data removed]",
      "text/plain": [
       "<Figure size 864x432 with 1 Axes>"
      ]
     },
     "metadata": {
      "needs_background": "light"
     },
     "output_type": "display_data"
    }
   ],
   "source": [
    "plt.figure(figsize=(12,6));\n",
    "plt.plot(train_accuracy, 'o--r');\n",
    "plt.plot(test_accuracy,'o--g');\n",
    "#plt.xlabel('Year')\n",
    "#plt.ylabel('Temperature variation')\n",
    "plt.title('Train vs Test Accuracy');\n",
    "plt.legend(['Train Accuracy','Test Accuracy']);"
   ]
  },
  {
   "cell_type": "code",
   "execution_count": null,
   "metadata": {
    "id": "JxqRxPdMfnef"
   },
   "outputs": [],
   "source": []
  }
 ],
 "metadata": {
  "accelerator": "GPU",
  "colab": {
   "collapsed_sections": [],
   "name": "NSFW_CNN.ipynb",
   "provenance": []
  },
  "kernelspec": {
   "display_name": "Python 3",
   "language": "python",
   "name": "python3"
  },
  "language_info": {
   "codemirror_mode": {
    "name": "ipython",
    "version": 3
   },
   "file_extension": ".py",
   "mimetype": "text/x-python",
   "name": "python",
   "nbconvert_exporter": "python",
   "pygments_lexer": "ipython3",
   "version": "3.8.10"
  }
 },
 "nbformat": 4,
 "nbformat_minor": 1
}
