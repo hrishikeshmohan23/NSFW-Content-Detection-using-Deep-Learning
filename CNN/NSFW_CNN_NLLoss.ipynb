{
 "cells": [
  {
   "cell_type": "markdown",
   "metadata": {},
   "source": [
    "Name: T R Hari Subramaniam\n",
    "\n",
    "Roll: AM.EN.U4CSE19056"
   ]
  },
  {
   "cell_type": "code",
   "execution_count": null,
   "metadata": {
    "id": "4U5X16INq5Dt"
   },
   "outputs": [],
   "source": [
    "import numpy as np\n",
    "import pandas as pd\n",
    "import matplotlib.pyplot as plt"
   ]
  },
  {
   "cell_type": "code",
   "execution_count": null,
   "metadata": {
    "id": "QDVo9a-Drqkj"
   },
   "outputs": [],
   "source": [
    "dataset_url = 'https://www.kaggle.com/bingazuran/nsfwsfwdataset2'"
   ]
  },
  {
   "cell_type": "code",
   "execution_count": null,
   "metadata": {
    "colab": {
     "base_uri": "https://localhost:8080/"
    },
    "id": "ywsZlpwIrygW",
    "outputId": "c1e518ba-8fbf-430d-9c64-9b943742c6cd"
   },
   "outputs": [
    {
     "name": "stdout",
     "output_type": "stream",
     "text": [
      "\u001b[?25l\r",
      "\u001b[K     |████▊                           | 10 kB 19.3 MB/s eta 0:00:01\r",
      "\u001b[K     |█████████▌                      | 20 kB 24.1 MB/s eta 0:00:01\r",
      "\u001b[K     |██████████████▎                 | 30 kB 20.0 MB/s eta 0:00:01\r",
      "\u001b[K     |███████████████████             | 40 kB 16.4 MB/s eta 0:00:01\r",
      "\u001b[K     |███████████████████████▉        | 51 kB 5.8 MB/s eta 0:00:01\r",
      "\u001b[K     |████████████████████████████▋   | 61 kB 6.3 MB/s eta 0:00:01\r",
      "\u001b[K     |████████████████████████████████| 68 kB 2.4 MB/s \n",
      "\u001b[?25h  Building wheel for uuid (setup.py) ... \u001b[?25l\u001b[?25hdone\n",
      "Please provide your Kaggle credentials to download this dataset. Learn more: http://bit.ly/kaggle-creds\n",
      "Your Kaggle username: bingazuran\n",
      "Your Kaggle Key: ··········\n",
      "Downloading nsfwsfwdataset2.zip to ./nsfwsfwdataset2\n"
     ]
    },
    {
     "name": "stderr",
     "output_type": "stream",
     "text": [
      "100%|██████████| 1.12G/1.12G [00:06<00:00, 196MB/s]\n"
     ]
    },
    {
     "name": "stdout",
     "output_type": "stream",
     "text": [
      "\n"
     ]
    }
   ],
   "source": [
    "!pip install jovian opendatasets --upgrade --quiet\n",
    "import opendatasets as od\n",
    "od.download(dataset_url)"
   ]
  },
  {
   "cell_type": "code",
   "execution_count": null,
   "metadata": {
    "id": "Cfu13Q8xxU2s"
   },
   "outputs": [],
   "source": [
    "import os\n",
    "import torch\n",
    "import torchvision\n",
    "import tarfile\n",
    "from torchvision.datasets.utils import download_url\n",
    "from torch.utils.data import random_split\n",
    "import torchvision.transforms as transforms\n",
    "from torch.autograd import Variable\n",
    "from torch.nn import Linear, ReLU, CrossEntropyLoss, Sequential, Conv2d, MaxPool2d, Module, Softmax, BatchNorm2d, Dropout\n",
    "from torch.optim import Adam, SGD\n",
    "import torch\n",
    "import torchvision\n",
    "import torchvision.transforms as transforms\n",
    "import torch.nn as nn\n",
    "import torch.optim as optim\n",
    "import torch.nn.functional as F"
   ]
  },
  {
   "cell_type": "code",
   "execution_count": null,
   "metadata": {
    "colab": {
     "base_uri": "https://localhost:8080/"
    },
    "id": "EWRvt1ykz74G",
    "outputId": "6297764d-059d-4168-8b3c-9320c6c36726"
   },
   "outputs": [
    {
     "name": "stdout",
     "output_type": "stream",
     "text": [
      "['train', 'test']\n",
      "['nsfw', 'sfw']\n"
     ]
    }
   ],
   "source": [
    "data_dir = './nsfwsfwdataset2/NSFW-FSW-Dataset-Omar-3/'\n",
    "\n",
    "print(os.listdir(data_dir))\n",
    "classes = os.listdir(data_dir + \"/train\")\n",
    "print(classes)"
   ]
  },
  {
   "cell_type": "code",
   "execution_count": null,
   "metadata": {
    "id": "OJpuqzdCsWst"
   },
   "outputs": [],
   "source": [
    "transform_train = transforms.Compose([\n",
    "    transforms.Resize(224),\n",
    "    transforms.RandomResizedCrop(224), \n",
    "    transforms.ToTensor(),\n",
    "    transforms.Normalize((0.5, 0.5, 0.5), (0.5, 0.5, 0.5)),\n",
    "    ])\n",
    "\n",
    "transform_test = transforms.Compose([\n",
    "    transforms.Resize(224),\n",
    "    transforms.RandomResizedCrop(224), \n",
    "    transforms.ToTensor(),\n",
    "    transforms.Normalize((0.5, 0.5, 0.5), (0.5, 0.5, 0.5)),\n",
    "    ])"
   ]
  },
  {
   "cell_type": "code",
   "execution_count": null,
   "metadata": {
    "id": "yvtbAsRU3ZAz"
   },
   "outputs": [],
   "source": [
    "from torchvision.datasets import ImageFolder\n",
    "from torchvision.transforms import ToTensor"
   ]
  },
  {
   "cell_type": "code",
   "execution_count": null,
   "metadata": {
    "id": "tlflhcz3swu5"
   },
   "outputs": [],
   "source": [
    "trainset = ImageFolder(data_dir+'/train', transform=transform_train)\n",
    "testset = ImageFolder(data_dir+'/test', transform=transform_test)"
   ]
  },
  {
   "cell_type": "code",
   "execution_count": null,
   "metadata": {
    "colab": {
     "base_uri": "https://localhost:8080/"
    },
    "id": "V48Uj2c0oP5F",
    "outputId": "75722bee-c56c-4f6a-8f5a-359c2cf3f514"
   },
   "outputs": [
    {
     "data": {
      "text/plain": [
       "Dataset ImageFolder\n",
       "    Number of datapoints: 5000\n",
       "    Root location: ./nsfwsfwdataset2/NSFW-FSW-Dataset-Omar-3//train\n",
       "    StandardTransform\n",
       "Transform: Compose(\n",
       "               Resize(size=224, interpolation=bilinear, max_size=None, antialias=None)\n",
       "               RandomResizedCrop(size=(224, 224), scale=(0.08, 1.0), ratio=(0.75, 1.3333), interpolation=bilinear)\n",
       "               ToTensor()\n",
       "               Normalize(mean=(0.5, 0.5, 0.5), std=(0.5, 0.5, 0.5))\n",
       "           )"
      ]
     },
     "execution_count": 12,
     "metadata": {},
     "output_type": "execute_result"
    }
   ],
   "source": [
    "trainset"
   ]
  },
  {
   "cell_type": "code",
   "execution_count": null,
   "metadata": {
    "id": "vFTzvUTuMJR-"
   },
   "outputs": [],
   "source": [
    "batch_size = 16\n",
    "trainloader = torch.utils.data.DataLoader(trainset, batch_size=batch_size, shuffle=True)"
   ]
  },
  {
   "cell_type": "code",
   "execution_count": null,
   "metadata": {
    "id": "Ksb0X1ZaMhjE"
   },
   "outputs": [],
   "source": [
    "testloader = torch.utils.data.DataLoader(testset, batch_size=batch_size, shuffle=True)"
   ]
  },
  {
   "cell_type": "code",
   "execution_count": null,
   "metadata": {
    "colab": {
     "base_uri": "https://localhost:8080/"
    },
    "id": "gsAfexhsuoH-",
    "outputId": "e802381c-fb5e-49cf-c961-4f3bb7e9c42d"
   },
   "outputs": [
    {
     "name": "stdout",
     "output_type": "stream",
     "text": [
      "torch.Size([3, 224, 224]) 0\n"
     ]
    },
    {
     "data": {
      "text/plain": [
       "tensor([[[ 0.3569,  0.3647,  0.3725,  ...,  0.8588,  0.8667,  0.8667],\n",
       "         [ 0.3569,  0.3647,  0.3725,  ...,  0.8588,  0.8588,  0.8588],\n",
       "         [ 0.3569,  0.3647,  0.3647,  ...,  0.8431,  0.8431,  0.8431],\n",
       "         ...,\n",
       "         [ 0.4196,  0.4196,  0.4196,  ...,  0.1686,  0.1765,  0.1765],\n",
       "         [ 0.4196,  0.4196,  0.4196,  ...,  0.1686,  0.1686,  0.1686],\n",
       "         [ 0.4196,  0.4196,  0.4196,  ...,  0.1686,  0.1686,  0.1686]],\n",
       "\n",
       "        [[-0.1922, -0.1843, -0.1765,  ...,  0.3176,  0.3098,  0.3098],\n",
       "         [-0.1922, -0.1843, -0.1765,  ...,  0.3098,  0.3020,  0.3020],\n",
       "         [-0.1922, -0.1922, -0.1922,  ...,  0.2784,  0.2706,  0.2706],\n",
       "         ...,\n",
       "         [-0.2314, -0.2235, -0.2157,  ..., -0.3569, -0.3647, -0.3647],\n",
       "         [-0.2314, -0.2235, -0.2157,  ..., -0.3647, -0.3725, -0.3804],\n",
       "         [-0.2314, -0.2235, -0.2157,  ..., -0.3647, -0.3725, -0.3804]],\n",
       "\n",
       "        [[-0.4667, -0.4667, -0.4588,  ...,  0.1059,  0.0980,  0.0980],\n",
       "         [-0.4667, -0.4667, -0.4588,  ...,  0.0980,  0.0902,  0.0902],\n",
       "         [-0.4667, -0.4667, -0.4667,  ...,  0.0745,  0.0667,  0.0667],\n",
       "         ...,\n",
       "         [-0.2627, -0.2549, -0.2471,  ..., -0.4902, -0.4902, -0.4980],\n",
       "         [-0.2627, -0.2549, -0.2471,  ..., -0.4902, -0.4980, -0.5059],\n",
       "         [-0.2627, -0.2549, -0.2471,  ..., -0.4902, -0.4980, -0.5059]]])"
      ]
     },
     "execution_count": 15,
     "metadata": {},
     "output_type": "execute_result"
    }
   ],
   "source": [
    "img, label = trainset[0]\n",
    "print(img.shape, label)\n",
    "img"
   ]
  },
  {
   "cell_type": "code",
   "execution_count": null,
   "metadata": {
    "id": "np3uTutZLuKo"
   },
   "outputs": [],
   "source": [
    "from torchsummary import summary\n",
    "\n",
    "device = torch.device('cuda' if torch.cuda.is_available() else 'cpu')"
   ]
  },
  {
   "cell_type": "code",
   "execution_count": null,
   "metadata": {
    "id": "H-njH7-pLgMG"
   },
   "outputs": [],
   "source": [
    "from torchvision import models\n",
    "batch_size = 16"
   ]
  },
  {
   "cell_type": "code",
   "execution_count": null,
   "metadata": {
    "colab": {
     "base_uri": "https://localhost:8080/",
     "height": 66,
     "referenced_widgets": [
      "e580acc912004facba3499ea98564f0e",
      "c5e4e96edb6948e08e27968f45b4e109",
      "e34fc69dc2494f79b7775d599010062d",
      "208ad892a4e44fb2b0a12994f6f248db",
      "44ca88b0534a4f24b37bed6215d78a3e",
      "2159b8bdc76b4270af110c75ff236b23",
      "efde318e4998472096a0603d29d366c2",
      "a11c478dfb6e40b68d05abe6f1012d86",
      "c5af9e6f03f9445793ddcbb8809c5866",
      "7172ba83db5e4157bd19fd261d063ba8",
      "6925e40c968f4ac38bb80719bf2fb24e"
     ]
    },
    "id": "tmA-hhLGmOl9",
    "outputId": "235a8f93-9688-41e9-b70e-8e9aa1b706dd"
   },
   "outputs": [
    {
     "name": "stderr",
     "output_type": "stream",
     "text": [
      "Downloading: \"https://download.pytorch.org/models/vgg16_bn-6c64b313.pth\" to /root/.cache/torch/hub/checkpoints/vgg16_bn-6c64b313.pth\n"
     ]
    },
    {
     "data": {
      "application/vnd.jupyter.widget-view+json": {
       "model_id": "e580acc912004facba3499ea98564f0e",
       "version_major": 2,
       "version_minor": 0
      },
      "text/plain": [
       "  0%|          | 0.00/528M [00:00<?, ?B/s]"
      ]
     },
     "metadata": {},
     "output_type": "display_data"
    }
   ],
   "source": [
    "vgg = models.vgg16_bn(pretrained=True)"
   ]
  },
  {
   "cell_type": "code",
   "execution_count": null,
   "metadata": {
    "id": "g8x97yuimUPQ"
   },
   "outputs": [],
   "source": [
    "for param in vgg.parameters():\n",
    "    param.requires_grad = False"
   ]
  },
  {
   "cell_type": "code",
   "execution_count": null,
   "metadata": {
    "id": "JM8JsSCJmhfB"
   },
   "outputs": [],
   "source": [
    "num_classes = 2\n",
    "final_in_features = vgg.classifier[6].in_features\n",
    "vgg.classifier[6] = nn.Linear(final_in_features, num_classes)"
   ]
  },
  {
   "cell_type": "code",
   "execution_count": null,
   "metadata": {
    "colab": {
     "base_uri": "https://localhost:8080/"
    },
    "id": "OwrlXaxnmjFw",
    "outputId": "825f9d09-eb8f-4cb9-c570-39198ab882ec"
   },
   "outputs": [
    {
     "name": "stdout",
     "output_type": "stream",
     "text": [
      "torch.Size([2, 4096])\n",
      "torch.Size([2])\n"
     ]
    }
   ],
   "source": [
    "for param in vgg.parameters():\n",
    "    if param.requires_grad:\n",
    "        print(param.shape)"
   ]
  },
  {
   "cell_type": "code",
   "execution_count": null,
   "metadata": {
    "id": "NhIWL3HdmWfN"
   },
   "outputs": [],
   "source": [
    "vgg = vgg.to(device)\n",
    "loss_fn = nn.NLLLoss()\n",
    "opt = optim.SGD(vgg.parameters(), lr=0.05)"
   ]
  },
  {
   "cell_type": "code",
   "execution_count": null,
   "metadata": {
    "id": "DREVCBBp557E"
   },
   "outputs": [],
   "source": [
    "def evaluation(dataloader, model):\n",
    "    total, correct = 0, 0\n",
    "    for data in dataloader:\n",
    "        inputs, labels = data\n",
    "        inputs, labels = inputs.to(device), labels.to(device)\n",
    "        outputs = model(inputs)\n",
    "        _, pred = torch.max(outputs.data, 1)\n",
    "        total += labels.size(0)\n",
    "        correct += (pred == labels).sum().item()\n",
    "    return 100 * correct / total"
   ]
  },
  {
   "cell_type": "code",
   "execution_count": null,
   "metadata": {
    "colab": {
     "base_uri": "https://localhost:8080/",
     "height": 696
    },
    "id": "AzDeg32pn2nf",
    "outputId": "b358dec5-01cf-432f-8793-43c7dab8b0f4"
   },
   "outputs": [
    {
     "name": "stdout",
     "output_type": "stream",
     "text": [
      "Iteration: 0/1250, Loss: -0.08\n",
      "Iteration: 100/1250, Loss: -534.28\n",
      "Iteration: 200/1250, Loss: -1046.55\n",
      "Iteration: 300/1250, Loss: -1634.15\n",
      "Epoch: 0/5, Test acc: 81.40, Train acc: 82.50\n",
      "Iteration: 0/1250, Loss: -1608.68\n",
      "Iteration: 100/1250, Loss: -2217.66\n",
      "Iteration: 200/1250, Loss: -2841.62\n",
      "Iteration: 300/1250, Loss: -3335.70\n",
      "Epoch: 1/5, Test acc: 79.80, Train acc: 82.04\n",
      "Iteration: 0/1250, Loss: -3176.97\n",
      "Iteration: 100/1250, Loss: -3918.79\n",
      "Iteration: 200/1250, Loss: -4698.28\n",
      "Iteration: 300/1250, Loss: -5023.29\n",
      "Epoch: 2/5, Test acc: 81.50, Train acc: 82.42\n",
      "Iteration: 0/1250, Loss: -5276.91\n",
      "Iteration: 100/1250, Loss: -5583.94\n",
      "Iteration: 200/1250, Loss: -6232.73\n",
      "Iteration: 300/1250, Loss: -6944.17\n",
      "Epoch: 3/5, Test acc: 81.10, Train acc: 82.22\n",
      "Iteration: 0/1250, Loss: -7027.32\n",
      "Iteration: 100/1250, Loss: -6952.14\n",
      "Iteration: 200/1250, Loss: -7568.48\n",
      "Iteration: 300/1250, Loss: -8677.50\n",
      "Epoch: 4/5, Test acc: 82.70, Train acc: 82.24\n"
     ]
    },
    {
     "data": {
      "image/png": "[encoded data removed]",
      "text/plain": [
       "<Figure size 432x288 with 1 Axes>"
      ]
     },
     "metadata": {
      "needs_background": "light"
     },
     "output_type": "display_data"
    }
   ],
   "source": [
    "loss_epoch_arr = []\n",
    "max_epochs = 5\n",
    "train_accuracy = []\n",
    "test_accuracy = []\n",
    "\n",
    "n_iters = np.ceil(20000/batch_size)\n",
    "\n",
    "for epoch in range(max_epochs):\n",
    "\n",
    "    for i, data in enumerate(trainloader, 0):\n",
    "\n",
    "        inputs, labels = data\n",
    "        inputs, labels = inputs.to(device), labels.to(device)\n",
    "\n",
    "        opt.zero_grad()\n",
    "\n",
    "        outputs = vgg(inputs)\n",
    "        loss = loss_fn(outputs, labels)\n",
    "        loss.backward()\n",
    "        opt.step()\n",
    "        \n",
    "        if i % 100 == 0:\n",
    "            print('Iteration: %d/%d, Loss: %0.2f' % (i, n_iters, loss.item()))\n",
    "            \n",
    "        del inputs, labels, outputs\n",
    "        torch.cuda.empty_cache()\n",
    "        \n",
    "    loss_epoch_arr.append(loss.item())\n",
    "\n",
    "    train_a = evaluation(trainloader, vgg)\n",
    "    test_a = evaluation(testloader, vgg)\n",
    "        \n",
    "    print('Epoch: %d/%d, Test acc: %0.2f, Train acc: %0.2f' % (\n",
    "        epoch, max_epochs, test_a, train_a))\n",
    "    train_accuracy.append(train_a)\n",
    "    test_accuracy.append(test_a)\n",
    "    \n",
    "    \n",
    "plt.plot(loss_epoch_arr)\n",
    "plt.show()"
   ]
  },
  {
   "cell_type": "code",
   "execution_count": null,
   "metadata": {
    "colab": {
     "base_uri": "https://localhost:8080/"
    },
    "id": "ymTGayUxMXRR",
    "outputId": "72db83e2-fb53-4dc5-cc3e-ce1daf6a574e"
   },
   "outputs": [
    {
     "data": {
      "text/plain": [
       "[[82.5, 81.4], [82.04, 79.8], [82.42, 81.5], [82.22, 81.1], [82.24, 82.7]]"
      ]
     },
     "execution_count": 26,
     "metadata": {},
     "output_type": "execute_result"
    }
   ],
   "source": [
    "train_test = []\n",
    "for i in range(len(train_accuracy)):\n",
    "  train_test.append([train_accuracy[i], test_accuracy[i]])\n",
    "train_test"
   ]
  },
  {
   "cell_type": "code",
   "execution_count": null,
   "metadata": {
    "colab": {
     "base_uri": "https://localhost:8080/",
     "height": 294
    },
    "id": "CqYrGf6UXz9Y",
    "outputId": "fad3c358-8560-44bc-9ae7-54be26ee7a27"
   },
   "outputs": [
    {
     "data": {
      "image/png": "[encoded data removed]",
      "text/plain": [
       "<Figure size 432x288 with 1 Axes>"
      ]
     },
     "metadata": {
      "needs_background": "light"
     },
     "output_type": "display_data"
    }
   ],
   "source": [
    "epoch = [1,2,3,4,5]\n",
    "fig = plt.figure();\n",
    "fig.suptitle('Accuracy Comparison');\n",
    "ax = fig.add_subplot(111);\n",
    "plt.boxplot(train_test);\n",
    "ax.set_xticklabels(epoch);\n",
    "plt.show();"
   ]
  },
  {
   "cell_type": "code",
   "execution_count": null,
   "metadata": {
    "colab": {
     "base_uri": "https://localhost:8080/",
     "height": 390
    },
    "id": "wDhnMUp6ePNk",
    "outputId": "853714a8-19fc-4324-93f0-206989e4aba3"
   },
   "outputs": [
    {
     "data": {
      "image/png": "[encoded data removed]",
      "text/plain": [
       "<Figure size 864x432 with 1 Axes>"
      ]
     },
     "metadata": {
      "needs_background": "light"
     },
     "output_type": "display_data"
    }
   ],
   "source": [
    "plt.figure(figsize=(12,6));\n",
    "plt.plot(train_accuracy, 'o--r');\n",
    "plt.plot(test_accuracy,'o--g');\n",
    "#plt.xlabel('Year')\n",
    "#plt.ylabel('Temperature variation')\n",
    "plt.title('Train vs Test Accuracy');\n",
    "plt.legend(['Train Accuracy','Test Accuracy']);"
   ]
  },
  {
   "cell_type": "code",
   "execution_count": null,
   "metadata": {
    "id": "JxqRxPdMfnef"
   },
   "outputs": [],
   "source": []
  }
 ],
 "metadata": {
  "accelerator": "GPU",
  "colab": {
   "collapsed_sections": [],
   "name": "NSFW_CNN-NLLoss",
   "provenance": []
  },
  "kernelspec": {
   "display_name": "Python 3",
   "language": "python",
   "name": "python3"
  },
  "language_info": {
   "codemirror_mode": {
    "name": "ipython",
    "version": 3
   },
   "file_extension": ".py",
   "mimetype": "text/x-python",
   "name": "python",
   "nbconvert_exporter": "python",
   "pygments_lexer": "ipython3",
   "version": "3.8.10"
  },
  "widgets": {
   "application/vnd.jupyter.widget-state+json": {
    "208ad892a4e44fb2b0a12994f6f248db": {
     "model_module": "@jupyter-widgets/controls",
     "model_module_version": "1.5.0",
     "model_name": "FloatProgressModel",
     "state": {
      "_dom_classes": [],
      "_model_module": "@jupyter-widgets/controls",
      "_model_module_version": "1.5.0",
      "_model_name": "FloatProgressModel",
      "_view_count": null,
      "_view_module": "@jupyter-widgets/controls",
      "_view_module_version": "1.5.0",
      "_view_name": "ProgressView",
      "bar_style": "success",
      "description": "",
      "description_tooltip": null,
      "layout": "IPY_MODEL_c5af9e6f03f9445793ddcbb8809c5866",
      "max": 553507836,
      "min": 0,
      "orientation": "horizontal",
      "style": "IPY_MODEL_a11c478dfb6e40b68d05abe6f1012d86",
      "value": 553507836
     }
    },
    "2159b8bdc76b4270af110c75ff236b23": {
     "model_module": "@jupyter-widgets/controls",
     "model_module_version": "1.5.0",
     "model_name": "DescriptionStyleModel",
     "state": {
      "_model_module": "@jupyter-widgets/controls",
      "_model_module_version": "1.5.0",
      "_model_name": "DescriptionStyleModel",
      "_view_count": null,
      "_view_module": "@jupyter-widgets/base",
      "_view_module_version": "1.2.0",
      "_view_name": "StyleView",
      "description_width": ""
     }
    },
    "44ca88b0534a4f24b37bed6215d78a3e": {
     "model_module": "@jupyter-widgets/controls",
     "model_module_version": "1.5.0",
     "model_name": "HTMLModel",
     "state": {
      "_dom_classes": [],
      "_model_module": "@jupyter-widgets/controls",
      "_model_module_version": "1.5.0",
      "_model_name": "HTMLModel",
      "_view_count": null,
      "_view_module": "@jupyter-widgets/controls",
      "_view_module_version": "1.5.0",
      "_view_name": "HTMLView",
      "description": "",
      "description_tooltip": null,
      "layout": "IPY_MODEL_6925e40c968f4ac38bb80719bf2fb24e",
      "placeholder": "​",
      "style": "IPY_MODEL_7172ba83db5e4157bd19fd261d063ba8",
      "value": " 528M/528M [00:20&lt;00:00, 21.3MB/s]"
     }
    },
    "6925e40c968f4ac38bb80719bf2fb24e": {
     "model_module": "@jupyter-widgets/base",
     "model_module_version": "1.2.0",
     "model_name": "LayoutModel",
     "state": {
      "_model_module": "@jupyter-widgets/base",
      "_model_module_version": "1.2.0",
      "_model_name": "LayoutModel",
      "_view_count": null,
      "_view_module": "@jupyter-widgets/base",
      "_view_module_version": "1.2.0",
      "_view_name": "LayoutView",
      "align_content": null,
      "align_items": null,
      "align_self": null,
      "border": null,
      "bottom": null,
      "display": null,
      "flex": null,
      "flex_flow": null,
      "grid_area": null,
      "grid_auto_columns": null,
      "grid_auto_flow": null,
      "grid_auto_rows": null,
      "grid_column": null,
      "grid_gap": null,
      "grid_row": null,
      "grid_template_areas": null,
      "grid_template_columns": null,
      "grid_template_rows": null,
      "height": null,
      "justify_content": null,
      "justify_items": null,
      "left": null,
      "margin": null,
      "max_height": null,
      "max_width": null,
      "min_height": null,
      "min_width": null,
      "object_fit": null,
      "object_position": null,
      "order": null,
      "overflow": null,
      "overflow_x": null,
      "overflow_y": null,
      "padding": null,
      "right": null,
      "top": null,
      "visibility": null,
      "width": null
     }
    },
    "7172ba83db5e4157bd19fd261d063ba8": {
     "model_module": "@jupyter-widgets/controls",
     "model_module_version": "1.5.0",
     "model_name": "DescriptionStyleModel",
     "state": {
      "_model_module": "@jupyter-widgets/controls",
      "_model_module_version": "1.5.0",
      "_model_name": "DescriptionStyleModel",
      "_view_count": null,
      "_view_module": "@jupyter-widgets/base",
      "_view_module_version": "1.2.0",
      "_view_name": "StyleView",
      "description_width": ""
     }
    },
    "a11c478dfb6e40b68d05abe6f1012d86": {
     "model_module": "@jupyter-widgets/controls",
     "model_module_version": "1.5.0",
     "model_name": "ProgressStyleModel",
     "state": {
      "_model_module": "@jupyter-widgets/controls",
      "_model_module_version": "1.5.0",
      "_model_name": "ProgressStyleModel",
      "_view_count": null,
      "_view_module": "@jupyter-widgets/base",
      "_view_module_version": "1.2.0",
      "_view_name": "StyleView",
      "bar_color": null,
      "description_width": ""
     }
    },
    "c5af9e6f03f9445793ddcbb8809c5866": {
     "model_module": "@jupyter-widgets/base",
     "model_module_version": "1.2.0",
     "model_name": "LayoutModel",
     "state": {
      "_model_module": "@jupyter-widgets/base",
      "_model_module_version": "1.2.0",
      "_model_name": "LayoutModel",
      "_view_count": null,
      "_view_module": "@jupyter-widgets/base",
      "_view_module_version": "1.2.0",
      "_view_name": "LayoutView",
      "align_content": null,
      "align_items": null,
      "align_self": null,
      "border": null,
      "bottom": null,
      "display": null,
      "flex": null,
      "flex_flow": null,
      "grid_area": null,
      "grid_auto_columns": null,
      "grid_auto_flow": null,
      "grid_auto_rows": null,
      "grid_column": null,
      "grid_gap": null,
      "grid_row": null,
      "grid_template_areas": null,
      "grid_template_columns": null,
      "grid_template_rows": null,
      "height": null,
      "justify_content": null,
      "justify_items": null,
      "left": null,
      "margin": null,
      "max_height": null,
      "max_width": null,
      "min_height": null,
      "min_width": null,
      "object_fit": null,
      "object_position": null,
      "order": null,
      "overflow": null,
      "overflow_x": null,
      "overflow_y": null,
      "padding": null,
      "right": null,
      "top": null,
      "visibility": null,
      "width": null
     }
    },
    "c5e4e96edb6948e08e27968f45b4e109": {
     "model_module": "@jupyter-widgets/base",
     "model_module_version": "1.2.0",
     "model_name": "LayoutModel",
     "state": {
      "_model_module": "@jupyter-widgets/base",
      "_model_module_version": "1.2.0",
      "_model_name": "LayoutModel",
      "_view_count": null,
      "_view_module": "@jupyter-widgets/base",
      "_view_module_version": "1.2.0",
      "_view_name": "LayoutView",
      "align_content": null,
      "align_items": null,
      "align_self": null,
      "border": null,
      "bottom": null,
      "display": null,
      "flex": null,
      "flex_flow": null,
      "grid_area": null,
      "grid_auto_columns": null,
      "grid_auto_flow": null,
      "grid_auto_rows": null,
      "grid_column": null,
      "grid_gap": null,
      "grid_row": null,
      "grid_template_areas": null,
      "grid_template_columns": null,
      "grid_template_rows": null,
      "height": null,
      "justify_content": null,
      "justify_items": null,
      "left": null,
      "margin": null,
      "max_height": null,
      "max_width": null,
      "min_height": null,
      "min_width": null,
      "object_fit": null,
      "object_position": null,
      "order": null,
      "overflow": null,
      "overflow_x": null,
      "overflow_y": null,
      "padding": null,
      "right": null,
      "top": null,
      "visibility": null,
      "width": null
     }
    },
    "e34fc69dc2494f79b7775d599010062d": {
     "model_module": "@jupyter-widgets/controls",
     "model_module_version": "1.5.0",
     "model_name": "HTMLModel",
     "state": {
      "_dom_classes": [],
      "_model_module": "@jupyter-widgets/controls",
      "_model_module_version": "1.5.0",
      "_model_name": "HTMLModel",
      "_view_count": null,
      "_view_module": "@jupyter-widgets/controls",
      "_view_module_version": "1.5.0",
      "_view_name": "HTMLView",
      "description": "",
      "description_tooltip": null,
      "layout": "IPY_MODEL_efde318e4998472096a0603d29d366c2",
      "placeholder": "​",
      "style": "IPY_MODEL_2159b8bdc76b4270af110c75ff236b23",
      "value": "100%"
     }
    },
    "e580acc912004facba3499ea98564f0e": {
     "model_module": "@jupyter-widgets/controls",
     "model_module_version": "1.5.0",
     "model_name": "HBoxModel",
     "state": {
      "_dom_classes": [],
      "_model_module": "@jupyter-widgets/controls",
      "_model_module_version": "1.5.0",
      "_model_name": "HBoxModel",
      "_view_count": null,
      "_view_module": "@jupyter-widgets/controls",
      "_view_module_version": "1.5.0",
      "_view_name": "HBoxView",
      "box_style": "",
      "children": [
       "IPY_MODEL_e34fc69dc2494f79b7775d599010062d",
       "IPY_MODEL_208ad892a4e44fb2b0a12994f6f248db",
       "IPY_MODEL_44ca88b0534a4f24b37bed6215d78a3e"
      ],
      "layout": "IPY_MODEL_c5e4e96edb6948e08e27968f45b4e109"
     }
    },
    "efde318e4998472096a0603d29d366c2": {
     "model_module": "@jupyter-widgets/base",
     "model_module_version": "1.2.0",
     "model_name": "LayoutModel",
     "state": {
      "_model_module": "@jupyter-widgets/base",
      "_model_module_version": "1.2.0",
      "_model_name": "LayoutModel",
      "_view_count": null,
      "_view_module": "@jupyter-widgets/base",
      "_view_module_version": "1.2.0",
      "_view_name": "LayoutView",
      "align_content": null,
      "align_items": null,
      "align_self": null,
      "border": null,
      "bottom": null,
      "display": null,
      "flex": null,
      "flex_flow": null,
      "grid_area": null,
      "grid_auto_columns": null,
      "grid_auto_flow": null,
      "grid_auto_rows": null,
      "grid_column": null,
      "grid_gap": null,
      "grid_row": null,
      "grid_template_areas": null,
      "grid_template_columns": null,
      "grid_template_rows": null,
      "height": null,
      "justify_content": null,
      "justify_items": null,
      "left": null,
      "margin": null,
      "max_height": null,
      "max_width": null,
      "min_height": null,
      "min_width": null,
      "object_fit": null,
      "object_position": null,
      "order": null,
      "overflow": null,
      "overflow_x": null,
      "overflow_y": null,
      "padding": null,
      "right": null,
      "top": null,
      "visibility": null,
      "width": null
     }
    }
   }
  }
 },
 "nbformat": 4,
 "nbformat_minor": 1
}
