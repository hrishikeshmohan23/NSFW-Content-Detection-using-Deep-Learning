{
  "nbformat": 4,
  "nbformat_minor": 0,
  "metadata": {
    "accelerator": "GPU",
    "colab": {
      "name": "NSFW_ENET_b3.ipynb",
      "provenance": [],
      "collapsed_sections": []
    },
    "kernelspec": {
      "display_name": "Python 3",
      "language": "python",
      "name": "python3"
    },
    "language_info": {
      "codemirror_mode": {
        "name": "ipython",
        "version": 3
      },
      "file_extension": ".py",
      "mimetype": "text/x-python",
      "name": "python",
      "nbconvert_exporter": "python",
      "pygments_lexer": "ipython3",
      "version": "3.8.10"
    },
    "widgets": {
      "application/vnd.jupyter.widget-state+json": {
        "b9139421ab714faf9f1ed1cbdfd6793e": {
          "model_module": "@jupyter-widgets/controls",
          "model_name": "HBoxModel",
          "model_module_version": "1.5.0",
          "state": {
            "_view_name": "HBoxView",
            "_dom_classes": [],
            "_model_name": "HBoxModel",
            "_view_module": "@jupyter-widgets/controls",
            "_model_module_version": "1.5.0",
            "_view_count": null,
            "_view_module_version": "1.5.0",
            "box_style": "",
            "layout": "IPY_MODEL_592b34cf7a45417f9ded9bf8ed917387",
            "_model_module": "@jupyter-widgets/controls",
            "children": [
              "IPY_MODEL_044d11e594de4f269482b5d99684a540",
              "IPY_MODEL_3e8fb49e2e2049d89bce50c5a9c0cfc0",
              "IPY_MODEL_bbbdb095233342f48b1278811b98d9af"
            ]
          }
        },
        "592b34cf7a45417f9ded9bf8ed917387": {
          "model_module": "@jupyter-widgets/base",
          "model_name": "LayoutModel",
          "model_module_version": "1.2.0",
          "state": {
            "_view_name": "LayoutView",
            "grid_template_rows": null,
            "right": null,
            "justify_content": null,
            "_view_module": "@jupyter-widgets/base",
            "overflow": null,
            "_model_module_version": "1.2.0",
            "_view_count": null,
            "flex_flow": null,
            "width": null,
            "min_width": null,
            "border": null,
            "align_items": null,
            "bottom": null,
            "_model_module": "@jupyter-widgets/base",
            "top": null,
            "grid_column": null,
            "overflow_y": null,
            "overflow_x": null,
            "grid_auto_flow": null,
            "grid_area": null,
            "grid_template_columns": null,
            "flex": null,
            "_model_name": "LayoutModel",
            "justify_items": null,
            "grid_row": null,
            "max_height": null,
            "align_content": null,
            "visibility": null,
            "align_self": null,
            "height": null,
            "min_height": null,
            "padding": null,
            "grid_auto_rows": null,
            "grid_gap": null,
            "max_width": null,
            "order": null,
            "_view_module_version": "1.2.0",
            "grid_template_areas": null,
            "object_position": null,
            "object_fit": null,
            "grid_auto_columns": null,
            "margin": null,
            "display": null,
            "left": null
          }
        },
        "044d11e594de4f269482b5d99684a540": {
          "model_module": "@jupyter-widgets/controls",
          "model_name": "HTMLModel",
          "model_module_version": "1.5.0",
          "state": {
            "_view_name": "HTMLView",
            "style": "IPY_MODEL_38a3eef611d5406e89b9227859862a0f",
            "_dom_classes": [],
            "description": "",
            "_model_name": "HTMLModel",
            "placeholder": "​",
            "_view_module": "@jupyter-widgets/controls",
            "_model_module_version": "1.5.0",
            "value": "100%",
            "_view_count": null,
            "_view_module_version": "1.5.0",
            "description_tooltip": null,
            "_model_module": "@jupyter-widgets/controls",
            "layout": "IPY_MODEL_075b0a33e4174e5fabd903ddd9d64ddb"
          }
        },
        "3e8fb49e2e2049d89bce50c5a9c0cfc0": {
          "model_module": "@jupyter-widgets/controls",
          "model_name": "FloatProgressModel",
          "model_module_version": "1.5.0",
          "state": {
            "_view_name": "ProgressView",
            "style": "IPY_MODEL_eca3aeff66b64712a6febb12363b9d2e",
            "_dom_classes": [],
            "description": "",
            "_model_name": "FloatProgressModel",
            "bar_style": "success",
            "max": 49388949,
            "_view_module": "@jupyter-widgets/controls",
            "_model_module_version": "1.5.0",
            "value": 49388949,
            "_view_count": null,
            "_view_module_version": "1.5.0",
            "orientation": "horizontal",
            "min": 0,
            "description_tooltip": null,
            "_model_module": "@jupyter-widgets/controls",
            "layout": "IPY_MODEL_ab2f93e46d6c4692bbecec2c37c7eb99"
          }
        },
        "bbbdb095233342f48b1278811b98d9af": {
          "model_module": "@jupyter-widgets/controls",
          "model_name": "HTMLModel",
          "model_module_version": "1.5.0",
          "state": {
            "_view_name": "HTMLView",
            "style": "IPY_MODEL_767d42370bbc477f9ad68fdb658f88c0",
            "_dom_classes": [],
            "description": "",
            "_model_name": "HTMLModel",
            "placeholder": "​",
            "_view_module": "@jupyter-widgets/controls",
            "_model_module_version": "1.5.0",
            "value": " 47.1M/47.1M [00:00&lt;00:00, 68.9MB/s]",
            "_view_count": null,
            "_view_module_version": "1.5.0",
            "description_tooltip": null,
            "_model_module": "@jupyter-widgets/controls",
            "layout": "IPY_MODEL_62b5e597f3d741fc880239f13b2f8abb"
          }
        },
        "38a3eef611d5406e89b9227859862a0f": {
          "model_module": "@jupyter-widgets/controls",
          "model_name": "DescriptionStyleModel",
          "model_module_version": "1.5.0",
          "state": {
            "_view_name": "StyleView",
            "_model_name": "DescriptionStyleModel",
            "description_width": "",
            "_view_module": "@jupyter-widgets/base",
            "_model_module_version": "1.5.0",
            "_view_count": null,
            "_view_module_version": "1.2.0",
            "_model_module": "@jupyter-widgets/controls"
          }
        },
        "075b0a33e4174e5fabd903ddd9d64ddb": {
          "model_module": "@jupyter-widgets/base",
          "model_name": "LayoutModel",
          "model_module_version": "1.2.0",
          "state": {
            "_view_name": "LayoutView",
            "grid_template_rows": null,
            "right": null,
            "justify_content": null,
            "_view_module": "@jupyter-widgets/base",
            "overflow": null,
            "_model_module_version": "1.2.0",
            "_view_count": null,
            "flex_flow": null,
            "width": null,
            "min_width": null,
            "border": null,
            "align_items": null,
            "bottom": null,
            "_model_module": "@jupyter-widgets/base",
            "top": null,
            "grid_column": null,
            "overflow_y": null,
            "overflow_x": null,
            "grid_auto_flow": null,
            "grid_area": null,
            "grid_template_columns": null,
            "flex": null,
            "_model_name": "LayoutModel",
            "justify_items": null,
            "grid_row": null,
            "max_height": null,
            "align_content": null,
            "visibility": null,
            "align_self": null,
            "height": null,
            "min_height": null,
            "padding": null,
            "grid_auto_rows": null,
            "grid_gap": null,
            "max_width": null,
            "order": null,
            "_view_module_version": "1.2.0",
            "grid_template_areas": null,
            "object_position": null,
            "object_fit": null,
            "grid_auto_columns": null,
            "margin": null,
            "display": null,
            "left": null
          }
        },
        "eca3aeff66b64712a6febb12363b9d2e": {
          "model_module": "@jupyter-widgets/controls",
          "model_name": "ProgressStyleModel",
          "model_module_version": "1.5.0",
          "state": {
            "_view_name": "StyleView",
            "_model_name": "ProgressStyleModel",
            "description_width": "",
            "_view_module": "@jupyter-widgets/base",
            "_model_module_version": "1.5.0",
            "_view_count": null,
            "_view_module_version": "1.2.0",
            "bar_color": null,
            "_model_module": "@jupyter-widgets/controls"
          }
        },
        "ab2f93e46d6c4692bbecec2c37c7eb99": {
          "model_module": "@jupyter-widgets/base",
          "model_name": "LayoutModel",
          "model_module_version": "1.2.0",
          "state": {
            "_view_name": "LayoutView",
            "grid_template_rows": null,
            "right": null,
            "justify_content": null,
            "_view_module": "@jupyter-widgets/base",
            "overflow": null,
            "_model_module_version": "1.2.0",
            "_view_count": null,
            "flex_flow": null,
            "width": null,
            "min_width": null,
            "border": null,
            "align_items": null,
            "bottom": null,
            "_model_module": "@jupyter-widgets/base",
            "top": null,
            "grid_column": null,
            "overflow_y": null,
            "overflow_x": null,
            "grid_auto_flow": null,
            "grid_area": null,
            "grid_template_columns": null,
            "flex": null,
            "_model_name": "LayoutModel",
            "justify_items": null,
            "grid_row": null,
            "max_height": null,
            "align_content": null,
            "visibility": null,
            "align_self": null,
            "height": null,
            "min_height": null,
            "padding": null,
            "grid_auto_rows": null,
            "grid_gap": null,
            "max_width": null,
            "order": null,
            "_view_module_version": "1.2.0",
            "grid_template_areas": null,
            "object_position": null,
            "object_fit": null,
            "grid_auto_columns": null,
            "margin": null,
            "display": null,
            "left": null
          }
        },
        "767d42370bbc477f9ad68fdb658f88c0": {
          "model_module": "@jupyter-widgets/controls",
          "model_name": "DescriptionStyleModel",
          "model_module_version": "1.5.0",
          "state": {
            "_view_name": "StyleView",
            "_model_name": "DescriptionStyleModel",
            "description_width": "",
            "_view_module": "@jupyter-widgets/base",
            "_model_module_version": "1.5.0",
            "_view_count": null,
            "_view_module_version": "1.2.0",
            "_model_module": "@jupyter-widgets/controls"
          }
        },
        "62b5e597f3d741fc880239f13b2f8abb": {
          "model_module": "@jupyter-widgets/base",
          "model_name": "LayoutModel",
          "model_module_version": "1.2.0",
          "state": {
            "_view_name": "LayoutView",
            "grid_template_rows": null,
            "right": null,
            "justify_content": null,
            "_view_module": "@jupyter-widgets/base",
            "overflow": null,
            "_model_module_version": "1.2.0",
            "_view_count": null,
            "flex_flow": null,
            "width": null,
            "min_width": null,
            "border": null,
            "align_items": null,
            "bottom": null,
            "_model_module": "@jupyter-widgets/base",
            "top": null,
            "grid_column": null,
            "overflow_y": null,
            "overflow_x": null,
            "grid_auto_flow": null,
            "grid_area": null,
            "grid_template_columns": null,
            "flex": null,
            "_model_name": "LayoutModel",
            "justify_items": null,
            "grid_row": null,
            "max_height": null,
            "align_content": null,
            "visibility": null,
            "align_self": null,
            "height": null,
            "min_height": null,
            "padding": null,
            "grid_auto_rows": null,
            "grid_gap": null,
            "max_width": null,
            "order": null,
            "_view_module_version": "1.2.0",
            "grid_template_areas": null,
            "object_position": null,
            "object_fit": null,
            "grid_auto_columns": null,
            "margin": null,
            "display": null,
            "left": null
          }
        }
      }
    }
  },
  "cells": [
    {
      "cell_type": "markdown",
      "metadata": {
        "id": "TpG4HH9_1Dn-"
      },
      "source": [
        "Name: T R Hari Subramaniam\n",
        "\n",
        "Roll: AM.EN.U4CSE19056"
      ]
    },
    {
      "cell_type": "code",
      "metadata": {
        "id": "4U5X16INq5Dt"
      },
      "source": [
        "import numpy as np\n",
        "import pandas as pd\n",
        "import matplotlib.pyplot as plt"
      ],
      "execution_count": null,
      "outputs": []
    },
    {
      "cell_type": "code",
      "metadata": {
        "id": "QDVo9a-Drqkj"
      },
      "source": [
        "dataset_url = 'https://www.kaggle.com/bingazuran/nsfwsfwdataset2'"
      ],
      "execution_count": null,
      "outputs": []
    },
    {
      "cell_type": "code",
      "metadata": {
        "colab": {
          "base_uri": "https://localhost:8080/"
        },
        "id": "ywsZlpwIrygW",
        "outputId": "213ec5d4-512e-4f80-97c5-aca4b6efbb81"
      },
      "source": [
        "!pip install jovian opendatasets --upgrade --quiet\n",
        "import opendatasets as od\n",
        "od.download(dataset_url)"
      ],
      "execution_count": null,
      "outputs": [
        {
          "output_type": "stream",
          "name": "stdout",
          "text": [
            "\u001b[?25l\r\u001b[K     |████▊                           | 10 kB 23.7 MB/s eta 0:00:01\r\u001b[K     |█████████▌                      | 20 kB 25.4 MB/s eta 0:00:01\r\u001b[K     |██████████████▎                 | 30 kB 12.8 MB/s eta 0:00:01\r\u001b[K     |███████████████████             | 40 kB 9.7 MB/s eta 0:00:01\r\u001b[K     |███████████████████████▉        | 51 kB 5.0 MB/s eta 0:00:01\r\u001b[K     |████████████████████████████▋   | 61 kB 5.3 MB/s eta 0:00:01\r\u001b[K     |████████████████████████████████| 68 kB 3.0 MB/s \n",
            "\u001b[?25h  Building wheel for uuid (setup.py) ... \u001b[?25l\u001b[?25hdone\n",
            "Please provide your Kaggle credentials to download this dataset. Learn more: http://bit.ly/kaggle-creds\n",
            "Your Kaggle username: bingazuran\n",
            "Your Kaggle Key: ··········\n",
            "Downloading nsfwsfwdataset2.zip to ./nsfwsfwdataset2\n"
          ]
        },
        {
          "output_type": "stream",
          "name": "stderr",
          "text": [
            "100%|██████████| 1.12G/1.12G [00:14<00:00, 84.8MB/s]\n"
          ]
        },
        {
          "output_type": "stream",
          "name": "stdout",
          "text": [
            "\n"
          ]
        }
      ]
    },
    {
      "cell_type": "code",
      "metadata": {
        "id": "Cfu13Q8xxU2s"
      },
      "source": [
        "import os\n",
        "import torch\n",
        "import torchvision\n",
        "import tarfile\n",
        "from torchvision.datasets.utils import download_url\n",
        "from torch.utils.data import random_split\n",
        "import torchvision.transforms as transforms\n",
        "from torch.autograd import Variable\n",
        "from torch.nn import Linear, ReLU, CrossEntropyLoss, Sequential, Conv2d, MaxPool2d, Module, Softmax, BatchNorm2d, Dropout\n",
        "from torch.optim import Adam, SGD\n",
        "import torch\n",
        "import torchvision\n",
        "import torchvision.transforms as transforms\n",
        "import torch.nn as nn\n",
        "import torch.optim as optim\n",
        "import torch.nn.functional as F"
      ],
      "execution_count": null,
      "outputs": []
    },
    {
      "cell_type": "code",
      "metadata": {
        "colab": {
          "base_uri": "https://localhost:8080/"
        },
        "id": "EWRvt1ykz74G",
        "outputId": "1f06ce3c-c84a-4c95-eb52-db5e267993a6"
      },
      "source": [
        "data_dir = './nsfwsfwdataset2/NSFW-FSW-Dataset-Omar-3'\n",
        "\n",
        "print(os.listdir(data_dir))\n",
        "classes = os.listdir(data_dir + \"/train\")\n",
        "print(classes)"
      ],
      "execution_count": null,
      "outputs": [
        {
          "output_type": "stream",
          "name": "stdout",
          "text": [
            "['train', 'test']\n",
            "['sfw', 'nsfw']\n"
          ]
        }
      ]
    },
    {
      "cell_type": "code",
      "metadata": {
        "id": "OJpuqzdCsWst"
      },
      "source": [
        "transform_train = transforms.Compose([\n",
        "    transforms.Resize(224),\n",
        "    transforms.RandomResizedCrop(224), \n",
        "    transforms.ToTensor(),\n",
        "    transforms.Normalize((0.5, 0.5, 0.5), (0.5, 0.5, 0.5)),\n",
        "    ])\n",
        "\n",
        "transform_test = transforms.Compose([\n",
        "    transforms.Resize(224),\n",
        "    transforms.RandomResizedCrop(224), \n",
        "    transforms.ToTensor(),\n",
        "    transforms.Normalize((0.5, 0.5, 0.5), (0.5, 0.5, 0.5)),\n",
        "    ])"
      ],
      "execution_count": null,
      "outputs": []
    },
    {
      "cell_type": "code",
      "metadata": {
        "id": "yvtbAsRU3ZAz"
      },
      "source": [
        "from torchvision.datasets import ImageFolder\n",
        "from torchvision.transforms import ToTensor"
      ],
      "execution_count": null,
      "outputs": []
    },
    {
      "cell_type": "code",
      "metadata": {
        "id": "tlflhcz3swu5"
      },
      "source": [
        "trainset = ImageFolder(data_dir+'/train', transform=transform_train)\n",
        "testset = ImageFolder(data_dir+'/test', transform=transform_test)"
      ],
      "execution_count": null,
      "outputs": []
    },
    {
      "cell_type": "code",
      "metadata": {
        "colab": {
          "base_uri": "https://localhost:8080/"
        },
        "id": "V48Uj2c0oP5F",
        "outputId": "dc103e3f-3702-4531-b6cf-1d6c66be5591"
      },
      "source": [
        "trainset"
      ],
      "execution_count": null,
      "outputs": [
        {
          "output_type": "execute_result",
          "data": {
            "text/plain": [
              "Dataset ImageFolder\n",
              "    Number of datapoints: 5000\n",
              "    Root location: ./nsfwsfwdataset2/NSFW-FSW-Dataset-Omar-3/train\n",
              "    StandardTransform\n",
              "Transform: Compose(\n",
              "               Resize(size=224, interpolation=bilinear, max_size=None, antialias=None)\n",
              "               RandomResizedCrop(size=(224, 224), scale=(0.08, 1.0), ratio=(0.75, 1.3333), interpolation=bilinear)\n",
              "               ToTensor()\n",
              "               Normalize(mean=(0.5, 0.5, 0.5), std=(0.5, 0.5, 0.5))\n",
              "           )"
            ]
          },
          "metadata": {},
          "execution_count": 9
        }
      ]
    },
    {
      "cell_type": "code",
      "metadata": {
        "id": "vFTzvUTuMJR-"
      },
      "source": [
        "batch_size = 16\n",
        "trainloader = torch.utils.data.DataLoader(trainset, batch_size=batch_size, shuffle=True)"
      ],
      "execution_count": null,
      "outputs": []
    },
    {
      "cell_type": "code",
      "metadata": {
        "id": "Ksb0X1ZaMhjE"
      },
      "source": [
        "testloader = torch.utils.data.DataLoader(testset, batch_size=batch_size, shuffle=True)"
      ],
      "execution_count": null,
      "outputs": []
    },
    {
      "cell_type": "code",
      "metadata": {
        "colab": {
          "base_uri": "https://localhost:8080/"
        },
        "id": "gsAfexhsuoH-",
        "outputId": "e16a264a-6f15-4b4a-a0f6-0806367a183b"
      },
      "source": [
        "img, label = trainset[0]\n",
        "print(img.shape, label)\n",
        "img"
      ],
      "execution_count": null,
      "outputs": [
        {
          "output_type": "stream",
          "name": "stdout",
          "text": [
            "torch.Size([3, 224, 224]) 0\n"
          ]
        },
        {
          "output_type": "execute_result",
          "data": {
            "text/plain": [
              "tensor([[[ 0.7098,  0.7412,  0.7333,  ...,  0.6157,  0.6314,  0.6000],\n",
              "         [ 0.6863,  0.7255,  0.7176,  ...,  0.6235,  0.6157,  0.6000],\n",
              "         [ 0.6784,  0.7098,  0.6941,  ...,  0.6157,  0.5922,  0.6000],\n",
              "         ...,\n",
              "         [ 0.0980,  0.0902,  0.0745,  ...,  0.2078,  0.2314,  0.2078],\n",
              "         [ 0.0745,  0.0745,  0.0431,  ...,  0.2078,  0.2157,  0.2314],\n",
              "         [ 0.0667,  0.1373,  0.1294,  ...,  0.1765,  0.1922,  0.3020]],\n",
              "\n",
              "        [[ 0.1137,  0.1529,  0.1451,  ..., -0.0118, -0.0039, -0.0353],\n",
              "         [ 0.0980,  0.1373,  0.1373,  ..., -0.0039, -0.0118, -0.0353],\n",
              "         [ 0.1059,  0.1373,  0.1216,  ...,  0.0039, -0.0275, -0.0275],\n",
              "         ...,\n",
              "         [-0.4431, -0.4510, -0.4275,  ..., -0.3176, -0.2941, -0.3020],\n",
              "         [-0.4196, -0.3961, -0.3412,  ..., -0.3098, -0.3020, -0.3176],\n",
              "         [-0.3412, -0.1765, -0.0902,  ..., -0.3098, -0.3333, -0.3725]],\n",
              "\n",
              "        [[-0.1451, -0.1216, -0.1373,  ..., -0.2078, -0.1922, -0.2314],\n",
              "         [-0.1451, -0.1216, -0.1294,  ..., -0.2000, -0.2000, -0.2235],\n",
              "         [-0.1294, -0.1059, -0.1216,  ..., -0.2078, -0.2235, -0.2078],\n",
              "         ...,\n",
              "         [-0.5608, -0.5451, -0.5216,  ..., -0.5373, -0.4980, -0.4824],\n",
              "         [-0.5294, -0.4667, -0.4118,  ..., -0.5294, -0.5137, -0.4980],\n",
              "         [-0.4275, -0.2235, -0.1451,  ..., -0.5373, -0.5451, -0.5294]]])"
            ]
          },
          "metadata": {},
          "execution_count": 12
        }
      ]
    },
    {
      "cell_type": "code",
      "metadata": {
        "id": "np3uTutZLuKo"
      },
      "source": [
        "from torchsummary import summary\n",
        "\n",
        "device = torch.device('cuda' if torch.cuda.is_available() else 'cpu')"
      ],
      "execution_count": null,
      "outputs": []
    },
    {
      "cell_type": "code",
      "metadata": {
        "id": "H-njH7-pLgMG"
      },
      "source": [
        "from torchvision import models\n",
        "batch_size = 16"
      ],
      "execution_count": null,
      "outputs": []
    },
    {
      "cell_type": "code",
      "metadata": {
        "colab": {
          "base_uri": "https://localhost:8080/"
        },
        "id": "UNWZXo9z6EXy",
        "outputId": "d28037f1-e701-4e25-b1c8-a10b3884d3c7"
      },
      "source": [
        "!git clone https://github.com/lukemelas/EfficientNet-PyTorch\n",
        "!cd EfficientNet-Pytorch\n",
        "!pip install -e .\n",
        "!pip install efficientnet_pytorch"
      ],
      "execution_count": null,
      "outputs": [
        {
          "output_type": "stream",
          "name": "stdout",
          "text": [
            "Cloning into 'EfficientNet-PyTorch'...\n",
            "remote: Enumerating objects: 665, done.\u001b[K\n",
            "remote: Counting objects: 100% (70/70), done.\u001b[K\n",
            "remote: Compressing objects: 100% (37/37), done.\u001b[K\n",
            "remote: Total 665 (delta 26), reused 49 (delta 22), pack-reused 595\u001b[K\n",
            "Receiving objects: 100% (665/665), 1.14 MiB | 8.12 MiB/s, done.\n",
            "Resolving deltas: 100% (341/341), done.\n",
            "/bin/bash: line 0: cd: EfficientNet-Pytorch: No such file or directory\n",
            "\u001b[31mERROR: File \"setup.py\" or \"setup.cfg\" not found. Directory cannot be installed in editable mode: /content\u001b[0m\n",
            "Collecting efficientnet_pytorch\n",
            "  Downloading efficientnet_pytorch-0.7.1.tar.gz (21 kB)\n",
            "Requirement already satisfied: torch in /usr/local/lib/python3.7/dist-packages (from efficientnet_pytorch) (1.10.0+cu111)\n",
            "Requirement already satisfied: typing-extensions in /usr/local/lib/python3.7/dist-packages (from torch->efficientnet_pytorch) (3.10.0.2)\n",
            "Building wheels for collected packages: efficientnet-pytorch\n",
            "  Building wheel for efficientnet-pytorch (setup.py) ... \u001b[?25l\u001b[?25hdone\n",
            "  Created wheel for efficientnet-pytorch: filename=efficientnet_pytorch-0.7.1-py3-none-any.whl size=16446 sha256=c5f71bd33ed248ad0dfb3f695f88c19865fd75067289b2bc125e319c8d882def\n",
            "  Stored in directory: /root/.cache/pip/wheels/0e/cc/b2/49e74588263573ff778da58cc99b9c6349b496636a7e165be6\n",
            "Successfully built efficientnet-pytorch\n",
            "Installing collected packages: efficientnet-pytorch\n",
            "Successfully installed efficientnet-pytorch-0.7.1\n"
          ]
        }
      ]
    },
    {
      "cell_type": "code",
      "metadata": {
        "id": "tmA-hhLGmOl9",
        "colab": {
          "base_uri": "https://localhost:8080/",
          "height": 84,
          "referenced_widgets": [
            "b9139421ab714faf9f1ed1cbdfd6793e",
            "592b34cf7a45417f9ded9bf8ed917387",
            "044d11e594de4f269482b5d99684a540",
            "3e8fb49e2e2049d89bce50c5a9c0cfc0",
            "bbbdb095233342f48b1278811b98d9af",
            "38a3eef611d5406e89b9227859862a0f",
            "075b0a33e4174e5fabd903ddd9d64ddb",
            "eca3aeff66b64712a6febb12363b9d2e",
            "ab2f93e46d6c4692bbecec2c37c7eb99",
            "767d42370bbc477f9ad68fdb658f88c0",
            "62b5e597f3d741fc880239f13b2f8abb"
          ]
        },
        "outputId": "5ef961fc-9548-4ea9-eec8-88ff03687882"
      },
      "source": [
        "from efficientnet_pytorch import EfficientNet\n",
        "effNet3 = EfficientNet.from_pretrained('efficientnet-b3')   #Intialising efficientnet-b0."
      ],
      "execution_count": null,
      "outputs": [
        {
          "output_type": "stream",
          "name": "stderr",
          "text": [
            "Downloading: \"https://github.com/lukemelas/EfficientNet-PyTorch/releases/download/1.0/efficientnet-b3-5fb5a3c3.pth\" to /root/.cache/torch/hub/checkpoints/efficientnet-b3-5fb5a3c3.pth\n"
          ]
        },
        {
          "output_type": "display_data",
          "data": {
            "application/vnd.jupyter.widget-view+json": {
              "model_id": "b9139421ab714faf9f1ed1cbdfd6793e",
              "version_minor": 0,
              "version_major": 2
            },
            "text/plain": [
              "  0%|          | 0.00/47.1M [00:00<?, ?B/s]"
            ]
          },
          "metadata": {}
        },
        {
          "output_type": "stream",
          "name": "stdout",
          "text": [
            "Loaded pretrained weights for efficientnet-b3\n"
          ]
        }
      ]
    },
    {
      "cell_type": "code",
      "metadata": {
        "colab": {
          "base_uri": "https://localhost:8080/"
        },
        "id": "pU_lyfEp8DF9",
        "outputId": "844c029a-67ab-49e1-e801-04aa22388fa4"
      },
      "source": [
        "effNet3._fc"
      ],
      "execution_count": null,
      "outputs": [
        {
          "output_type": "execute_result",
          "data": {
            "text/plain": [
              "Linear(in_features=1536, out_features=1000, bias=True)"
            ]
          },
          "metadata": {},
          "execution_count": 17
        }
      ]
    },
    {
      "cell_type": "code",
      "metadata": {
        "id": "KGEavxsj8C_k"
      },
      "source": [
        "import torch.nn as nn\n",
        "num_classes = 2\n",
        "class EfficientNet_b3(nn.Module):\n",
        "    def __init__(self):\n",
        "        super(EfficientNet_b3, self).__init__()\n",
        "        self.model =EfficientNet.from_pretrained('efficientnet-b3')       # Give variant as per requirement\n",
        "        \n",
        "        self.model._fc = nn.Sequential(\n",
        "            nn.Linear(self.model._fc.in_features, num_classes)                                              # Required if training with NLLLoss\n",
        "        )\n",
        "        \n",
        "    def forward(self, x):\n",
        "        out = self.model(x)\n",
        "        return out"
      ],
      "execution_count": null,
      "outputs": []
    },
    {
      "cell_type": "code",
      "metadata": {
        "colab": {
          "base_uri": "https://localhost:8080/"
        },
        "id": "bYXOfT238Cv2",
        "outputId": "b5e5246c-967e-46c7-a129-816b69ba57a0"
      },
      "source": [
        "effNet3 = EfficientNet_b3()   # Initialsing an object of the class."
      ],
      "execution_count": null,
      "outputs": [
        {
          "output_type": "stream",
          "name": "stdout",
          "text": [
            "Loaded pretrained weights for efficientnet-b3\n"
          ]
        }
      ]
    },
    {
      "cell_type": "code",
      "metadata": {
        "id": "6RtkBlgY8CqJ"
      },
      "source": [
        "device = torch.device(\"cuda:0\" if torch.cuda.is_available() else \"cpu\")"
      ],
      "execution_count": null,
      "outputs": []
    },
    {
      "cell_type": "code",
      "metadata": {
        "id": "aZANvhUS8Cln"
      },
      "source": [
        "effNet3 = effNet3.to('cuda')    # Load the model to GPU."
      ],
      "execution_count": null,
      "outputs": []
    },
    {
      "cell_type": "code",
      "metadata": {
        "id": "BK-LWy5Y8Cc4"
      },
      "source": [
        "opt = optim.Adam(effNet3.parameters())     # Defining the optimiser.\n",
        "loss_fn = nn.CrossEntropyLoss()"
      ],
      "execution_count": null,
      "outputs": []
    },
    {
      "cell_type": "code",
      "metadata": {
        "id": "DREVCBBp557E"
      },
      "source": [
        "def evaluation(dataloader, model):\n",
        "    total, correct = 0, 0\n",
        "    for data in dataloader:\n",
        "        inputs, labels = data\n",
        "        inputs, labels = inputs.to(device), labels.to(device)\n",
        "        outputs = model(inputs)\n",
        "        _, pred = torch.max(outputs.data, 1)\n",
        "        total += labels.size(0)\n",
        "        correct += (pred == labels).sum().item()\n",
        "    return 100 * correct / total"
      ],
      "execution_count": null,
      "outputs": []
    },
    {
      "cell_type": "code",
      "metadata": {
        "colab": {
          "base_uri": "https://localhost:8080/",
          "height": 696
        },
        "id": "-CuSkEmd8TIq",
        "outputId": "81dd9ea9-e2a4-45f9-bcc2-cd45a4c581c0"
      },
      "source": [
        "loss_epoch_arr = []\n",
        "max_epochs = 5\n",
        "\n",
        "n_iters = np.ceil(5000/batch_size)\n",
        "\n",
        "for epoch in range(max_epochs):\n",
        "\n",
        "    for i, data in enumerate(trainloader, 0):\n",
        "\n",
        "        inputs, labels = data\n",
        "        inputs, labels = inputs.to(device), labels.to(device)\n",
        "\n",
        "        opt.zero_grad()\n",
        "\n",
        "        outputs = effNet3(inputs)\n",
        "        loss = loss_fn(outputs, labels)\n",
        "        loss.backward()\n",
        "        opt.step()\n",
        "        \n",
        "        del inputs, labels, outputs\n",
        "        torch.cuda.empty_cache()\n",
        "        \n",
        "        if i % 100 == 0:\n",
        "            print('Iteration: %d/%d, Loss: %0.2f' % (i, n_iters, loss.item()))\n",
        "        \n",
        "    loss_epoch_arr.append(loss.item())\n",
        "        \n",
        "    print('Epoch: %d/%d, Test acc: %0.2f, Train acc: %0.2f' % (\n",
        "        epoch, max_epochs, \n",
        "        evaluation(testloader, effNet3), evaluation(trainloader, effNet3)))\n",
        "    \n",
        "plt.plot(loss_epoch_arr)\n",
        "plt.show()"
      ],
      "execution_count": null,
      "outputs": [
        {
          "output_type": "stream",
          "name": "stdout",
          "text": [
            "Iteration: 0/313, Loss: 0.65\n",
            "Iteration: 100/313, Loss: 0.17\n",
            "Iteration: 200/313, Loss: 0.27\n",
            "Iteration: 300/313, Loss: 0.29\n",
            "Epoch: 0/5, Test acc: 87.90, Train acc: 88.82\n",
            "Iteration: 0/313, Loss: 0.18\n",
            "Iteration: 100/313, Loss: 0.18\n",
            "Iteration: 200/313, Loss: 0.43\n",
            "Iteration: 300/313, Loss: 0.18\n",
            "Epoch: 1/5, Test acc: 86.70, Train acc: 89.32\n",
            "Iteration: 0/313, Loss: 0.30\n",
            "Iteration: 100/313, Loss: 0.32\n",
            "Iteration: 200/313, Loss: 0.12\n",
            "Iteration: 300/313, Loss: 0.29\n",
            "Epoch: 2/5, Test acc: 88.30, Train acc: 90.60\n",
            "Iteration: 0/313, Loss: 0.18\n",
            "Iteration: 100/313, Loss: 0.24\n",
            "Iteration: 200/313, Loss: 0.25\n",
            "Iteration: 300/313, Loss: 0.45\n",
            "Epoch: 3/5, Test acc: 89.60, Train acc: 90.28\n",
            "Iteration: 0/313, Loss: 0.30\n",
            "Iteration: 100/313, Loss: 0.39\n",
            "Iteration: 200/313, Loss: 0.33\n",
            "Iteration: 300/313, Loss: 0.18\n",
            "Epoch: 4/5, Test acc: 88.30, Train acc: 91.34\n"
          ]
        },
        {
          "output_type": "display_data",
          "data": {
            "image/png": "[encoded data removed]",
            "text/plain": [
              "<Figure size 432x288 with 1 Axes>"
            ]
          },
          "metadata": {
            "needs_background": "light"
          }
        }
      ]
    },
    {
      "cell_type": "code",
      "metadata": {
        "id": "JxqRxPdMfnef"
      },
      "source": [
        "test_train = [[88.82, 87.90], [ 89.32, 86.70], [ 90.60, 88.30], [ 90.28, 89.60], [91.34, 88.30]]"
      ],
      "execution_count": null,
      "outputs": []
    },
    {
      "cell_type": "code",
      "metadata": {
        "colab": {
          "base_uri": "https://localhost:8080/",
          "height": 294
        },
        "id": "FCXVrUs6w797",
        "outputId": "4ac39b2b-ebb2-4dac-b18a-8335a2834c23"
      },
      "source": [
        "epoch = [1,2,3,4,5]\n",
        "fig = plt.figure();\n",
        "fig.suptitle('Accuracy Comparison');\n",
        "ax = fig.add_subplot(111);\n",
        "plt.boxplot(test_train);\n",
        "ax.set_xticklabels(epoch);\n",
        "plt.show();"
      ],
      "execution_count": null,
      "outputs": [
        {
          "output_type": "display_data",
          "data": {
            "image/png": "[encoded data removed]",
            "text/plain": [
              "<Figure size 432x288 with 1 Axes>"
            ]
          },
          "metadata": {
            "needs_background": "light"
          }
        }
      ]
    },
    {
      "cell_type": "code",
      "metadata": {
        "id": "YL_uD8wow_nQ"
      },
      "source": [
        "train_accuracy = [88.82, 89.32, 90.60, 90.28, 91.34] \n",
        "test_accuracy = [87.90, 86.70, 88.30, 89.60, 88.30] "
      ],
      "execution_count": null,
      "outputs": []
    },
    {
      "cell_type": "code",
      "metadata": {
        "colab": {
          "base_uri": "https://localhost:8080/"
        },
        "id": "WZWb_jBW0hAN",
        "outputId": "008416cd-4865-4ed1-b1e3-82fcfc128ed2"
      },
      "source": [
        "sum(test_accuracy)/len(test_accuracy)"
      ],
      "execution_count": null,
      "outputs": [
        {
          "output_type": "execute_result",
          "data": {
            "text/plain": [
              "88.16"
            ]
          },
          "metadata": {},
          "execution_count": 28
        }
      ]
    },
    {
      "cell_type": "code",
      "metadata": {
        "id": "wepTskJg0lwX"
      },
      "source": [
        ""
      ],
      "execution_count": null,
      "outputs": []
    }
  ]
}